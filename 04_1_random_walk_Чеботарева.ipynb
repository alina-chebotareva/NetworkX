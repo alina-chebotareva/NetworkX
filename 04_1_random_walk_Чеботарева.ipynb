{
  "cells": [
    {
      "cell_type": "markdown",
      "id": "29eedd06-4cd6-41fc-aa4e-569dd4f521bd",
      "metadata": {
        "id": "29eedd06-4cd6-41fc-aa4e-569dd4f521bd"
      },
      "source": [
        "# Случайное блуждание"
      ]
    },
    {
      "cell_type": "markdown",
      "id": "f6b687e9-05ef-4908-8bde-2b5dbbe576b6",
      "metadata": {
        "id": "f6b687e9-05ef-4908-8bde-2b5dbbe576b6"
      },
      "source": [
        "__Автор задач: Блохин Н.В. (NVBlokhin@fa.ru)__\n",
        "\n",
        "Материалы:\n",
        "* Макрушин С.В. \"Лекция 5: Случайные блуждания на графах\"\n",
        "* Документация:\n",
        "    * https://networkx.org/documentation/stable/reference/generated/networkx.generators.social.karate_club_graph.html\n",
        "    * https://numpy.org/doc/stable/reference/generated/numpy.diag.html\n",
        "    * https://numpy.org/doc/stable/reference/generated/numpy.linalg.norm.html\n",
        "    * https://numpy.org/doc/stable/reference/generated/numpy.linalg.matrix_power.html\n",
        "    * https://numpy.org/doc/stable/reference/generated/numpy.allclose.html"
      ]
    },
    {
      "cell_type": "markdown",
      "id": "a13ab35d-a7c0-4237-a394-691389c7c773",
      "metadata": {
        "id": "a13ab35d-a7c0-4237-a394-691389c7c773"
      },
      "source": [
        "## Вопросы для совместного обсуждения"
      ]
    },
    {
      "cell_type": "markdown",
      "id": "7ea53db8-da33-43ee-95e0-9876384499c1",
      "metadata": {
        "id": "7ea53db8-da33-43ee-95e0-9876384499c1"
      },
      "source": [
        "1\\. Обсудите понятие случайного блуждания на графах."
      ]
    },
    {
      "cell_type": "code",
      "source": [
        "import networkx as nx"
      ],
      "metadata": {
        "id": "4Chh19mOi7ve"
      },
      "id": "4Chh19mOi7ve",
      "execution_count": 5,
      "outputs": []
    },
    {
      "cell_type": "code",
      "source": [
        "G = nx.karate_club_graph()"
      ],
      "metadata": {
        "id": "6Av9rsdjjKMM"
      },
      "id": "6Av9rsdjjKMM",
      "execution_count": 6,
      "outputs": []
    },
    {
      "cell_type": "code",
      "source": [
        "G.edges(data=\"weight\")"
      ],
      "metadata": {
        "id": "kDTTjqsWjYWT",
        "colab": {
          "base_uri": "https://localhost:8080/"
        },
        "outputId": "03e46ba8-1407-49e0-b6f7-4812063df5e8"
      },
      "id": "kDTTjqsWjYWT",
      "execution_count": 7,
      "outputs": [
        {
          "output_type": "execute_result",
          "data": {
            "text/plain": [
              "EdgeDataView([(0, 1, 4), (0, 2, 5), (0, 3, 3), (0, 4, 3), (0, 5, 3), (0, 6, 3), (0, 7, 2), (0, 8, 2), (0, 10, 2), (0, 11, 3), (0, 12, 1), (0, 13, 3), (0, 17, 2), (0, 19, 2), (0, 21, 2), (0, 31, 2), (1, 2, 6), (1, 3, 3), (1, 7, 4), (1, 13, 5), (1, 17, 1), (1, 19, 2), (1, 21, 2), (1, 30, 2), (2, 3, 3), (2, 7, 4), (2, 8, 5), (2, 9, 1), (2, 13, 3), (2, 27, 2), (2, 28, 2), (2, 32, 2), (3, 7, 3), (3, 12, 3), (3, 13, 3), (4, 6, 2), (4, 10, 3), (5, 6, 5), (5, 10, 3), (5, 16, 3), (6, 16, 3), (8, 30, 3), (8, 32, 3), (8, 33, 4), (9, 33, 2), (13, 33, 3), (14, 32, 3), (14, 33, 2), (15, 32, 3), (15, 33, 4), (18, 32, 1), (18, 33, 2), (19, 33, 1), (20, 32, 3), (20, 33, 1), (22, 32, 2), (22, 33, 3), (23, 25, 5), (23, 27, 4), (23, 29, 3), (23, 32, 5), (23, 33, 4), (24, 25, 2), (24, 27, 3), (24, 31, 2), (25, 31, 7), (26, 29, 4), (26, 33, 2), (27, 33, 4), (28, 31, 2), (28, 33, 2), (29, 32, 4), (29, 33, 2), (30, 32, 3), (30, 33, 3), (31, 32, 4), (31, 33, 4), (32, 33, 5)])"
            ]
          },
          "metadata": {},
          "execution_count": 7
        }
      ]
    },
    {
      "cell_type": "code",
      "source": [
        "A = nx.adjacency_matrix(G, weight=None).toarray()\n",
        "A"
      ],
      "metadata": {
        "colab": {
          "base_uri": "https://localhost:8080/"
        },
        "id": "OixsKApGjLtH",
        "outputId": "56673e53-b827-4234-8218-2757115861fb"
      },
      "id": "OixsKApGjLtH",
      "execution_count": 8,
      "outputs": [
        {
          "output_type": "execute_result",
          "data": {
            "text/plain": [
              "array([[0, 1, 1, ..., 1, 0, 0],\n",
              "       [1, 0, 1, ..., 0, 0, 0],\n",
              "       [1, 1, 0, ..., 0, 1, 0],\n",
              "       ...,\n",
              "       [1, 0, 0, ..., 0, 1, 1],\n",
              "       [0, 0, 1, ..., 1, 0, 1],\n",
              "       [0, 0, 0, ..., 1, 1, 0]])"
            ]
          },
          "metadata": {},
          "execution_count": 8
        }
      ]
    },
    {
      "cell_type": "code",
      "source": [
        "A[0] / A[0].sum()"
      ],
      "metadata": {
        "colab": {
          "base_uri": "https://localhost:8080/"
        },
        "id": "fx8gKKE_jlKg",
        "outputId": "857ded22-3ccb-4d84-afec-03cff2175ae9"
      },
      "id": "fx8gKKE_jlKg",
      "execution_count": 9,
      "outputs": [
        {
          "output_type": "execute_result",
          "data": {
            "text/plain": [
              "array([0.    , 0.0625, 0.0625, 0.0625, 0.0625, 0.0625, 0.0625, 0.0625,\n",
              "       0.0625, 0.    , 0.0625, 0.0625, 0.0625, 0.0625, 0.    , 0.    ,\n",
              "       0.    , 0.0625, 0.    , 0.0625, 0.    , 0.0625, 0.    , 0.    ,\n",
              "       0.    , 0.    , 0.    , 0.    , 0.    , 0.    , 0.    , 0.0625,\n",
              "       0.    , 0.    ])"
            ]
          },
          "metadata": {},
          "execution_count": 9
        }
      ]
    },
    {
      "cell_type": "code",
      "source": [
        "import numpy as np\n",
        "\n",
        "D = np.diag([1, 2, 3, 4])\n",
        "D"
      ],
      "metadata": {
        "colab": {
          "base_uri": "https://localhost:8080/"
        },
        "id": "tXQAUphdj8SX",
        "outputId": "3045878d-d1a5-4983-e8f5-1ef9df979ca2"
      },
      "id": "tXQAUphdj8SX",
      "execution_count": 10,
      "outputs": [
        {
          "output_type": "execute_result",
          "data": {
            "text/plain": [
              "array([[1, 0, 0, 0],\n",
              "       [0, 2, 0, 0],\n",
              "       [0, 0, 3, 0],\n",
              "       [0, 0, 0, 4]])"
            ]
          },
          "metadata": {},
          "execution_count": 10
        }
      ]
    },
    {
      "cell_type": "markdown",
      "id": "5f786de8-ba69-4d86-b997-e55c9028acad",
      "metadata": {
        "id": "5f786de8-ba69-4d86-b997-e55c9028acad"
      },
      "source": [
        "## Задачи для самостоятельного решения"
      ]
    },
    {
      "cell_type": "markdown",
      "id": "c08a6cb0-9b05-4a80-a4cc-a2f70d9cbfd7",
      "metadata": {
        "id": "c08a6cb0-9b05-4a80-a4cc-a2f70d9cbfd7"
      },
      "source": [
        "<p class=\"task\" id=\"1\"></p>\n",
        "\n",
        "1\\. Загрузите граф карате-клуба. Получите матрицу смежности `A` этого графа. Получите на ее основе матрицу переходов `P` по следующему правилу:\n",
        "\n",
        "$$\\mathbf{P}=\\mathbf{D}^{-1}\\mathbf{A}$$\n",
        "\n",
        "Продемонстрируйте, что выполняются условия (1) и (2).\n",
        "\n",
        "$0 \\le p_{ij} \\le 1$ (1)\n",
        "\n",
        "$\\sum_j p_{ij}=1$    (2)\n",
        "\n",
        "- [X] Проверено на семинаре"
      ]
    },
    {
      "cell_type": "code",
      "source": [
        "import networkx as nx\n",
        "import numpy as np"
      ],
      "metadata": {
        "id": "6cSKyodFn4KT"
      },
      "id": "6cSKyodFn4KT",
      "execution_count": 11,
      "outputs": []
    },
    {
      "cell_type": "code",
      "source": [
        "G = nx.karate_club_graph()\n",
        "A = nx.adjacency_matrix(G, weight=None).toarray()"
      ],
      "metadata": {
        "id": "Q1ICaFwPnk7e"
      },
      "id": "Q1ICaFwPnk7e",
      "execution_count": 12,
      "outputs": []
    },
    {
      "cell_type": "code",
      "source": [
        "D = np.diag(np.sum(A, axis=1))\n",
        "P = np.dot(np.linalg.inv(D), A)"
      ],
      "metadata": {
        "id": "2wmbsMOonlEA"
      },
      "id": "2wmbsMOonlEA",
      "execution_count": 13,
      "outputs": []
    },
    {
      "cell_type": "code",
      "source": [
        "np.all((P >= 0) & (P <= 1)) # 1 условие"
      ],
      "metadata": {
        "colab": {
          "base_uri": "https://localhost:8080/"
        },
        "id": "RPnEyM6uof2W",
        "outputId": "c6b160b9-252d-4bea-85fb-1f80aaca31ba"
      },
      "id": "RPnEyM6uof2W",
      "execution_count": 14,
      "outputs": [
        {
          "output_type": "execute_result",
          "data": {
            "text/plain": [
              "True"
            ]
          },
          "metadata": {},
          "execution_count": 14
        }
      ]
    },
    {
      "cell_type": "code",
      "source": [
        "np.allclose(np.sum(P, axis=1), 1) # 2 условие"
      ],
      "metadata": {
        "colab": {
          "base_uri": "https://localhost:8080/"
        },
        "id": "9lWGWVePof5z",
        "outputId": "5c4644b1-417d-4da4-ac62-574b4bac50e1"
      },
      "id": "9lWGWVePof5z",
      "execution_count": 15,
      "outputs": [
        {
          "output_type": "execute_result",
          "data": {
            "text/plain": [
              "True"
            ]
          },
          "metadata": {},
          "execution_count": 15
        }
      ]
    },
    {
      "cell_type": "code",
      "source": [],
      "metadata": {
        "id": "nE5Lf7pxrGny"
      },
      "id": "nE5Lf7pxrGny",
      "execution_count": 15,
      "outputs": []
    },
    {
      "cell_type": "markdown",
      "id": "1627fe14-1c25-4234-b887-8d295589f26a",
      "metadata": {
        "id": "1627fe14-1c25-4234-b887-8d295589f26a"
      },
      "source": [
        "<p class=\"task\" id=\"2\"></p>\n",
        "\n",
        "2\\. Создайте вектор начального состояния $\\mathbf{p}^0 = [0, ..., 1]^T$. Получите стационарное состояние $\\mathbf{p}^\\infty$, используя итеративную процедуру\n",
        "\n",
        "$\\mathbf{p}^{t+1}=(\\mathbf{P}^{\\top})\\mathbf{p}^t$\n",
        "\n",
        "Процесс заканчивается, когда $||\\mathbf{p}^{t+1} - \\mathbf{p}^{t}|| < \\epsilon $\n",
        "\n",
        "Выведите полученный вектор стационарного состояния на экран.\n",
        "\n",
        "- [X] Проверено на семинаре"
      ]
    },
    {
      "cell_type": "code",
      "source": [
        "p_0 = np.zeros(len(G))\n",
        "p_0[-1] = 1"
      ],
      "metadata": {
        "id": "GYKNQpwPrK35"
      },
      "id": "GYKNQpwPrK35",
      "execution_count": 16,
      "outputs": []
    },
    {
      "cell_type": "code",
      "source": [
        "p_t = p_0\n",
        "p_next = np.dot(P.T, p_t)"
      ],
      "metadata": {
        "id": "QO2ghVz0nmBa"
      },
      "id": "QO2ghVz0nmBa",
      "execution_count": 17,
      "outputs": []
    },
    {
      "cell_type": "code",
      "source": [
        "e = 0.00001"
      ],
      "metadata": {
        "id": "itZUMuSFslZz"
      },
      "id": "itZUMuSFslZz",
      "execution_count": 18,
      "outputs": []
    },
    {
      "cell_type": "code",
      "source": [
        "while np.linalg.norm(p_next - p_t) >= e:\n",
        "    p_t = p_next\n",
        "    p_next = np.dot(P.T, p_t)"
      ],
      "metadata": {
        "id": "ATImcbIYsDS6"
      },
      "id": "ATImcbIYsDS6",
      "execution_count": 19,
      "outputs": []
    },
    {
      "cell_type": "code",
      "source": [
        "p_next"
      ],
      "metadata": {
        "colab": {
          "base_uri": "https://localhost:8080/"
        },
        "id": "dTyhs_DKsDYL",
        "outputId": "42a7431f-0820-4e03-a72d-72c7992731ce"
      },
      "id": "dTyhs_DKsDYL",
      "execution_count": 20,
      "outputs": [
        {
          "output_type": "execute_result",
          "data": {
            "text/plain": [
              "array([0.10253661, 0.05768442, 0.06410322, 0.038455  , 0.01922004,\n",
              "       0.02562496, 0.02562496, 0.02563685, 0.03205402, 0.01282234,\n",
              "       0.01922004, 0.00640828, 0.01281728, 0.03204886, 0.0128242 ,\n",
              "       0.0128242 , 0.01281126, 0.01281752, 0.0128242 , 0.01922953,\n",
              "       0.0128242 , 0.01281752, 0.0128242 , 0.03206145, 0.01923621,\n",
              "       0.0192366 , 0.01282469, 0.02564728, 0.01923399, 0.02564947,\n",
              "       0.02564434, 0.03846881, 0.07694329, 0.10900016])"
            ]
          },
          "metadata": {},
          "execution_count": 20
        }
      ]
    },
    {
      "cell_type": "markdown",
      "id": "83e349d5-0e05-436b-9ecd-badbd2844fa4",
      "metadata": {
        "id": "83e349d5-0e05-436b-9ecd-badbd2844fa4"
      },
      "source": [
        "<p class=\"task\" id=\"3\"></p>\n",
        "\n",
        "3\\. Найдите матрицу перехода к стационарному состоянию $(\\mathbf{P}^{\\top})^\\infty$ при помощи процедуры возведения матрицы в степень.\n",
        "\n",
        "Докажите, что полученная матрица является матрицей стационарного состояния, т.е. $||(\\mathbf{P}^{\\top})^{\\infty}  -(\\mathbf{P}^{\\top})(\\mathbf{P}^{\\top})^{\\infty}|| <= \\epsilon$\n",
        "\n",
        "Выведите полученную матрицу на экран.\n",
        "\n",
        "- [X] Проверено на семинаре"
      ]
    },
    {
      "cell_type": "code",
      "source": [
        "P_inf = np.linalg.matrix_power(P.T, 1000)"
      ],
      "metadata": {
        "id": "UQhiBlY1nmuL"
      },
      "id": "UQhiBlY1nmuL",
      "execution_count": 21,
      "outputs": []
    },
    {
      "cell_type": "code",
      "source": [
        "e = 0.00001\n",
        "np.linalg.norm(P_inf - np.dot(P.T, P_inf)) <= e"
      ],
      "metadata": {
        "colab": {
          "base_uri": "https://localhost:8080/"
        },
        "id": "xfORyWO4nmxW",
        "outputId": "39536ee0-1373-4e7a-dbe6-c5d435403b0a"
      },
      "id": "xfORyWO4nmxW",
      "execution_count": 22,
      "outputs": [
        {
          "output_type": "execute_result",
          "data": {
            "text/plain": [
              "True"
            ]
          },
          "metadata": {},
          "execution_count": 22
        }
      ]
    },
    {
      "cell_type": "code",
      "source": [
        "P_inf"
      ],
      "metadata": {
        "colab": {
          "base_uri": "https://localhost:8080/"
        },
        "id": "HfbwUciynm0M",
        "outputId": "56099b1e-8b8d-445e-c815-010f6bef5a49"
      },
      "id": "HfbwUciynm0M",
      "execution_count": 23,
      "outputs": [
        {
          "output_type": "execute_result",
          "data": {
            "text/plain": [
              "array([[0.1025641 , 0.1025641 , 0.1025641 , ..., 0.1025641 , 0.1025641 ,\n",
              "        0.1025641 ],\n",
              "       [0.05769231, 0.05769231, 0.05769231, ..., 0.05769231, 0.05769231,\n",
              "        0.05769231],\n",
              "       [0.06410256, 0.06410256, 0.06410256, ..., 0.06410256, 0.06410256,\n",
              "        0.06410256],\n",
              "       ...,\n",
              "       [0.03846154, 0.03846154, 0.03846154, ..., 0.03846154, 0.03846154,\n",
              "        0.03846154],\n",
              "       [0.07692308, 0.07692308, 0.07692308, ..., 0.07692308, 0.07692308,\n",
              "        0.07692308],\n",
              "       [0.10897436, 0.10897436, 0.10897436, ..., 0.10897436, 0.10897436,\n",
              "        0.10897436]])"
            ]
          },
          "metadata": {},
          "execution_count": 23
        }
      ]
    },
    {
      "cell_type": "code",
      "source": [],
      "metadata": {
        "id": "s2nsft0Pu9Fp"
      },
      "id": "s2nsft0Pu9Fp",
      "execution_count": 23,
      "outputs": []
    },
    {
      "cell_type": "markdown",
      "id": "1ddf9392-8ee3-45c2-b462-f2f8a9ceb9ca",
      "metadata": {
        "id": "1ddf9392-8ee3-45c2-b462-f2f8a9ceb9ca"
      },
      "source": [
        "<p class=\"task\" id=\"4\"></p>\n",
        "\n",
        "4\\. Cоздайте вектор начального состояния $\\mathbf{p}^0 = [0, ..., 1]^T $. Получите стационарное состояние $\\mathbf{p}^\\infty$, воспользовавшись полученной матрицей $(\\mathbf{P}^{\\top})^\\infty$. Решите задачу двумя способами: при помощи матричного умножения и при помощи оператора индексации.\n",
        "\n",
        "Используя функцию `np.allclose`, покажите, что векторы стационарных состояний, полученные двумя разными методами, совпадают (с точностью до тысячных).\n",
        "\n",
        "- [ ] Проверено на семинаре"
      ]
    },
    {
      "cell_type": "code",
      "source": [
        "p_0 = np.zeros(len(G))\n",
        "p_0[-1] = 1"
      ],
      "metadata": {
        "id": "zNg4qZNSwZFw"
      },
      "execution_count": 51,
      "outputs": [],
      "id": "zNg4qZNSwZFw"
    },
    {
      "cell_type": "code",
      "source": [
        "P_inf = np.linalg.matrix_power(P.T, 1000)"
      ],
      "metadata": {
        "id": "fKqVWWwO6-2a"
      },
      "id": "fKqVWWwO6-2a",
      "execution_count": 52,
      "outputs": []
    },
    {
      "cell_type": "code",
      "source": [
        "p_inf_1 = P_inf.dot(p_0) #матричное умножение"
      ],
      "metadata": {
        "id": "g9TdCUG3wZGA"
      },
      "execution_count": 53,
      "outputs": [],
      "id": "g9TdCUG3wZGA"
    },
    {
      "cell_type": "code",
      "source": [
        "p_inf_2 = P_inf[:, -1] #индексация"
      ],
      "metadata": {
        "id": "3AEbpauznnO_"
      },
      "id": "3AEbpauznnO_",
      "execution_count": 54,
      "outputs": []
    },
    {
      "cell_type": "code",
      "source": [
        "np.allclose(p_inf_1, p_inf_2, atol=0.001)\n"
      ],
      "metadata": {
        "id": "K1LfAZyhyCpu",
        "colab": {
          "base_uri": "https://localhost:8080/"
        },
        "outputId": "f9d4646b-d727-41c9-885d-e9c09f28ae4f"
      },
      "id": "K1LfAZyhyCpu",
      "execution_count": 55,
      "outputs": [
        {
          "output_type": "execute_result",
          "data": {
            "text/plain": [
              "True"
            ]
          },
          "metadata": {},
          "execution_count": 55
        }
      ]
    },
    {
      "cell_type": "code",
      "source": [],
      "metadata": {
        "id": "bW0tb8ZrnnSy"
      },
      "id": "bW0tb8ZrnnSy",
      "execution_count": 25,
      "outputs": []
    },
    {
      "cell_type": "markdown",
      "id": "dd85a863-f864-4b7f-b88c-f96c469cbd3c",
      "metadata": {
        "id": "dd85a863-f864-4b7f-b88c-f96c469cbd3c"
      },
      "source": [
        "<p class=\"task\" id=\"5\"></p>\n",
        "\n",
        "5\\. Напишите функцию `generate_walk`, которая принимает на вход граф `G`, начальный узел `node` и генерирует случайное блуждание длины `walk_len`, начинающееся с этого узла. Сгенерируйте несколько реализаций (не меньше 1000) случайных блужданий длины 10 с началом в узле 7 и выясните, в каком узле случайные блуждания заканчиваются чаще всего. Выведите номер этого узла на экран.\n",
        "\n",
        "- [ ] Проверено на семинаре"
      ]
    },
    {
      "cell_type": "code",
      "execution_count": 26,
      "id": "48c809ff",
      "metadata": {
        "id": "48c809ff"
      },
      "outputs": [],
      "source": [
        "def generate_walk(G, node, walk_len):\n",
        "    # ...\n",
        "    return walk"
      ]
    },
    {
      "cell_type": "code",
      "source": [
        "import random"
      ],
      "metadata": {
        "id": "aa7bxtVf6KN7"
      },
      "id": "aa7bxtVf6KN7",
      "execution_count": 27,
      "outputs": []
    },
    {
      "cell_type": "code",
      "source": [
        "def generate_walk(G, node, walk_len):\n",
        "    walk = [node]\n",
        "    current_node = node\n",
        "    for _ in range(walk_len - 1):\n",
        "        neighbors = list(G.neighbors(current_node))\n",
        "        if neighbors:\n",
        "            next_node = random.choice(neighbors)\n",
        "            walk.append(next_node)\n",
        "            current_node = next_node\n",
        "        else:\n",
        "            break\n",
        "    return walk"
      ],
      "metadata": {
        "id": "1sj-3RiznohX"
      },
      "id": "1sj-3RiznohX",
      "execution_count": 41,
      "outputs": []
    },
    {
      "cell_type": "code",
      "source": [
        "G = nx.karate_club_graph()"
      ],
      "metadata": {
        "id": "-09SkR1qnolB"
      },
      "id": "-09SkR1qnolB",
      "execution_count": 42,
      "outputs": []
    },
    {
      "cell_type": "code",
      "source": [
        "node_counts = {}"
      ],
      "metadata": {
        "id": "zbbqI8Vanots"
      },
      "id": "zbbqI8Vanots",
      "execution_count": 43,
      "outputs": []
    },
    {
      "cell_type": "code",
      "source": [
        "for _ in range(1500):\n",
        "    end_node = generate_walk(G, 7, 10)[-1]\n",
        "    if end_node in node_counts:\n",
        "        node_counts[end_node] += 1\n",
        "    else:\n",
        "        node_counts[end_node] = 1"
      ],
      "metadata": {
        "id": "r9VGJ1hZnowz"
      },
      "id": "r9VGJ1hZnowz",
      "execution_count": 44,
      "outputs": []
    },
    {
      "cell_type": "code",
      "source": [
        "node = max(node_counts, key=node_counts.get)"
      ],
      "metadata": {
        "id": "Xf5jQzxN6nMk"
      },
      "id": "Xf5jQzxN6nMk",
      "execution_count": 45,
      "outputs": []
    },
    {
      "cell_type": "code",
      "source": [
        "node"
      ],
      "metadata": {
        "colab": {
          "base_uri": "https://localhost:8080/"
        },
        "id": "RsYL7ydH6qIr",
        "outputId": "3b3c577a-d3d1-4eac-e9fe-a0bdf6c35a34"
      },
      "id": "RsYL7ydH6qIr",
      "execution_count": 46,
      "outputs": [
        {
          "output_type": "execute_result",
          "data": {
            "text/plain": [
              "0"
            ]
          },
          "metadata": {},
          "execution_count": 46
        }
      ]
    },
    {
      "cell_type": "code",
      "source": [],
      "metadata": {
        "id": "jz-62KhG6rcl"
      },
      "id": "jz-62KhG6rcl",
      "execution_count": null,
      "outputs": []
    }
  ],
  "metadata": {
    "kernelspec": {
      "display_name": "Python 3 (ipykernel)",
      "language": "python",
      "name": "python3"
    },
    "language_info": {
      "codemirror_mode": {
        "name": "ipython",
        "version": 3
      },
      "file_extension": ".py",
      "mimetype": "text/x-python",
      "name": "python",
      "nbconvert_exporter": "python",
      "pygments_lexer": "ipython3",
      "version": "3.10.0"
    },
    "colab": {
      "provenance": []
    }
  },
  "nbformat": 4,
  "nbformat_minor": 5
}