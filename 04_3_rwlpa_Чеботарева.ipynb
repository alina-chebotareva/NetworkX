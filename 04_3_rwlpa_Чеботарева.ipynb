{
  "cells": [
    {
      "cell_type": "markdown",
      "id": "29eedd06-4cd6-41fc-aa4e-569dd4f521bd",
      "metadata": {
        "id": "29eedd06-4cd6-41fc-aa4e-569dd4f521bd"
      },
      "source": [
        "# Метод распространения меток на основе случайных блужданий (RW-LPA)"
      ]
    },
    {
      "cell_type": "markdown",
      "id": "f6b687e9-05ef-4908-8bde-2b5dbbe576b6",
      "metadata": {
        "id": "f6b687e9-05ef-4908-8bde-2b5dbbe576b6"
      },
      "source": [
        "__Автор задач: Блохин Н.В. (NVBlokhin@fa.ru)__\n",
        "\n",
        "Материалы:\n",
        "* Макрушин С.В. \"Лекция 5: Случайные блуждания на графах\"\n",
        "* Документация:\n",
        "    * https://networkx.org/documentation/stable/reference/generated/networkx.linalg.graphmatrix.adjacency_matrix.html\n",
        "    * https://numpy.org/doc/stable/reference/generated/numpy.linalg.matrix_power.html\n",
        "    * https://numpy.org/doc/stable/reference/generated/numpy.linalg.inv.html"
      ]
    },
    {
      "cell_type": "markdown",
      "id": "a13ab35d-a7c0-4237-a394-691389c7c773",
      "metadata": {
        "id": "a13ab35d-a7c0-4237-a394-691389c7c773"
      },
      "source": [
        "## Вопросы для совместного обсуждения"
      ]
    },
    {
      "cell_type": "markdown",
      "id": "7ea53db8-da33-43ee-95e0-9876384499c1",
      "metadata": {
        "id": "7ea53db8-da33-43ee-95e0-9876384499c1"
      },
      "source": [
        "1\\. Обсудите принцип работы алгоритма RW-LPA, принцип построения блочной матрицы $\\mathbf{P}$ и матрицы начального состояния меток $\\mathbf{Y_0}$.\n",
        "\n",
        "$$\\mathbf{P} = \\begin{pmatrix}\n",
        "\\mathbf{P}_{ll}& \\mathbf{P}_{lu}\\\\\n",
        "\\mathbf{P}_{ul}& \\mathbf{P}_{uu}\\\\\n",
        "\\end{pmatrix} = \\begin{pmatrix}\n",
        "\\mathbf{I}& \\mathbf{0}\\\\\n",
        "\\mathbf{P}_{ul}& \\mathbf{P}_{uu}\\\\\n",
        "\\end{pmatrix}$$\n",
        "\n",
        "$$\\mathbf{Y_0} = \\begin{pmatrix}\n",
        "\\mathbf{Y_{l}}\\\\\n",
        "\\mathbf{Y_{u}}\\\\\n",
        "\\end{pmatrix}= \\begin{pmatrix}\n",
        "\\mathbf{Y_{l}}\\\\\n",
        "\\mathbf{0}\\\\\n",
        "\\end{pmatrix}$$"
      ]
    },
    {
      "cell_type": "code",
      "source": [
        "import networkx as nx\n",
        "\n",
        "G = nx.barbell_graph(3, 1)\n",
        "nx.draw(G, with_labels=True)"
      ],
      "metadata": {
        "colab": {
          "base_uri": "https://localhost:8080/",
          "height": 516
        },
        "id": "dsEaEUzQmk2l",
        "outputId": "0e81aff2-282b-4374-9013-1acc6a748614"
      },
      "id": "dsEaEUzQmk2l",
      "execution_count": 437,
      "outputs": [
        {
          "output_type": "display_data",
          "data": {
            "text/plain": [
              "<Figure size 640x480 with 1 Axes>"
            ],
            "image/png": "[encoded data removed]"
          },
          "metadata": {}
        }
      ]
    },
    {
      "cell_type": "code",
      "source": [
        "comm1 = [1]\n",
        "comm2 = [5]\n",
        "unlabeled = list(set(G).difference(comm1).difference(comm2))\n",
        "\n",
        "n_comms = 2"
      ],
      "metadata": {
        "id": "C0_TKjEwm0oO"
      },
      "id": "C0_TKjEwm0oO",
      "execution_count": 438,
      "outputs": []
    },
    {
      "cell_type": "code",
      "source": [
        "nodes_order = [\n",
        "    *comm1,\n",
        "    *comm2,\n",
        "    *unlabeled\n",
        "]\n",
        "\n",
        "A = nx.adjacency_matrix(G, nodelist=nodes_order).toarray()\n",
        "A"
      ],
      "metadata": {
        "colab": {
          "base_uri": "https://localhost:8080/"
        },
        "id": "1V0nC4o9nbSe",
        "outputId": "a4fa5ffd-fa2f-486b-f8ce-eee750ce7db3"
      },
      "id": "1V0nC4o9nbSe",
      "execution_count": 439,
      "outputs": [
        {
          "output_type": "execute_result",
          "data": {
            "text/plain": [
              "array([[0, 0, 1, 1, 0, 0, 0],\n",
              "       [0, 0, 0, 0, 0, 1, 1],\n",
              "       [1, 0, 0, 1, 0, 0, 0],\n",
              "       [1, 0, 1, 0, 1, 0, 0],\n",
              "       [0, 0, 0, 1, 0, 1, 0],\n",
              "       [0, 1, 0, 0, 1, 0, 1],\n",
              "       [0, 1, 0, 0, 0, 1, 0]])"
            ]
          },
          "metadata": {},
          "execution_count": 439
        }
      ]
    },
    {
      "cell_type": "code",
      "source": [
        "nodes_order"
      ],
      "metadata": {
        "colab": {
          "base_uri": "https://localhost:8080/"
        },
        "id": "yXbPBFTsi9x4",
        "outputId": "e7e63056-43df-45d3-9a4a-0ef93084b03b"
      },
      "id": "yXbPBFTsi9x4",
      "execution_count": 440,
      "outputs": [
        {
          "output_type": "execute_result",
          "data": {
            "text/plain": [
              "[1, 5, 0, 2, 3, 4, 6]"
            ]
          },
          "metadata": {},
          "execution_count": 440
        }
      ]
    },
    {
      "cell_type": "code",
      "source": [],
      "metadata": {
        "id": "DS3iGmcti9zz"
      },
      "id": "DS3iGmcti9zz",
      "execution_count": 440,
      "outputs": []
    },
    {
      "cell_type": "code",
      "source": [
        "A[0, 0] = 1\n",
        "A[1, 1] = 1\n",
        "A[:2, 2:] = 0\n",
        "A"
      ],
      "metadata": {
        "colab": {
          "base_uri": "https://localhost:8080/"
        },
        "id": "4K92F5CMnnYK",
        "outputId": "c8a49d73-1d37-497b-ca75-58636259ab49"
      },
      "id": "4K92F5CMnnYK",
      "execution_count": 441,
      "outputs": [
        {
          "output_type": "execute_result",
          "data": {
            "text/plain": [
              "array([[1, 0, 0, 0, 0, 0, 0],\n",
              "       [0, 1, 0, 0, 0, 0, 0],\n",
              "       [1, 0, 0, 1, 0, 0, 0],\n",
              "       [1, 0, 1, 0, 1, 0, 0],\n",
              "       [0, 0, 0, 1, 0, 1, 0],\n",
              "       [0, 1, 0, 0, 1, 0, 1],\n",
              "       [0, 1, 0, 0, 0, 1, 0]])"
            ]
          },
          "metadata": {},
          "execution_count": 441
        }
      ]
    },
    {
      "cell_type": "code",
      "source": [
        "import numpy as np\n",
        "\n",
        "Y = np.zeros((len(G), n_comms))\n",
        "Y[0, 0] = 1\n",
        "Y[1, 1] = 1\n",
        "Y"
      ],
      "metadata": {
        "colab": {
          "base_uri": "https://localhost:8080/"
        },
        "id": "o1y0KOg2opw2",
        "outputId": "9e544b87-7d64-4d8d-d1f7-df2c5715e4db"
      },
      "id": "o1y0KOg2opw2",
      "execution_count": 442,
      "outputs": [
        {
          "output_type": "execute_result",
          "data": {
            "text/plain": [
              "array([[1., 0.],\n",
              "       [0., 1.],\n",
              "       [0., 0.],\n",
              "       [0., 0.],\n",
              "       [0., 0.],\n",
              "       [0., 0.],\n",
              "       [0., 0.]])"
            ]
          },
          "metadata": {},
          "execution_count": 442
        }
      ]
    },
    {
      "cell_type": "markdown",
      "id": "5f786de8-ba69-4d86-b997-e55c9028acad",
      "metadata": {
        "id": "5f786de8-ba69-4d86-b997-e55c9028acad"
      },
      "source": [
        "## Задачи для самостоятельного решения"
      ]
    },
    {
      "cell_type": "markdown",
      "id": "c08a6cb0-9b05-4a80-a4cc-a2f70d9cbfd7",
      "metadata": {
        "id": "c08a6cb0-9b05-4a80-a4cc-a2f70d9cbfd7"
      },
      "source": [
        "<p class=\"task\" id=\"1\"></p>\n",
        "\n",
        "1\\. Загрузите граф Karate Club. Получите значения атрибута `club`, хранящегося на узлах. Выберите случайным образом 4 узла, относящихся к клубу `Mr. Hi` и 4 узла, относящихся к клубу `Officer`. Получите матрицу смежности, в которой узлы перенумерованы  таким образом, чтобы строки и столбцы с номерами 0, 1, ... 7 принадлежали узлам, которые были выбраны на предыдущем шаге.\n",
        "\n",
        "- [ ] Проверено на семинаре"
      ]
    },
    {
      "cell_type": "code",
      "source": [
        "import random"
      ],
      "metadata": {
        "id": "3me-u_NPh8fM"
      },
      "id": "3me-u_NPh8fM",
      "execution_count": 443,
      "outputs": []
    },
    {
      "cell_type": "code",
      "source": [
        "G = nx.karate_club_graph()"
      ],
      "metadata": {
        "id": "J8eyy0Laswj4"
      },
      "id": "J8eyy0Laswj4",
      "execution_count": 444,
      "outputs": []
    },
    {
      "cell_type": "code",
      "source": [
        "club = nx.get_node_attributes(G, 'club')\n",
        "club"
      ],
      "metadata": {
        "colab": {
          "base_uri": "https://localhost:8080/"
        },
        "id": "pybtL43Nsniu",
        "outputId": "cfecf55f-7722-487c-f5da-542ffbecf772"
      },
      "id": "pybtL43Nsniu",
      "execution_count": 445,
      "outputs": [
        {
          "output_type": "execute_result",
          "data": {
            "text/plain": [
              "{0: 'Mr. Hi',\n",
              " 1: 'Mr. Hi',\n",
              " 2: 'Mr. Hi',\n",
              " 3: 'Mr. Hi',\n",
              " 4: 'Mr. Hi',\n",
              " 5: 'Mr. Hi',\n",
              " 6: 'Mr. Hi',\n",
              " 7: 'Mr. Hi',\n",
              " 8: 'Mr. Hi',\n",
              " 9: 'Officer',\n",
              " 10: 'Mr. Hi',\n",
              " 11: 'Mr. Hi',\n",
              " 12: 'Mr. Hi',\n",
              " 13: 'Mr. Hi',\n",
              " 14: 'Officer',\n",
              " 15: 'Officer',\n",
              " 16: 'Mr. Hi',\n",
              " 17: 'Mr. Hi',\n",
              " 18: 'Officer',\n",
              " 19: 'Mr. Hi',\n",
              " 20: 'Officer',\n",
              " 21: 'Mr. Hi',\n",
              " 22: 'Officer',\n",
              " 23: 'Officer',\n",
              " 24: 'Officer',\n",
              " 25: 'Officer',\n",
              " 26: 'Officer',\n",
              " 27: 'Officer',\n",
              " 28: 'Officer',\n",
              " 29: 'Officer',\n",
              " 30: 'Officer',\n",
              " 31: 'Officer',\n",
              " 32: 'Officer',\n",
              " 33: 'Officer'}"
            ]
          },
          "metadata": {},
          "execution_count": 445
        }
      ]
    },
    {
      "cell_type": "code",
      "source": [
        "mr_hi = [node for node, club in club.items() if club == 'Mr. Hi']\n",
        "officer = [node for node, club in club.items() if club == 'Officer']"
      ],
      "metadata": {
        "id": "98QZUBDAsnl5"
      },
      "id": "98QZUBDAsnl5",
      "execution_count": 446,
      "outputs": []
    },
    {
      "cell_type": "code",
      "source": [
        "mr_hi_4 = random.sample(mr_hi, 4)\n",
        "officer_4 = random.sample(officer, 4)"
      ],
      "metadata": {
        "id": "yTBaB6Essnol"
      },
      "id": "yTBaB6Essnol",
      "execution_count": 447,
      "outputs": []
    },
    {
      "cell_type": "code",
      "source": [
        "mr_hi_4"
      ],
      "metadata": {
        "colab": {
          "base_uri": "https://localhost:8080/"
        },
        "id": "cSW9BtZhjW65",
        "outputId": "4beb2427-4b0a-423e-fd71-93d9bf9574b2"
      },
      "id": "cSW9BtZhjW65",
      "execution_count": 448,
      "outputs": [
        {
          "output_type": "execute_result",
          "data": {
            "text/plain": [
              "[5, 11, 3, 2]"
            ]
          },
          "metadata": {},
          "execution_count": 448
        }
      ]
    },
    {
      "cell_type": "code",
      "source": [
        "officer_4"
      ],
      "metadata": {
        "colab": {
          "base_uri": "https://localhost:8080/"
        },
        "id": "kBPG6YXKjW8k",
        "outputId": "4fd4345c-493d-4454-e99a-7e5720c045da"
      },
      "id": "kBPG6YXKjW8k",
      "execution_count": 449,
      "outputs": [
        {
          "output_type": "execute_result",
          "data": {
            "text/plain": [
              "[27, 15, 26, 32]"
            ]
          },
          "metadata": {},
          "execution_count": 449
        }
      ]
    },
    {
      "cell_type": "code",
      "source": [
        "unlabeled = list(set(G).difference(mr_hi_4).difference(officer_4))"
      ],
      "metadata": {
        "id": "O-VJ76VOupTk"
      },
      "id": "O-VJ76VOupTk",
      "execution_count": 450,
      "outputs": []
    },
    {
      "cell_type": "code",
      "source": [
        "nodes_order = [\n",
        "    *mr_hi_4,\n",
        "    *officer_4,\n",
        "    *unlabeled\n",
        "]\n",
        "\n"
      ],
      "metadata": {
        "id": "Qbfast_jjRPQ"
      },
      "id": "Qbfast_jjRPQ",
      "execution_count": 451,
      "outputs": []
    },
    {
      "cell_type": "code",
      "source": [
        "print(nodes_order)"
      ],
      "metadata": {
        "colab": {
          "base_uri": "https://localhost:8080/"
        },
        "id": "9X7dhRVtjRSS",
        "outputId": "043b717c-eef7-4174-daa0-fbbfff49fd76"
      },
      "id": "9X7dhRVtjRSS",
      "execution_count": 452,
      "outputs": [
        {
          "output_type": "stream",
          "name": "stdout",
          "text": [
            "[5, 11, 3, 2, 27, 15, 26, 32, 0, 1, 4, 6, 7, 8, 9, 10, 12, 13, 14, 16, 17, 18, 19, 20, 21, 22, 23, 24, 25, 28, 29, 30, 31, 33]\n"
          ]
        }
      ]
    },
    {
      "cell_type": "code",
      "source": [
        "A = nx.adjacency_matrix(G, nodelist=nodes_order, weight = None).toarray()\n",
        "A"
      ],
      "metadata": {
        "colab": {
          "base_uri": "https://localhost:8080/"
        },
        "id": "8W5J_W2fjRVO",
        "outputId": "3a20dee6-599f-4a03-897a-d1050316452d"
      },
      "id": "8W5J_W2fjRVO",
      "execution_count": 453,
      "outputs": [
        {
          "output_type": "execute_result",
          "data": {
            "text/plain": [
              "array([[0, 0, 0, ..., 0, 0, 0],\n",
              "       [0, 0, 0, ..., 0, 0, 0],\n",
              "       [0, 0, 0, ..., 0, 0, 0],\n",
              "       ...,\n",
              "       [0, 0, 0, ..., 0, 0, 1],\n",
              "       [0, 0, 0, ..., 0, 0, 1],\n",
              "       [0, 0, 0, ..., 1, 1, 0]])"
            ]
          },
          "metadata": {},
          "execution_count": 453
        }
      ]
    },
    {
      "cell_type": "code",
      "source": [],
      "metadata": {
        "id": "q0IzaVj5jRX7"
      },
      "id": "q0IzaVj5jRX7",
      "execution_count": 453,
      "outputs": []
    },
    {
      "cell_type": "code",
      "source": [],
      "metadata": {
        "id": "cPksri3wjRao"
      },
      "id": "cPksri3wjRao",
      "execution_count": 453,
      "outputs": []
    },
    {
      "cell_type": "markdown",
      "id": "1627fe14-1c25-4234-b887-8d295589f26a",
      "metadata": {
        "id": "1627fe14-1c25-4234-b887-8d295589f26a"
      },
      "source": [
        "<p class=\"task\" id=\"2\"></p>\n",
        "\n",
        "2\\. Получите блочную матрицу $\\mathbf{P}$ и матрицу начального состояния меток $\\mathbf{Y_0} \\in \\{0,1\\}^{N\\times2}$\n",
        "$$\\mathbf{P} = \\begin{pmatrix}\n",
        "\\mathbf{P}_{ll}& \\mathbf{P}_{lu}\\\\\n",
        "\\mathbf{P}_{ul}& \\mathbf{P}_{uu}\\\\\n",
        "\\end{pmatrix} = \\begin{pmatrix}\n",
        "\\mathbf{I}& \\mathbf{0}\\\\\n",
        "\\mathbf{P}_{ul}& \\mathbf{P}_{uu}\\\\\n",
        "\\end{pmatrix}$$\n",
        "\n",
        "$$\\mathbf{Y_0} = \\begin{pmatrix}\n",
        "\\mathbf{Y_{l}}\\\\\n",
        "\\mathbf{Y_{u}}\\\\\n",
        "\\end{pmatrix}= \\begin{pmatrix}\n",
        "\\mathbf{Y_{l}}\\\\\n",
        "\\mathbf{0}\\\\\n",
        "\\end{pmatrix}$$\n",
        "\n",
        "Выведите на экран след матрицы $\\mathbf{P}$. Выведите на экран количество ненулевых элементов матрицы $\\mathbf{Y_0}$\n",
        "\n",
        "- [ ] Проверено на семинаре"
      ]
    },
    {
      "cell_type": "code",
      "source": [],
      "metadata": {
        "id": "juL30sxuvJYx"
      },
      "id": "juL30sxuvJYx",
      "execution_count": 453,
      "outputs": []
    },
    {
      "cell_type": "code",
      "source": [
        "import numpy as np"
      ],
      "metadata": {
        "id": "oOWUzR_MtDRF"
      },
      "id": "oOWUzR_MtDRF",
      "execution_count": 454,
      "outputs": []
    },
    {
      "cell_type": "code",
      "source": [
        "N_unlabeled = len(unlabeled)\n",
        "N_labeled = 8"
      ],
      "metadata": {
        "id": "UyRoiD2MqI19"
      },
      "id": "UyRoiD2MqI19",
      "execution_count": 455,
      "outputs": []
    },
    {
      "cell_type": "code",
      "source": [
        "P_ll = np.eye(N_labeled)\n",
        "P_lu = np.zeros((N_labeled, N_unlabeled))\n",
        "P_ul = np.zeros((N_unlabeled, N_labeled))\n",
        "P_uu = nx.adjacency_matrix(G, nodelist=unlabeled, weight=None).toarray()\n",
        "\n",
        "P = np.block([[P_ll, P_lu], [P_ul, P_uu]])"
      ],
      "metadata": {
        "id": "tbDeQD7Fmq1H"
      },
      "id": "tbDeQD7Fmq1H",
      "execution_count": 456,
      "outputs": []
    },
    {
      "cell_type": "code",
      "source": [
        "P"
      ],
      "metadata": {
        "colab": {
          "base_uri": "https://localhost:8080/"
        },
        "id": "CjEJAxJdtK1N",
        "outputId": "3b796f9b-e1d7-427c-9c09-9acaa32e2fb5"
      },
      "id": "CjEJAxJdtK1N",
      "execution_count": 457,
      "outputs": [
        {
          "output_type": "execute_result",
          "data": {
            "text/plain": [
              "array([[1., 0., 0., ..., 0., 0., 0.],\n",
              "       [0., 1., 0., ..., 0., 0., 0.],\n",
              "       [0., 0., 1., ..., 0., 0., 0.],\n",
              "       ...,\n",
              "       [0., 0., 0., ..., 0., 0., 1.],\n",
              "       [0., 0., 0., ..., 0., 0., 1.],\n",
              "       [0., 0., 0., ..., 1., 1., 0.]])"
            ]
          },
          "metadata": {},
          "execution_count": 457
        }
      ]
    },
    {
      "cell_type": "code",
      "source": [
        "P.trace()"
      ],
      "metadata": {
        "colab": {
          "base_uri": "https://localhost:8080/"
        },
        "id": "Hx0kj4Eomq44",
        "outputId": "865adae3-50a4-43c8-eb5e-7c4539f12206"
      },
      "id": "Hx0kj4Eomq44",
      "execution_count": 458,
      "outputs": [
        {
          "output_type": "execute_result",
          "data": {
            "text/plain": [
              "8.0"
            ]
          },
          "metadata": {},
          "execution_count": 458
        }
      ]
    },
    {
      "cell_type": "code",
      "source": [
        "Y_l = np.array([[1, 0] if club[node] == 'Mr. Hi' else [0, 1] for node in nodes_order[:8]])\n",
        "Y_u = np.zeros((len(G) - 8, 2))\n",
        "Y_0 = np.vstack([Y_l, Y_u])"
      ],
      "metadata": {
        "id": "vatUJnGBrvPR"
      },
      "id": "vatUJnGBrvPR",
      "execution_count": 459,
      "outputs": []
    },
    {
      "cell_type": "code",
      "source": [
        "Y_0"
      ],
      "metadata": {
        "colab": {
          "base_uri": "https://localhost:8080/"
        },
        "id": "vgNOW2825o7n",
        "outputId": "0e616c94-fffb-4190-9f9d-a6536e6540bd"
      },
      "id": "vgNOW2825o7n",
      "execution_count": 460,
      "outputs": [
        {
          "output_type": "execute_result",
          "data": {
            "text/plain": [
              "array([[1., 0.],\n",
              "       [1., 0.],\n",
              "       [1., 0.],\n",
              "       [1., 0.],\n",
              "       [0., 1.],\n",
              "       [0., 1.],\n",
              "       [0., 1.],\n",
              "       [0., 1.],\n",
              "       [0., 0.],\n",
              "       [0., 0.],\n",
              "       [0., 0.],\n",
              "       [0., 0.],\n",
              "       [0., 0.],\n",
              "       [0., 0.],\n",
              "       [0., 0.],\n",
              "       [0., 0.],\n",
              "       [0., 0.],\n",
              "       [0., 0.],\n",
              "       [0., 0.],\n",
              "       [0., 0.],\n",
              "       [0., 0.],\n",
              "       [0., 0.],\n",
              "       [0., 0.],\n",
              "       [0., 0.],\n",
              "       [0., 0.],\n",
              "       [0., 0.],\n",
              "       [0., 0.],\n",
              "       [0., 0.],\n",
              "       [0., 0.],\n",
              "       [0., 0.],\n",
              "       [0., 0.],\n",
              "       [0., 0.],\n",
              "       [0., 0.],\n",
              "       [0., 0.]])"
            ]
          },
          "metadata": {},
          "execution_count": 460
        }
      ]
    },
    {
      "cell_type": "code",
      "source": [
        "np.count_nonzero(Y_0)"
      ],
      "metadata": {
        "colab": {
          "base_uri": "https://localhost:8080/"
        },
        "id": "ztl5hNPkvDBN",
        "outputId": "ad9c7315-f672-465e-95ed-a842205fd6c9"
      },
      "id": "ztl5hNPkvDBN",
      "execution_count": 461,
      "outputs": [
        {
          "output_type": "execute_result",
          "data": {
            "text/plain": [
              "8"
            ]
          },
          "metadata": {},
          "execution_count": 461
        }
      ]
    },
    {
      "cell_type": "code",
      "source": [],
      "metadata": {
        "id": "vF00OhyF5o-1"
      },
      "id": "vF00OhyF5o-1",
      "execution_count": 461,
      "outputs": []
    },
    {
      "cell_type": "code",
      "source": [],
      "metadata": {
        "id": "AlMwUEZk5pCM"
      },
      "id": "AlMwUEZk5pCM",
      "execution_count": 461,
      "outputs": []
    },
    {
      "cell_type": "markdown",
      "id": "83e349d5-0e05-436b-9ecd-badbd2844fa4",
      "metadata": {
        "id": "83e349d5-0e05-436b-9ecd-badbd2844fa4"
      },
      "source": [
        "<p class=\"task\" id=\"3\"></p>\n",
        "\n",
        "3\\. Известно, что для блочной матрицы справедливо:\n",
        "\n",
        "$$\\mathbf{P}^{\\infty} =\n",
        "\\begin{pmatrix}\n",
        "\\mathbf{I}& \\mathbf{0}\\\\\n",
        "(\\mathbf{I}-\\mathbf{P}_{uu})^{-1}\\mathbf{P}_{ul}& \\mathbf{0}\\\\\n",
        "\\end{pmatrix}$$\n",
        "\n",
        "Получите оценку $\\mathbf{P}^{\\infty}$ путем возведения матрицы в достаточно большую степень. Продемонстрируйте, что каждый блок полученной матрицы удовлетворяет формуле выше при помощи функции `np.allclose`.\n",
        "\n",
        "- [ ] Проверено на семинаре"
      ]
    },
    {
      "cell_type": "code",
      "source": [
        "P_inf = np.linalg.matrix_power(P, 100)"
      ],
      "metadata": {
        "id": "vnUlQfovzDHJ"
      },
      "id": "vnUlQfovzDHJ",
      "execution_count": 462,
      "outputs": []
    },
    {
      "cell_type": "code",
      "source": [
        "P_inf_ll = P_inf[:N_labeled, :N_labeled]\n",
        "P_inf_lu = P_inf[:N_labeled, N_labeled:]\n",
        "P_inf_ul = P_inf[N_labeled:, :N_labeled]\n",
        "P_inf_uu = P_inf[N_labeled:, N_labeled:]"
      ],
      "metadata": {
        "id": "B1e9FUdN0lx9"
      },
      "id": "B1e9FUdN0lx9",
      "execution_count": 463,
      "outputs": []
    },
    {
      "cell_type": "code",
      "source": [
        "np.allclose(P_inf_ll, np.eye(N_labeled))"
      ],
      "metadata": {
        "colab": {
          "base_uri": "https://localhost:8080/"
        },
        "id": "D7vY625q0rqA",
        "outputId": "19f4c26e-01cd-4081-b495-cd666f357f79"
      },
      "id": "D7vY625q0rqA",
      "execution_count": 464,
      "outputs": [
        {
          "output_type": "execute_result",
          "data": {
            "text/plain": [
              "True"
            ]
          },
          "metadata": {},
          "execution_count": 464
        }
      ]
    },
    {
      "cell_type": "code",
      "source": [
        "np.allclose(P_inf_lu, np.zeros((N_labeled, N_unlabeled)))"
      ],
      "metadata": {
        "colab": {
          "base_uri": "https://localhost:8080/"
        },
        "id": "58z5Tqaw0uXc",
        "outputId": "b2fc5bf0-5bf0-4591-ed09-af6a9b8b9352"
      },
      "id": "58z5Tqaw0uXc",
      "execution_count": 465,
      "outputs": [
        {
          "output_type": "execute_result",
          "data": {
            "text/plain": [
              "True"
            ]
          },
          "metadata": {},
          "execution_count": 465
        }
      ]
    },
    {
      "cell_type": "code",
      "source": [
        "np.allclose(P_inf_ul, np.dot(np.linalg.inv(np.eye(N_unlabeled) - P_uu), P_ul))"
      ],
      "metadata": {
        "colab": {
          "base_uri": "https://localhost:8080/"
        },
        "id": "ocbUUbeZ06I_",
        "outputId": "edb5decf-dbf9-43e8-96da-bd687b5214c8"
      },
      "id": "ocbUUbeZ06I_",
      "execution_count": 466,
      "outputs": [
        {
          "output_type": "execute_result",
          "data": {
            "text/plain": [
              "True"
            ]
          },
          "metadata": {},
          "execution_count": 466
        }
      ]
    },
    {
      "cell_type": "code",
      "source": [
        "np.allclose(P_inf_uu, np.zeros((N_unlabeled, N_unlabeled))) #?"
      ],
      "metadata": {
        "colab": {
          "base_uri": "https://localhost:8080/"
        },
        "id": "A6AKQTal06Lu",
        "outputId": "4f8efc21-a2ce-43de-d640-88a61f6d04dc"
      },
      "id": "A6AKQTal06Lu",
      "execution_count": 467,
      "outputs": [
        {
          "output_type": "execute_result",
          "data": {
            "text/plain": [
              "False"
            ]
          },
          "metadata": {},
          "execution_count": 467
        }
      ]
    },
    {
      "cell_type": "code",
      "source": [],
      "metadata": {
        "id": "38mUN3h306PM"
      },
      "id": "38mUN3h306PM",
      "execution_count": 467,
      "outputs": []
    },
    {
      "cell_type": "markdown",
      "id": "1ddf9392-8ee3-45c2-b462-f2f8a9ceb9ca",
      "metadata": {
        "id": "1ddf9392-8ee3-45c2-b462-f2f8a9ceb9ca"
      },
      "source": [
        "<p class=\"task\" id=\"4\"></p>\n",
        "\n",
        "4\\. Используя Базовый вариант RW-LPA , расставьте метки для всех узлов. Визуализируйте сеть, показав цветом контура вокруг узла принадлежность узла к одному из сообществ, а цветом цветом заливки узла - сообщество, к которому узел был отнесен алгоритмом.\n",
        "\n",
        "![](https://i.imgur.com/R4ZbGEV.png)\n",
        "\n",
        "- [ ] Проверено на семинаре"
      ]
    },
    {
      "cell_type": "code",
      "source": [],
      "metadata": {
        "id": "hfqasf5X4bmU"
      },
      "id": "hfqasf5X4bmU",
      "execution_count": null,
      "outputs": []
    },
    {
      "cell_type": "code",
      "source": [],
      "metadata": {
        "id": "kiT8QtK85Xlz"
      },
      "id": "kiT8QtK85Xlz",
      "execution_count": null,
      "outputs": []
    },
    {
      "cell_type": "code",
      "source": [],
      "metadata": {
        "id": "WehcnVHH5Xp-"
      },
      "id": "WehcnVHH5Xp-",
      "execution_count": null,
      "outputs": []
    },
    {
      "cell_type": "code",
      "source": [],
      "metadata": {
        "id": "8JsoSyBu5Xs2"
      },
      "id": "8JsoSyBu5Xs2",
      "execution_count": null,
      "outputs": []
    },
    {
      "cell_type": "code",
      "source": [],
      "metadata": {
        "id": "WhV1sVv45Xv_"
      },
      "id": "WhV1sVv45Xv_",
      "execution_count": null,
      "outputs": []
    },
    {
      "cell_type": "code",
      "source": [],
      "metadata": {
        "id": "bs7di54m5XzS"
      },
      "id": "bs7di54m5XzS",
      "execution_count": null,
      "outputs": []
    },
    {
      "cell_type": "code",
      "source": [],
      "metadata": {
        "id": "ZKwyKJUZ5X2S"
      },
      "id": "ZKwyKJUZ5X2S",
      "execution_count": null,
      "outputs": []
    }
  ],
  "metadata": {
    "kernelspec": {
      "display_name": "Python 3 (ipykernel)",
      "language": "python",
      "name": "python3"
    },
    "language_info": {
      "codemirror_mode": {
        "name": "ipython",
        "version": 3
      },
      "file_extension": ".py",
      "mimetype": "text/x-python",
      "name": "python",
      "nbconvert_exporter": "python",
      "pygments_lexer": "ipython3",
      "version": "3.10.0"
    },
    "colab": {
      "provenance": []
    }
  },
  "nbformat": 4,
  "nbformat_minor": 5
}