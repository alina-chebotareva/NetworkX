{
  "cells": [
    {
      "cell_type": "markdown",
      "id": "29eedd06-4cd6-41fc-aa4e-569dd4f521bd",
      "metadata": {
        "id": "29eedd06-4cd6-41fc-aa4e-569dd4f521bd"
      },
      "source": [
        "# Распределение степеней узлов"
      ]
    },
    {
      "cell_type": "markdown",
      "id": "f6b687e9-05ef-4908-8bde-2b5dbbe576b6",
      "metadata": {
        "id": "f6b687e9-05ef-4908-8bde-2b5dbbe576b6"
      },
      "source": [
        "__Авторы задач: Макрушин С.В (SVMakrushin@fa.ru), Блохин Н.В. (NVBlokhin@fa.ru)__\n",
        "\n",
        "Материалы:\n",
        "* Макрушин С.В. \"Лекция 2: Модели\"\n",
        "* Документация:\n",
        "    * https://networkx.org/documentation/stable/reference/generated/networkx.linalg.graphmatrix.adjacency_matrix.html\n",
        "    * https://networkx.org/documentation/stable/reference/classes/generated/networkx.Graph.degree.html\n",
        "    * https://networkx.org/documentation/stable/reference/classes/generated/networkx.DiGraph.in_degree.html\n",
        "    * https://networkx.org/documentation/stable/reference/classes/generated/networkx.DiGraph.out_degree.html\n",
        "* Дополнительные источники:\n",
        "    * https://www.scaler.com/topics/matplotlib/logarithmic-scale-matplotlib/\n",
        "* Датасеты с сетями:\n",
        "    * http://networkrepository.com"
      ]
    },
    {
      "cell_type": "markdown",
      "id": "a13ab35d-a7c0-4237-a394-691389c7c773",
      "metadata": {
        "id": "a13ab35d-a7c0-4237-a394-691389c7c773"
      },
      "source": [
        "## Вопросы для совместного обсуждения"
      ]
    },
    {
      "cell_type": "markdown",
      "metadata": {
        "id": "7ea53db8-da33-43ee-95e0-9876384499c1"
      },
      "source": [
        "1\\. Обсудите различные подходы к вычислению степеней узлов графа."
      ],
      "id": "7ea53db8-da33-43ee-95e0-9876384499c1"
    },
    {
      "cell_type": "code",
      "source": [
        "import networkx as nx"
      ],
      "metadata": {
        "id": "iVmBDYOQWD7I"
      },
      "execution_count": null,
      "outputs": [],
      "id": "iVmBDYOQWD7I"
    },
    {
      "cell_type": "code",
      "source": [
        "G = nx.empty_graph() # G = nx.Graph()\n",
        "G.add_edges_from([(0, 1), (1, 2), (2, 3)])"
      ],
      "metadata": {
        "id": "Awd3G-rFWFui"
      },
      "execution_count": null,
      "outputs": [],
      "id": "Awd3G-rFWFui"
    },
    {
      "cell_type": "code",
      "source": [
        "G.nodes"
      ],
      "metadata": {
        "colab": {
          "base_uri": "https://localhost:8080/"
        },
        "id": "mPOgHAhAehET",
        "outputId": "e719c873-2add-444a-815f-7d7e0c38c4e0"
      },
      "execution_count": null,
      "outputs": [
        {
          "output_type": "execute_result",
          "data": {
            "text/plain": [
              "NodeView((0, 1, 2, 3))"
            ]
          },
          "metadata": {},
          "execution_count": 21
        }
      ],
      "id": "mPOgHAhAehET"
    },
    {
      "cell_type": "code",
      "source": [
        "G.degree"
      ],
      "metadata": {
        "colab": {
          "base_uri": "https://localhost:8080/"
        },
        "id": "DcyP3TDVWces",
        "outputId": "5c397df2-ebb8-4cce-f23f-4bdec7fbdc3b"
      },
      "execution_count": null,
      "outputs": [
        {
          "output_type": "execute_result",
          "data": {
            "text/plain": [
              "DegreeView({0: 1, 1: 2, 2: 2, 3: 1})"
            ]
          },
          "metadata": {},
          "execution_count": 3
        }
      ],
      "id": "DcyP3TDVWces"
    },
    {
      "cell_type": "code",
      "source": [
        "G.degree()"
      ],
      "metadata": {
        "colab": {
          "base_uri": "https://localhost:8080/"
        },
        "id": "MPOgmiupWe5q",
        "outputId": "7fff4d6d-bbfb-431e-c23b-dfba3b4f1938"
      },
      "execution_count": null,
      "outputs": [
        {
          "output_type": "execute_result",
          "data": {
            "text/plain": [
              "DegreeView({0: 1, 1: 2, 2: 2, 3: 1})"
            ]
          },
          "metadata": {},
          "execution_count": 4
        }
      ],
      "id": "MPOgmiupWe5q"
    },
    {
      "cell_type": "code",
      "source": [
        "A = nx.adjacency_matrix(G).toarray()\n",
        "A"
      ],
      "metadata": {
        "colab": {
          "base_uri": "https://localhost:8080/"
        },
        "id": "IkOwN75YWx56",
        "outputId": "b0278479-9061-4d6f-ab99-db421f6f33c2"
      },
      "execution_count": null,
      "outputs": [
        {
          "output_type": "execute_result",
          "data": {
            "text/plain": [
              "array([[0, 1, 0, 0],\n",
              "       [1, 0, 1, 0],\n",
              "       [0, 1, 0, 1],\n",
              "       [0, 0, 1, 0]])"
            ]
          },
          "metadata": {},
          "execution_count": 5
        }
      ],
      "id": "IkOwN75YWx56"
    },
    {
      "cell_type": "code",
      "source": [
        "A.sum(axis=1), A.sum(axis=0)"
      ],
      "metadata": {
        "colab": {
          "base_uri": "https://localhost:8080/"
        },
        "id": "Kw5Vh00XXFIa",
        "outputId": "7ddfadc9-5ec0-43b6-e0a8-298caa1d706a"
      },
      "execution_count": null,
      "outputs": [
        {
          "output_type": "execute_result",
          "data": {
            "text/plain": [
              "(array([1, 2, 2, 1]), array([1, 2, 2, 1]))"
            ]
          },
          "metadata": {},
          "execution_count": 6
        }
      ],
      "id": "Kw5Vh00XXFIa"
    },
    {
      "cell_type": "code",
      "source": [
        "G = nx.empty_graph(create_using=nx.DiGraph) # G = nx.Graph()\n",
        "G.add_edges_from([(0, 1), (1, 2), (2, 3)])"
      ],
      "metadata": {
        "id": "NkZUs7UYXR50"
      },
      "execution_count": null,
      "outputs": [],
      "id": "NkZUs7UYXR50"
    },
    {
      "cell_type": "code",
      "source": [
        "G.in_degree()"
      ],
      "metadata": {
        "colab": {
          "base_uri": "https://localhost:8080/"
        },
        "id": "ev-YaWJiXUTF",
        "outputId": "2dceb2ef-d559-4f97-afbb-4603c17fe77d"
      },
      "execution_count": null,
      "outputs": [
        {
          "output_type": "execute_result",
          "data": {
            "text/plain": [
              "InDegreeView({0: 0, 1: 1, 2: 1, 3: 1})"
            ]
          },
          "metadata": {},
          "execution_count": 8
        }
      ],
      "id": "ev-YaWJiXUTF"
    },
    {
      "cell_type": "code",
      "source": [
        "G.out_degree()"
      ],
      "metadata": {
        "colab": {
          "base_uri": "https://localhost:8080/"
        },
        "id": "XyAk_o_lXXlL",
        "outputId": "03d0b116-7411-47ef-b5ee-365235e61053"
      },
      "execution_count": null,
      "outputs": [
        {
          "output_type": "execute_result",
          "data": {
            "text/plain": [
              "OutDegreeView({0: 1, 1: 1, 2: 1, 3: 0})"
            ]
          },
          "metadata": {},
          "execution_count": 9
        }
      ],
      "id": "XyAk_o_lXXlL"
    },
    {
      "cell_type": "code",
      "source": [
        "G.degree()"
      ],
      "metadata": {
        "colab": {
          "base_uri": "https://localhost:8080/"
        },
        "id": "56NrH6oeXdds",
        "outputId": "eb67b5f0-b206-4080-8322-0602f3505ee9"
      },
      "execution_count": null,
      "outputs": [
        {
          "output_type": "execute_result",
          "data": {
            "text/plain": [
              "DiDegreeView({0: 1, 1: 2, 2: 2, 3: 1})"
            ]
          },
          "metadata": {},
          "execution_count": 10
        }
      ],
      "id": "56NrH6oeXdds"
    },
    {
      "cell_type": "code",
      "source": [
        "A = nx.adjacency_matrix(G).toarray()\n",
        "A"
      ],
      "metadata": {
        "colab": {
          "base_uri": "https://localhost:8080/"
        },
        "id": "wkki1G2tXoLE",
        "outputId": "fccfaded-c31c-4be4-c6ea-1f6860b422ea"
      },
      "execution_count": null,
      "outputs": [
        {
          "output_type": "execute_result",
          "data": {
            "text/plain": [
              "array([[0, 1, 0, 0],\n",
              "       [0, 0, 1, 0],\n",
              "       [0, 0, 0, 1],\n",
              "       [0, 0, 0, 0]])"
            ]
          },
          "metadata": {},
          "execution_count": 11
        }
      ],
      "id": "wkki1G2tXoLE"
    },
    {
      "cell_type": "code",
      "source": [
        "A.sum(axis=1), A.sum(axis=0)"
      ],
      "metadata": {
        "colab": {
          "base_uri": "https://localhost:8080/"
        },
        "id": "whFmq-TNXpIX",
        "outputId": "8bac4cbd-b56c-40f4-a075-6f25c33634ce"
      },
      "execution_count": null,
      "outputs": [
        {
          "output_type": "execute_result",
          "data": {
            "text/plain": [
              "(array([1, 1, 1, 0]), array([0, 1, 1, 1]))"
            ]
          },
          "metadata": {},
          "execution_count": 12
        }
      ],
      "id": "whFmq-TNXpIX"
    },
    {
      "cell_type": "code",
      "source": [
        "(A * 5)"
      ],
      "metadata": {
        "colab": {
          "base_uri": "https://localhost:8080/"
        },
        "id": "jRtnA3O8X0Vc",
        "outputId": "fec8735e-16a7-468b-9f59-6ee8e99fe2e7"
      },
      "execution_count": null,
      "outputs": [
        {
          "output_type": "execute_result",
          "data": {
            "text/plain": [
              "array([[0, 5, 0, 0],\n",
              "       [0, 0, 5, 0],\n",
              "       [0, 0, 0, 5],\n",
              "       [0, 0, 0, 0]])"
            ]
          },
          "metadata": {},
          "execution_count": 13
        }
      ],
      "id": "jRtnA3O8X0Vc"
    },
    {
      "cell_type": "markdown",
      "metadata": {
        "id": "ae243ebb"
      },
      "source": [
        "2\\. Обсудите использование различных шкал (линейной, логарифмической) для визуализациии графиков."
      ],
      "id": "ae243ebb"
    },
    {
      "cell_type": "code",
      "source": [
        "import matplotlib.pyplot as plt\n",
        "import numpy as np\n",
        "\n",
        "x = np.linspace(1, 50, 100)\n",
        "y = np.exp(-x)\n",
        "\n",
        "fig, ax = plt.subplots(1, 1, figsize=(10, 5))\n",
        "ax.plot(x, y)\n",
        "# ax.loglog(x, y)\n",
        "ax.set_yscale(\"log\")"
      ],
      "metadata": {
        "colab": {
          "base_uri": "https://localhost:8080/",
          "height": 370
        },
        "id": "GJuViS62Z4Rg",
        "outputId": "fffa5da3-0e73-4892-e573-64151d255a55"
      },
      "execution_count": null,
      "outputs": [
        {
          "output_type": "display_data",
          "data": {
            "text/plain": [
              "<Figure size 1000x500 with 1 Axes>"
            ],
            "image/png": "[encoded data removed]"
          },
          "metadata": {}
        }
      ],
      "id": "GJuViS62Z4Rg"
    },
    {
      "cell_type": "markdown",
      "id": "5f786de8-ba69-4d86-b997-e55c9028acad",
      "metadata": {
        "id": "5f786de8-ba69-4d86-b997-e55c9028acad"
      },
      "source": [
        "## Задачи для самостоятельного решения"
      ]
    },
    {
      "cell_type": "markdown",
      "id": "c08a6cb0-9b05-4a80-a4cc-a2f70d9cbfd7",
      "metadata": {
        "id": "c08a6cb0-9b05-4a80-a4cc-a2f70d9cbfd7"
      },
      "source": [
        "<p class=\"task\" id=\"1\"></p>\n",
        "\n",
        "1\\. Создайте неориентированный граф на основе набора данных `fb-pages-food` с сайта https://networkrepository.com/. Добавьте узлам атрибут `name`, который содержит имя человека. Удалите из графа все петли. Получите матрицу смежности графа и посчитайте степень каждого узла на основе этой матрицы. Выведите имя человека, чей узел имеет максимальную степень, и само значение степени.\n",
        "\n",
        "- [ ] Проверено на семинаре"
      ]
    },
    {
      "cell_type": "code",
      "source": [
        "import networkx as nx\n",
        "import pandas as pd\n",
        "import numpy as np"
      ],
      "metadata": {
        "id": "hL1chCfnX_Et"
      },
      "id": "hL1chCfnX_Et",
      "execution_count": 86,
      "outputs": []
    },
    {
      "cell_type": "code",
      "source": [
        "from google.colab import drive\n",
        "drive.mount('/content/drive')"
      ],
      "metadata": {
        "colab": {
          "base_uri": "https://localhost:8080/"
        },
        "id": "decPuMtEZ26-",
        "outputId": "a9c2ff20-ba57-4399-dd71-4693116df5d5"
      },
      "execution_count": 2,
      "outputs": [
        {
          "output_type": "stream",
          "name": "stdout",
          "text": [
            "Mounted at /content/drive\n"
          ]
        }
      ],
      "id": "decPuMtEZ26-"
    },
    {
      "cell_type": "code",
      "source": [
        "edges_file = '/content/drive/My Drive/fb-pages-food.edges'\n",
        "node_file = '/content/drive/My Drive/fb-pages-food.nodes'"
      ],
      "metadata": {
        "id": "ZUMKCo4dYiH2"
      },
      "execution_count": 246,
      "outputs": [],
      "id": "ZUMKCo4dYiH2"
    },
    {
      "cell_type": "code",
      "source": [
        "edges = pd.read_csv(edges_file, delimiter=',', header=None, names=['source', 'target'])\n",
        "nodes = pd.read_csv(node_file, delimiter=',')"
      ],
      "metadata": {
        "id": "MiTl4RxxQwoW"
      },
      "id": "MiTl4RxxQwoW",
      "execution_count": 247,
      "outputs": []
    },
    {
      "cell_type": "code",
      "source": [
        "nodes.head()"
      ],
      "metadata": {
        "colab": {
          "base_uri": "https://localhost:8080/",
          "height": 206
        },
        "id": "iPN182FRTh7v",
        "outputId": "4eeac535-b51e-4526-c70b-85bce4c6865b"
      },
      "id": "iPN182FRTh7v",
      "execution_count": 248,
      "outputs": [
        {
          "output_type": "execute_result",
          "data": {
            "text/plain": [
              "                id                     name  new_id\n",
              "0  402449106435352               Josh Marks     386\n",
              "1     368969274888  Blue Ribbon Restaurants     473\n",
              "2  765596333518863                Pat Neely       1\n",
              "3  136870209668885               La Griglia     542\n",
              "4  840078802741859              Jose Garces     189"
            ],
            "text/html": [
              "\n",
              "  <div id=\"df-02d6e7a1-bf7d-4e0c-a050-fb4d0d3bae5f\" class=\"colab-df-container\">\n",
              "    <div>\n",
              "<style scoped>\n",
              "    .dataframe tbody tr th:only-of-type {\n",
              "        vertical-align: middle;\n",
              "    }\n",
              "\n",
              "    .dataframe tbody tr th {\n",
              "        vertical-align: top;\n",
              "    }\n",
              "\n",
              "    .dataframe thead th {\n",
              "        text-align: right;\n",
              "    }\n",
              "</style>\n",
              "<table border=\"1\" class=\"dataframe\">\n",
              "  <thead>\n",
              "    <tr style=\"text-align: right;\">\n",
              "      <th></th>\n",
              "      <th>id</th>\n",
              "      <th>name</th>\n",
              "      <th>new_id</th>\n",
              "    </tr>\n",
              "  </thead>\n",
              "  <tbody>\n",
              "    <tr>\n",
              "      <th>0</th>\n",
              "      <td>402449106435352</td>\n",
              "      <td>Josh Marks</td>\n",
              "      <td>386</td>\n",
              "    </tr>\n",
              "    <tr>\n",
              "      <th>1</th>\n",
              "      <td>368969274888</td>\n",
              "      <td>Blue Ribbon Restaurants</td>\n",
              "      <td>473</td>\n",
              "    </tr>\n",
              "    <tr>\n",
              "      <th>2</th>\n",
              "      <td>765596333518863</td>\n",
              "      <td>Pat Neely</td>\n",
              "      <td>1</td>\n",
              "    </tr>\n",
              "    <tr>\n",
              "      <th>3</th>\n",
              "      <td>136870209668885</td>\n",
              "      <td>La Griglia</td>\n",
              "      <td>542</td>\n",
              "    </tr>\n",
              "    <tr>\n",
              "      <th>4</th>\n",
              "      <td>840078802741859</td>\n",
              "      <td>Jose Garces</td>\n",
              "      <td>189</td>\n",
              "    </tr>\n",
              "  </tbody>\n",
              "</table>\n",
              "</div>\n",
              "    <div class=\"colab-df-buttons\">\n",
              "\n",
              "  <div class=\"colab-df-container\">\n",
              "    <button class=\"colab-df-convert\" onclick=\"convertToInteractive('df-02d6e7a1-bf7d-4e0c-a050-fb4d0d3bae5f')\"\n",
              "            title=\"Convert this dataframe to an interactive table.\"\n",
              "            style=\"display:none;\">\n",
              "\n",
              "  <svg xmlns=\"http://www.w3.org/2000/svg\" height=\"24px\" viewBox=\"0 -960 960 960\">\n",
              "    <path d=\"M120-120v-720h720v720H120Zm60-500h600v-160H180v160Zm220 220h160v-160H400v160Zm0 220h160v-160H400v160ZM180-400h160v-160H180v160Zm440 0h160v-160H620v160ZM180-180h160v-160H180v160Zm440 0h160v-160H620v160Z\"/>\n",
              "  </svg>\n",
              "    </button>\n",
              "\n",
              "  <style>\n",
              "    .colab-df-container {\n",
              "      display:flex;\n",
              "      gap: 12px;\n",
              "    }\n",
              "\n",
              "    .colab-df-convert {\n",
              "      background-color: #E8F0FE;\n",
              "      border: none;\n",
              "      border-radius: 50%;\n",
              "      cursor: pointer;\n",
              "      display: none;\n",
              "      fill: #1967D2;\n",
              "      height: 32px;\n",
              "      padding: 0 0 0 0;\n",
              "      width: 32px;\n",
              "    }\n",
              "\n",
              "    .colab-df-convert:hover {\n",
              "      background-color: #E2EBFA;\n",
              "      box-shadow: 0px 1px 2px rgba(60, 64, 67, 0.3), 0px 1px 3px 1px rgba(60, 64, 67, 0.15);\n",
              "      fill: #174EA6;\n",
              "    }\n",
              "\n",
              "    .colab-df-buttons div {\n",
              "      margin-bottom: 4px;\n",
              "    }\n",
              "\n",
              "    [theme=dark] .colab-df-convert {\n",
              "      background-color: #3B4455;\n",
              "      fill: #D2E3FC;\n",
              "    }\n",
              "\n",
              "    [theme=dark] .colab-df-convert:hover {\n",
              "      background-color: #434B5C;\n",
              "      box-shadow: 0px 1px 3px 1px rgba(0, 0, 0, 0.15);\n",
              "      filter: drop-shadow(0px 1px 2px rgba(0, 0, 0, 0.3));\n",
              "      fill: #FFFFFF;\n",
              "    }\n",
              "  </style>\n",
              "\n",
              "    <script>\n",
              "      const buttonEl =\n",
              "        document.querySelector('#df-02d6e7a1-bf7d-4e0c-a050-fb4d0d3bae5f button.colab-df-convert');\n",
              "      buttonEl.style.display =\n",
              "        google.colab.kernel.accessAllowed ? 'block' : 'none';\n",
              "\n",
              "      async function convertToInteractive(key) {\n",
              "        const element = document.querySelector('#df-02d6e7a1-bf7d-4e0c-a050-fb4d0d3bae5f');\n",
              "        const dataTable =\n",
              "          await google.colab.kernel.invokeFunction('convertToInteractive',\n",
              "                                                    [key], {});\n",
              "        if (!dataTable) return;\n",
              "\n",
              "        const docLinkHtml = 'Like what you see? Visit the ' +\n",
              "          '<a target=\"_blank\" href=https://colab.research.google.com/notebooks/data_table.ipynb>data table notebook</a>'\n",
              "          + ' to learn more about interactive tables.';\n",
              "        element.innerHTML = '';\n",
              "        dataTable['output_type'] = 'display_data';\n",
              "        await google.colab.output.renderOutput(dataTable, element);\n",
              "        const docLink = document.createElement('div');\n",
              "        docLink.innerHTML = docLinkHtml;\n",
              "        element.appendChild(docLink);\n",
              "      }\n",
              "    </script>\n",
              "  </div>\n",
              "\n",
              "\n",
              "<div id=\"df-adf6c323-9de9-46e2-8c44-7345be02bb91\">\n",
              "  <button class=\"colab-df-quickchart\" onclick=\"quickchart('df-adf6c323-9de9-46e2-8c44-7345be02bb91')\"\n",
              "            title=\"Suggest charts\"\n",
              "            style=\"display:none;\">\n",
              "\n",
              "<svg xmlns=\"http://www.w3.org/2000/svg\" height=\"24px\"viewBox=\"0 0 24 24\"\n",
              "     width=\"24px\">\n",
              "    <g>\n",
              "        <path d=\"M19 3H5c-1.1 0-2 .9-2 2v14c0 1.1.9 2 2 2h14c1.1 0 2-.9 2-2V5c0-1.1-.9-2-2-2zM9 17H7v-7h2v7zm4 0h-2V7h2v10zm4 0h-2v-4h2v4z\"/>\n",
              "    </g>\n",
              "</svg>\n",
              "  </button>\n",
              "\n",
              "<style>\n",
              "  .colab-df-quickchart {\n",
              "      --bg-color: #E8F0FE;\n",
              "      --fill-color: #1967D2;\n",
              "      --hover-bg-color: #E2EBFA;\n",
              "      --hover-fill-color: #174EA6;\n",
              "      --disabled-fill-color: #AAA;\n",
              "      --disabled-bg-color: #DDD;\n",
              "  }\n",
              "\n",
              "  [theme=dark] .colab-df-quickchart {\n",
              "      --bg-color: #3B4455;\n",
              "      --fill-color: #D2E3FC;\n",
              "      --hover-bg-color: #434B5C;\n",
              "      --hover-fill-color: #FFFFFF;\n",
              "      --disabled-bg-color: #3B4455;\n",
              "      --disabled-fill-color: #666;\n",
              "  }\n",
              "\n",
              "  .colab-df-quickchart {\n",
              "    background-color: var(--bg-color);\n",
              "    border: none;\n",
              "    border-radius: 50%;\n",
              "    cursor: pointer;\n",
              "    display: none;\n",
              "    fill: var(--fill-color);\n",
              "    height: 32px;\n",
              "    padding: 0;\n",
              "    width: 32px;\n",
              "  }\n",
              "\n",
              "  .colab-df-quickchart:hover {\n",
              "    background-color: var(--hover-bg-color);\n",
              "    box-shadow: 0 1px 2px rgba(60, 64, 67, 0.3), 0 1px 3px 1px rgba(60, 64, 67, 0.15);\n",
              "    fill: var(--button-hover-fill-color);\n",
              "  }\n",
              "\n",
              "  .colab-df-quickchart-complete:disabled,\n",
              "  .colab-df-quickchart-complete:disabled:hover {\n",
              "    background-color: var(--disabled-bg-color);\n",
              "    fill: var(--disabled-fill-color);\n",
              "    box-shadow: none;\n",
              "  }\n",
              "\n",
              "  .colab-df-spinner {\n",
              "    border: 2px solid var(--fill-color);\n",
              "    border-color: transparent;\n",
              "    border-bottom-color: var(--fill-color);\n",
              "    animation:\n",
              "      spin 1s steps(1) infinite;\n",
              "  }\n",
              "\n",
              "  @keyframes spin {\n",
              "    0% {\n",
              "      border-color: transparent;\n",
              "      border-bottom-color: var(--fill-color);\n",
              "      border-left-color: var(--fill-color);\n",
              "    }\n",
              "    20% {\n",
              "      border-color: transparent;\n",
              "      border-left-color: var(--fill-color);\n",
              "      border-top-color: var(--fill-color);\n",
              "    }\n",
              "    30% {\n",
              "      border-color: transparent;\n",
              "      border-left-color: var(--fill-color);\n",
              "      border-top-color: var(--fill-color);\n",
              "      border-right-color: var(--fill-color);\n",
              "    }\n",
              "    40% {\n",
              "      border-color: transparent;\n",
              "      border-right-color: var(--fill-color);\n",
              "      border-top-color: var(--fill-color);\n",
              "    }\n",
              "    60% {\n",
              "      border-color: transparent;\n",
              "      border-right-color: var(--fill-color);\n",
              "    }\n",
              "    80% {\n",
              "      border-color: transparent;\n",
              "      border-right-color: var(--fill-color);\n",
              "      border-bottom-color: var(--fill-color);\n",
              "    }\n",
              "    90% {\n",
              "      border-color: transparent;\n",
              "      border-bottom-color: var(--fill-color);\n",
              "    }\n",
              "  }\n",
              "</style>\n",
              "\n",
              "  <script>\n",
              "    async function quickchart(key) {\n",
              "      const quickchartButtonEl =\n",
              "        document.querySelector('#' + key + ' button');\n",
              "      quickchartButtonEl.disabled = true;  // To prevent multiple clicks.\n",
              "      quickchartButtonEl.classList.add('colab-df-spinner');\n",
              "      try {\n",
              "        const charts = await google.colab.kernel.invokeFunction(\n",
              "            'suggestCharts', [key], {});\n",
              "      } catch (error) {\n",
              "        console.error('Error during call to suggestCharts:', error);\n",
              "      }\n",
              "      quickchartButtonEl.classList.remove('colab-df-spinner');\n",
              "      quickchartButtonEl.classList.add('colab-df-quickchart-complete');\n",
              "    }\n",
              "    (() => {\n",
              "      let quickchartButtonEl =\n",
              "        document.querySelector('#df-adf6c323-9de9-46e2-8c44-7345be02bb91 button');\n",
              "      quickchartButtonEl.style.display =\n",
              "        google.colab.kernel.accessAllowed ? 'block' : 'none';\n",
              "    })();\n",
              "  </script>\n",
              "</div>\n",
              "    </div>\n",
              "  </div>\n"
            ],
            "application/vnd.google.colaboratory.intrinsic+json": {
              "type": "dataframe",
              "variable_name": "nodes",
              "summary": "{\n  \"name\": \"nodes\",\n  \"rows\": 620,\n  \"fields\": [\n    {\n      \"column\": \"id\",\n      \"properties\": {\n        \"dtype\": \"number\",\n        \"std\": 672010038135967,\n        \"min\": 6657899956,\n        \"max\": 10150143501635313,\n        \"num_unique_values\": 620,\n        \"samples\": [\n          117754781604926,\n          91702965455,\n          1850476678511558\n        ],\n        \"semantic_type\": \"\",\n        \"description\": \"\"\n      }\n    },\n    {\n      \"column\": \"name\",\n      \"properties\": {\n        \"dtype\": \"string\",\n        \"num_unique_values\": 460,\n        \"samples\": [\n          \"Taco Bell Kuwait\",\n          \"Nutella Cafe Chicago\",\n          \"Raymond Blanc\"\n        ],\n        \"semantic_type\": \"\",\n        \"description\": \"\"\n      }\n    },\n    {\n      \"column\": \"new_id\",\n      \"properties\": {\n        \"dtype\": \"number\",\n        \"std\": 179,\n        \"min\": 0,\n        \"max\": 619,\n        \"num_unique_values\": 620,\n        \"samples\": [\n          329,\n          371,\n          304\n        ],\n        \"semantic_type\": \"\",\n        \"description\": \"\"\n      }\n    }\n  ]\n}"
            }
          },
          "metadata": {},
          "execution_count": 248
        }
      ]
    },
    {
      "cell_type": "code",
      "source": [
        "edges.head()"
      ],
      "metadata": {
        "colab": {
          "base_uri": "https://localhost:8080/",
          "height": 206
        },
        "id": "Cj6IWIXFT1ah",
        "outputId": "d9a434bb-4349-4dbe-9091-de0452df78d8"
      },
      "id": "Cj6IWIXFT1ah",
      "execution_count": 249,
      "outputs": [
        {
          "output_type": "execute_result",
          "data": {
            "text/plain": [
              "   source  target\n",
              "0       0     276\n",
              "1       0      58\n",
              "2       0     132\n",
              "3       0     603\n",
              "4       0     398"
            ],
            "text/html": [
              "\n",
              "  <div id=\"df-02e4c2a4-ed28-4dab-bd3e-59cac5b3e9d0\" class=\"colab-df-container\">\n",
              "    <div>\n",
              "<style scoped>\n",
              "    .dataframe tbody tr th:only-of-type {\n",
              "        vertical-align: middle;\n",
              "    }\n",
              "\n",
              "    .dataframe tbody tr th {\n",
              "        vertical-align: top;\n",
              "    }\n",
              "\n",
              "    .dataframe thead th {\n",
              "        text-align: right;\n",
              "    }\n",
              "</style>\n",
              "<table border=\"1\" class=\"dataframe\">\n",
              "  <thead>\n",
              "    <tr style=\"text-align: right;\">\n",
              "      <th></th>\n",
              "      <th>source</th>\n",
              "      <th>target</th>\n",
              "    </tr>\n",
              "  </thead>\n",
              "  <tbody>\n",
              "    <tr>\n",
              "      <th>0</th>\n",
              "      <td>0</td>\n",
              "      <td>276</td>\n",
              "    </tr>\n",
              "    <tr>\n",
              "      <th>1</th>\n",
              "      <td>0</td>\n",
              "      <td>58</td>\n",
              "    </tr>\n",
              "    <tr>\n",
              "      <th>2</th>\n",
              "      <td>0</td>\n",
              "      <td>132</td>\n",
              "    </tr>\n",
              "    <tr>\n",
              "      <th>3</th>\n",
              "      <td>0</td>\n",
              "      <td>603</td>\n",
              "    </tr>\n",
              "    <tr>\n",
              "      <th>4</th>\n",
              "      <td>0</td>\n",
              "      <td>398</td>\n",
              "    </tr>\n",
              "  </tbody>\n",
              "</table>\n",
              "</div>\n",
              "    <div class=\"colab-df-buttons\">\n",
              "\n",
              "  <div class=\"colab-df-container\">\n",
              "    <button class=\"colab-df-convert\" onclick=\"convertToInteractive('df-02e4c2a4-ed28-4dab-bd3e-59cac5b3e9d0')\"\n",
              "            title=\"Convert this dataframe to an interactive table.\"\n",
              "            style=\"display:none;\">\n",
              "\n",
              "  <svg xmlns=\"http://www.w3.org/2000/svg\" height=\"24px\" viewBox=\"0 -960 960 960\">\n",
              "    <path d=\"M120-120v-720h720v720H120Zm60-500h600v-160H180v160Zm220 220h160v-160H400v160Zm0 220h160v-160H400v160ZM180-400h160v-160H180v160Zm440 0h160v-160H620v160ZM180-180h160v-160H180v160Zm440 0h160v-160H620v160Z\"/>\n",
              "  </svg>\n",
              "    </button>\n",
              "\n",
              "  <style>\n",
              "    .colab-df-container {\n",
              "      display:flex;\n",
              "      gap: 12px;\n",
              "    }\n",
              "\n",
              "    .colab-df-convert {\n",
              "      background-color: #E8F0FE;\n",
              "      border: none;\n",
              "      border-radius: 50%;\n",
              "      cursor: pointer;\n",
              "      display: none;\n",
              "      fill: #1967D2;\n",
              "      height: 32px;\n",
              "      padding: 0 0 0 0;\n",
              "      width: 32px;\n",
              "    }\n",
              "\n",
              "    .colab-df-convert:hover {\n",
              "      background-color: #E2EBFA;\n",
              "      box-shadow: 0px 1px 2px rgba(60, 64, 67, 0.3), 0px 1px 3px 1px rgba(60, 64, 67, 0.15);\n",
              "      fill: #174EA6;\n",
              "    }\n",
              "\n",
              "    .colab-df-buttons div {\n",
              "      margin-bottom: 4px;\n",
              "    }\n",
              "\n",
              "    [theme=dark] .colab-df-convert {\n",
              "      background-color: #3B4455;\n",
              "      fill: #D2E3FC;\n",
              "    }\n",
              "\n",
              "    [theme=dark] .colab-df-convert:hover {\n",
              "      background-color: #434B5C;\n",
              "      box-shadow: 0px 1px 3px 1px rgba(0, 0, 0, 0.15);\n",
              "      filter: drop-shadow(0px 1px 2px rgba(0, 0, 0, 0.3));\n",
              "      fill: #FFFFFF;\n",
              "    }\n",
              "  </style>\n",
              "\n",
              "    <script>\n",
              "      const buttonEl =\n",
              "        document.querySelector('#df-02e4c2a4-ed28-4dab-bd3e-59cac5b3e9d0 button.colab-df-convert');\n",
              "      buttonEl.style.display =\n",
              "        google.colab.kernel.accessAllowed ? 'block' : 'none';\n",
              "\n",
              "      async function convertToInteractive(key) {\n",
              "        const element = document.querySelector('#df-02e4c2a4-ed28-4dab-bd3e-59cac5b3e9d0');\n",
              "        const dataTable =\n",
              "          await google.colab.kernel.invokeFunction('convertToInteractive',\n",
              "                                                    [key], {});\n",
              "        if (!dataTable) return;\n",
              "\n",
              "        const docLinkHtml = 'Like what you see? Visit the ' +\n",
              "          '<a target=\"_blank\" href=https://colab.research.google.com/notebooks/data_table.ipynb>data table notebook</a>'\n",
              "          + ' to learn more about interactive tables.';\n",
              "        element.innerHTML = '';\n",
              "        dataTable['output_type'] = 'display_data';\n",
              "        await google.colab.output.renderOutput(dataTable, element);\n",
              "        const docLink = document.createElement('div');\n",
              "        docLink.innerHTML = docLinkHtml;\n",
              "        element.appendChild(docLink);\n",
              "      }\n",
              "    </script>\n",
              "  </div>\n",
              "\n",
              "\n",
              "<div id=\"df-9b7b60fd-e4ba-4991-ab4a-38335644ffc3\">\n",
              "  <button class=\"colab-df-quickchart\" onclick=\"quickchart('df-9b7b60fd-e4ba-4991-ab4a-38335644ffc3')\"\n",
              "            title=\"Suggest charts\"\n",
              "            style=\"display:none;\">\n",
              "\n",
              "<svg xmlns=\"http://www.w3.org/2000/svg\" height=\"24px\"viewBox=\"0 0 24 24\"\n",
              "     width=\"24px\">\n",
              "    <g>\n",
              "        <path d=\"M19 3H5c-1.1 0-2 .9-2 2v14c0 1.1.9 2 2 2h14c1.1 0 2-.9 2-2V5c0-1.1-.9-2-2-2zM9 17H7v-7h2v7zm4 0h-2V7h2v10zm4 0h-2v-4h2v4z\"/>\n",
              "    </g>\n",
              "</svg>\n",
              "  </button>\n",
              "\n",
              "<style>\n",
              "  .colab-df-quickchart {\n",
              "      --bg-color: #E8F0FE;\n",
              "      --fill-color: #1967D2;\n",
              "      --hover-bg-color: #E2EBFA;\n",
              "      --hover-fill-color: #174EA6;\n",
              "      --disabled-fill-color: #AAA;\n",
              "      --disabled-bg-color: #DDD;\n",
              "  }\n",
              "\n",
              "  [theme=dark] .colab-df-quickchart {\n",
              "      --bg-color: #3B4455;\n",
              "      --fill-color: #D2E3FC;\n",
              "      --hover-bg-color: #434B5C;\n",
              "      --hover-fill-color: #FFFFFF;\n",
              "      --disabled-bg-color: #3B4455;\n",
              "      --disabled-fill-color: #666;\n",
              "  }\n",
              "\n",
              "  .colab-df-quickchart {\n",
              "    background-color: var(--bg-color);\n",
              "    border: none;\n",
              "    border-radius: 50%;\n",
              "    cursor: pointer;\n",
              "    display: none;\n",
              "    fill: var(--fill-color);\n",
              "    height: 32px;\n",
              "    padding: 0;\n",
              "    width: 32px;\n",
              "  }\n",
              "\n",
              "  .colab-df-quickchart:hover {\n",
              "    background-color: var(--hover-bg-color);\n",
              "    box-shadow: 0 1px 2px rgba(60, 64, 67, 0.3), 0 1px 3px 1px rgba(60, 64, 67, 0.15);\n",
              "    fill: var(--button-hover-fill-color);\n",
              "  }\n",
              "\n",
              "  .colab-df-quickchart-complete:disabled,\n",
              "  .colab-df-quickchart-complete:disabled:hover {\n",
              "    background-color: var(--disabled-bg-color);\n",
              "    fill: var(--disabled-fill-color);\n",
              "    box-shadow: none;\n",
              "  }\n",
              "\n",
              "  .colab-df-spinner {\n",
              "    border: 2px solid var(--fill-color);\n",
              "    border-color: transparent;\n",
              "    border-bottom-color: var(--fill-color);\n",
              "    animation:\n",
              "      spin 1s steps(1) infinite;\n",
              "  }\n",
              "\n",
              "  @keyframes spin {\n",
              "    0% {\n",
              "      border-color: transparent;\n",
              "      border-bottom-color: var(--fill-color);\n",
              "      border-left-color: var(--fill-color);\n",
              "    }\n",
              "    20% {\n",
              "      border-color: transparent;\n",
              "      border-left-color: var(--fill-color);\n",
              "      border-top-color: var(--fill-color);\n",
              "    }\n",
              "    30% {\n",
              "      border-color: transparent;\n",
              "      border-left-color: var(--fill-color);\n",
              "      border-top-color: var(--fill-color);\n",
              "      border-right-color: var(--fill-color);\n",
              "    }\n",
              "    40% {\n",
              "      border-color: transparent;\n",
              "      border-right-color: var(--fill-color);\n",
              "      border-top-color: var(--fill-color);\n",
              "    }\n",
              "    60% {\n",
              "      border-color: transparent;\n",
              "      border-right-color: var(--fill-color);\n",
              "    }\n",
              "    80% {\n",
              "      border-color: transparent;\n",
              "      border-right-color: var(--fill-color);\n",
              "      border-bottom-color: var(--fill-color);\n",
              "    }\n",
              "    90% {\n",
              "      border-color: transparent;\n",
              "      border-bottom-color: var(--fill-color);\n",
              "    }\n",
              "  }\n",
              "</style>\n",
              "\n",
              "  <script>\n",
              "    async function quickchart(key) {\n",
              "      const quickchartButtonEl =\n",
              "        document.querySelector('#' + key + ' button');\n",
              "      quickchartButtonEl.disabled = true;  // To prevent multiple clicks.\n",
              "      quickchartButtonEl.classList.add('colab-df-spinner');\n",
              "      try {\n",
              "        const charts = await google.colab.kernel.invokeFunction(\n",
              "            'suggestCharts', [key], {});\n",
              "      } catch (error) {\n",
              "        console.error('Error during call to suggestCharts:', error);\n",
              "      }\n",
              "      quickchartButtonEl.classList.remove('colab-df-spinner');\n",
              "      quickchartButtonEl.classList.add('colab-df-quickchart-complete');\n",
              "    }\n",
              "    (() => {\n",
              "      let quickchartButtonEl =\n",
              "        document.querySelector('#df-9b7b60fd-e4ba-4991-ab4a-38335644ffc3 button');\n",
              "      quickchartButtonEl.style.display =\n",
              "        google.colab.kernel.accessAllowed ? 'block' : 'none';\n",
              "    })();\n",
              "  </script>\n",
              "</div>\n",
              "    </div>\n",
              "  </div>\n"
            ],
            "application/vnd.google.colaboratory.intrinsic+json": {
              "type": "dataframe",
              "variable_name": "edges",
              "summary": "{\n  \"name\": \"edges\",\n  \"rows\": 2102,\n  \"fields\": [\n    {\n      \"column\": \"source\",\n      \"properties\": {\n        \"dtype\": \"number\",\n        \"std\": 152,\n        \"min\": 0,\n        \"max\": 618,\n        \"num_unique_values\": 457,\n        \"samples\": [\n          325,\n          36,\n          374\n        ],\n        \"semantic_type\": \"\",\n        \"description\": \"\"\n      }\n    },\n    {\n      \"column\": \"target\",\n      \"properties\": {\n        \"dtype\": \"number\",\n        \"std\": 156,\n        \"min\": 15,\n        \"max\": 619,\n        \"num_unique_values\": 485,\n        \"samples\": [\n          365,\n          487,\n          235\n        ],\n        \"semantic_type\": \"\",\n        \"description\": \"\"\n      }\n    }\n  ]\n}"
            }
          },
          "metadata": {},
          "execution_count": 249
        }
      ]
    },
    {
      "cell_type": "code",
      "source": [
        "G = nx.Graph()"
      ],
      "metadata": {
        "id": "FOeha6wiTIwP"
      },
      "id": "FOeha6wiTIwP",
      "execution_count": 250,
      "outputs": []
    },
    {
      "cell_type": "code",
      "source": [
        "for _, row in nodes.iterrows():\n",
        "    G.add_node(row['new_id'], name=row['name'])\n",
        "\n",
        "\n",
        "for _, row in edges.iterrows():\n",
        "    G.add_edge(row['source'], row['target'])"
      ],
      "metadata": {
        "id": "SSk92dCFZcJM"
      },
      "id": "SSk92dCFZcJM",
      "execution_count": 251,
      "outputs": []
    },
    {
      "cell_type": "code",
      "source": [
        "G.remove_edges_from(nx.selfloop_edges(G))"
      ],
      "metadata": {
        "id": "Z5bbb3KaZcMg"
      },
      "id": "Z5bbb3KaZcMg",
      "execution_count": 252,
      "outputs": []
    },
    {
      "cell_type": "code",
      "source": [
        "adj_matrix = nx.to_numpy_array(G)"
      ],
      "metadata": {
        "id": "n9sWvGU6ZDqS"
      },
      "id": "n9sWvGU6ZDqS",
      "execution_count": 253,
      "outputs": []
    },
    {
      "cell_type": "code",
      "source": [
        "adj_matrix"
      ],
      "metadata": {
        "colab": {
          "base_uri": "https://localhost:8080/"
        },
        "id": "wjePoMRbUNeC",
        "outputId": "422d3750-cb5d-444c-f9e1-3ea558101d9d"
      },
      "id": "wjePoMRbUNeC",
      "execution_count": 254,
      "outputs": [
        {
          "output_type": "execute_result",
          "data": {
            "text/plain": [
              "array([[0., 0., 0., ..., 0., 0., 0.],\n",
              "       [0., 0., 0., ..., 0., 0., 0.],\n",
              "       [0., 0., 0., ..., 0., 0., 0.],\n",
              "       ...,\n",
              "       [0., 0., 0., ..., 0., 0., 0.],\n",
              "       [0., 0., 0., ..., 0., 0., 0.],\n",
              "       [0., 0., 0., ..., 0., 0., 0.]])"
            ]
          },
          "metadata": {},
          "execution_count": 254
        }
      ]
    },
    {
      "cell_type": "code",
      "source": [
        "degrees = adj_matrix.sum(axis=1)"
      ],
      "metadata": {
        "id": "oE5Qh4QlXe5m"
      },
      "id": "oE5Qh4QlXe5m",
      "execution_count": 255,
      "outputs": []
    },
    {
      "cell_type": "code",
      "source": [
        "max(degrees) #максимальная степень"
      ],
      "metadata": {
        "colab": {
          "base_uri": "https://localhost:8080/"
        },
        "id": "XTDsk30WUNk0",
        "outputId": "19ef61b2-bd11-43fe-9d0d-f34154664326"
      },
      "id": "XTDsk30WUNk0",
      "execution_count": 256,
      "outputs": [
        {
          "output_type": "execute_result",
          "data": {
            "text/plain": [
              "132.0"
            ]
          },
          "metadata": {},
          "execution_count": 256
        }
      ]
    },
    {
      "cell_type": "code",
      "source": [
        "idx = np.argmax(degrees)"
      ],
      "metadata": {
        "id": "XZGh84wiXuFq"
      },
      "id": "XZGh84wiXuFq",
      "execution_count": 257,
      "outputs": []
    },
    {
      "cell_type": "code",
      "source": [
        "nodes.iloc[idx]['name'] #получение имени из датафрейма"
      ],
      "metadata": {
        "colab": {
          "base_uri": "https://localhost:8080/",
          "height": 35
        },
        "id": "j2OZxqsMXVVB",
        "outputId": "f41ca67d-ff02-478c-f934-3b56d4d12ad0"
      },
      "id": "j2OZxqsMXVVB",
      "execution_count": 258,
      "outputs": [
        {
          "output_type": "execute_result",
          "data": {
            "text/plain": [
              "'Logan Junior Chef'"
            ],
            "application/vnd.google.colaboratory.intrinsic+json": {
              "type": "string"
            }
          },
          "metadata": {},
          "execution_count": 258
        }
      ]
    },
    {
      "cell_type": "code",
      "source": [
        "G.nodes[list(G.nodes)[idx]]['name'] #получение имени из графа"
      ],
      "metadata": {
        "colab": {
          "base_uri": "https://localhost:8080/",
          "height": 35
        },
        "id": "u9RJwZD6X4rY",
        "outputId": "bef0c962-a4f4-42e5-8dd9-cd3ee8bc7bfc"
      },
      "id": "u9RJwZD6X4rY",
      "execution_count": 259,
      "outputs": [
        {
          "output_type": "execute_result",
          "data": {
            "text/plain": [
              "'Logan Junior Chef'"
            ],
            "application/vnd.google.colaboratory.intrinsic+json": {
              "type": "string"
            }
          },
          "metadata": {},
          "execution_count": 259
        }
      ]
    },
    {
      "cell_type": "code",
      "source": [],
      "metadata": {
        "id": "MfTQ7yJbX4vo"
      },
      "id": "MfTQ7yJbX4vo",
      "execution_count": 259,
      "outputs": []
    },
    {
      "cell_type": "markdown",
      "id": "83e349d5-0e05-436b-9ecd-badbd2844fa4",
      "metadata": {
        "id": "83e349d5-0e05-436b-9ecd-badbd2844fa4"
      },
      "source": [
        "<p class=\"task\" id=\"2\"></p>\n",
        "\n",
        "2\\. Используя граф из предыдущего задания, посчитайте степени каждого узла, используя возможности графа `nx.Graph`. Посчитайте и выведите на экран среднюю степень узлов графа, округленную до ближайшего целого.\n",
        "\n",
        "- [ ] Проверено на семинаре"
      ]
    },
    {
      "cell_type": "code",
      "source": [
        "degrees = dict(G.degree())"
      ],
      "metadata": {
        "id": "nzBXMdS-Zn2O"
      },
      "id": "nzBXMdS-Zn2O",
      "execution_count": 260,
      "outputs": []
    },
    {
      "cell_type": "code",
      "source": [
        "avg_d = sum(degrees.values()) / len(degrees)\n",
        "avg_d"
      ],
      "metadata": {
        "id": "uNSfyCSoWni4",
        "colab": {
          "base_uri": "https://localhost:8080/"
        },
        "outputId": "624092cc-4ef7-42c2-c1d7-02d2ee6cb155"
      },
      "id": "uNSfyCSoWni4",
      "execution_count": 261,
      "outputs": [
        {
          "output_type": "execute_result",
          "data": {
            "text/plain": [
              "6.745161290322581"
            ]
          },
          "metadata": {},
          "execution_count": 261
        }
      ]
    },
    {
      "cell_type": "code",
      "source": [
        "round(avg_d)"
      ],
      "metadata": {
        "id": "OLx2YBD8WnmC",
        "colab": {
          "base_uri": "https://localhost:8080/"
        },
        "outputId": "66b23b22-0f02-4c4b-cefc-341108dc845a"
      },
      "id": "OLx2YBD8WnmC",
      "execution_count": 262,
      "outputs": [
        {
          "output_type": "execute_result",
          "data": {
            "text/plain": [
              "7"
            ]
          },
          "metadata": {},
          "execution_count": 262
        }
      ]
    },
    {
      "cell_type": "markdown",
      "id": "3f67390e",
      "metadata": {
        "id": "3f67390e"
      },
      "source": [
        "<p class=\"task\" id=\"3\"></p>\n",
        "\n",
        "3\\. Создайте ориентированный граф на основе набора данных `fb-pages-food` с сайта https://networkrepository.com/. Удалите из графа все петли. Получите матрицу смежности графа и посчитайте входящую и исходящую степень каждого узла на основе этой матрицы. Найдите и выведите на экран максимальное значение исходящих степеней и среднее значение входящих степеней.\n",
        "\n",
        "- [ ] Проверено на семинаре"
      ]
    },
    {
      "cell_type": "code",
      "source": [
        "G1 = nx.DiGraph()"
      ],
      "metadata": {
        "id": "f7HMFVZDaZZp"
      },
      "execution_count": 264,
      "outputs": [],
      "id": "f7HMFVZDaZZp"
    },
    {
      "cell_type": "code",
      "source": [
        "for _, row in nodes.iterrows():\n",
        "    G1.add_node(row['new_id'], name=row['name'])\n",
        "\n",
        "\n",
        "for _, row in edges.iterrows():\n",
        "    G1.add_edge(row['source'], row['target'])"
      ],
      "metadata": {
        "id": "BH1ekgcvaZZv"
      },
      "execution_count": 265,
      "outputs": [],
      "id": "BH1ekgcvaZZv"
    },
    {
      "cell_type": "code",
      "source": [
        "G1.remove_edges_from(nx.selfloop_edges(G1))"
      ],
      "metadata": {
        "id": "HhSkLmycaZZv"
      },
      "execution_count": 266,
      "outputs": [],
      "id": "HhSkLmycaZZv"
    },
    {
      "cell_type": "code",
      "source": [
        "adj_matrix = nx.to_numpy_array(G1)"
      ],
      "metadata": {
        "id": "KBxybNMdaZZv"
      },
      "execution_count": 267,
      "outputs": [],
      "id": "KBxybNMdaZZv"
    },
    {
      "cell_type": "code",
      "source": [
        "in_degrees = adj_matrix.sum(axis=0)\n",
        "in_degrees"
      ],
      "metadata": {
        "colab": {
          "base_uri": "https://localhost:8080/"
        },
        "id": "v2vGv8aKaUed",
        "outputId": "41455e81-2ceb-438b-9649-51570c3b3bfa"
      },
      "id": "v2vGv8aKaUed",
      "execution_count": 268,
      "outputs": [
        {
          "output_type": "execute_result",
          "data": {
            "text/plain": [
              "array([ 4.,  7.,  0.,  1.,  3.,  4.,  3., 18.,  2.,  3.,  2.,  1.,  4.,\n",
              "        1.,  1.,  0.,  0., 15.,  1.,  1.,  1.,  1.,  5.,  3.,  4.,  2.,\n",
              "        7.,  0.,  3.,  1.,  0.,  2., 12.,  1.,  8.,  3.,  5.,  0., 14.,\n",
              "        5.,  2.,  1.,  0.,  2.,  1.,  1.,  0.,  0.,  1.,  6.,  1., 18.,\n",
              "        0.,  2.,  1.,  1.,  3.,  2.,  4.,  3.,  0.,  1.,  1.,  3., 46.,\n",
              "        0.,  0.,  2.,  4.,  5.,  2.,  1.,  1.,  0.,  4.,  3.,  0.,  2.,\n",
              "        0.,  1.,  5.,  3.,  0.,  0.,  2.,  0.,  3.,  1.,  1.,  0.,  0.,\n",
              "        3., 31.,  1.,  0.,  5.,  6.,  1.,  1.,  3.,  1.,  0.,  2.,  0.,\n",
              "        3.,  4.,  2.,  0.,  1.,  1.,  1.,  0.,  2.,  3.,  5.,  1.,  1.,\n",
              "       20.,  1.,  1.,  0.,  2.,  0.,  1.,  0.,  1.,  1.,  2.,  2.,  7.,\n",
              "        3.,  2.,  1.,  0.,  3.,  3.,  2.,  6.,  1.,  0.,  0.,  0.,  0.,\n",
              "        2.,  0.,  2., 16.,  3.,  1.,  7.,  5., 14., 10.,  2.,  5.,  2.,\n",
              "        6.,  3.,  1.,  5.,  1.,  3.,  5.,  2.,  0.,  6.,  1.,  8.,  6.,\n",
              "        0.,  3.,  4.,  1.,  1.,  2.,  2.,  4.,  2.,  4.,  3.,  4.,  0.,\n",
              "        3.,  1.,  1.,  4.,  0.,  5.,  0.,  1.,  0., 26.,  1.,  2.,  1.,\n",
              "        2., 10.,  3.,  1., 18.,  5.,  0.,  1.,  3.,  2.,  5.,  9.,  2.,\n",
              "        0.,  1.,  1.,  1.,  1.,  2.,  1.,  6., 10.,  5.,  1.,  7.,  2.,\n",
              "        2.,  1., 12.,  4.,  4., 10.,  2.,  3.,  0.,  2.,  1.,  1.,  3.,\n",
              "        0.,  1.,  2.,  0.,  0.,  0.,  7.,  3.,  2.,  3.,  1.,  0.,  3.,\n",
              "        0.,  6.,  0., 16.,  1.,  6.,  4.,  8.,  1.,  2.,  1.,  3.,  1.,\n",
              "        6.,  0.,  2.,  4., 15.,  2.,  3.,  6.,  7.,  1.,  6.,  1., 16.,\n",
              "       13.,  1.,  1., 47.,  0.,  7.,  0.,  4.,  0.,  2.,  0.,  1.,  9.,\n",
              "       21.,  4.,  4.,  0.,  2.,  2.,  9.,  3.,  1.,  0.,  1.,  3.,  1.,\n",
              "        1.,  2., 26.,  3.,  5.,  2.,  4.,  0.,  2., 21.,  0.,  4.,  2.,\n",
              "        1.,  1.,  2.,  0.,  1.,  0.,  1.,  1.,  3.,  4.,  2.,  0.,  0.,\n",
              "        1.,  3.,  7., 14.,  8.,  2.,  7.,  1.,  1., 20.,  2.,  0., 10.,\n",
              "        0.,  3.,  6.,  2.,  0.,  7.,  1.,  0.,  0.,  1.,  1.,  0.,  1.,\n",
              "        3.,  0.,  3.,  1.,  3.,  0.,  1.,  7.,  3., 11.,  2.,  1.,  0.,\n",
              "        0.,  5.,  1.,  1.,  4.,  1.,  0.,  9.,  1.,  0.,  1.,  1., 12.,\n",
              "        7.,  2.,  1.,  3.,  3.,  5.,  2.,  6.,  1.,  0.,  3.,  3.,  8.,\n",
              "        2.,  1.,  0.,  1.,  4.,  3.,  1.,  1.,  4.,  9.,  7.,  3.,  2.,\n",
              "        0.,  1., 12.,  0.,  1.,  0.,  1.,  2.,  1.,  1.,  0., 11.,  1.,\n",
              "        1.,  1.,  3.,  0.,  0.,  5.,  0.,  1.,  1.,  5.,  0.,  2.,  8.,\n",
              "        0.,  1.,  0.,  7., 11.,  1.,  3.,  2.,  2.,  0.,  5.,  4.,  1.,\n",
              "        1.,  0.,  0.,  0., 10.,  1.,  1.,  0.,  2.,  0., 10.,  1.,  3.,\n",
              "        2.,  1., 12.,  4.,  0.,  0., 18.,  3.,  3.,  6., 14.,  4.,  8.,\n",
              "        0.,  1.,  1.,  2.,  2.,  2.,  2.,  0.,  0.,  0.,  1.,  0.,  0.,\n",
              "        0.,  2.,  0.,  0.,  0.,  0.,  2.,  5.,  1.,  7.,  0.,  9.,  6.,\n",
              "        1.,  1.,  3.,  0.,  6.,  5., 24.,  0.,  1.,  1.,  2., 18.,  0.,\n",
              "       65.,  9.,  1.,  0.,  0.,  1.,  2.,  8.,  2.,  1.,  5.,  0.,  3.,\n",
              "        0.,  4.,  6.,  3.,  2.,  0.,  8.,  1.,  3.,  3.,  0.,  6.,  7.,\n",
              "        2.,  0.,  0.,  1.,  4., 34.,  7.,  2.,  4.,  2.,  2.,  1.,  0.,\n",
              "        2.,  2.,  1.,  1.,  2.,  1.,  1.,  3.,  0.,  1.,  1.,  4.,  2.,\n",
              "       13.,  1.,  7.,  0.,  0.,  1.,  3.,  0., 11.,  0.,  0.,  3.,  1.,\n",
              "       12.,  3.,  1., 23.,  3.,  3.,  4.,  5.,  1.,  1.,  1.,  3.,  2.,\n",
              "        4., 12.,  3.,  1.,  0.,  4.,  2.,  0.,  1.,  1.,  1., 12.,  0.,\n",
              "        1.,  2.,  6.,  1.,  2.,  0.,  2.,  2.,  7.,  1.,  0.,  0.,  8.,\n",
              "        0.,  1.,  9.,  2.,  2.,  0.,  0.,  3.,  0.])"
            ]
          },
          "metadata": {},
          "execution_count": 268
        }
      ]
    },
    {
      "cell_type": "code",
      "source": [
        "out_degrees = adj_matrix.sum(axis=1)\n",
        "out_degrees"
      ],
      "metadata": {
        "colab": {
          "base_uri": "https://localhost:8080/"
        },
        "id": "IPXJ-aOBamqo",
        "outputId": "94a8a4d3-3b2f-4b4b-f63a-edd2e1cf2299"
      },
      "id": "IPXJ-aOBamqo",
      "execution_count": 269,
      "outputs": [
        {
          "output_type": "execute_result",
          "data": {
            "text/plain": [
              "array([ 3.,  0.,  2.,  0.,  2.,  0.,  6.,  7.,  0.,  1.,  3.,  9.,  3.,\n",
              "        0.,  1.,  3.,  6.,  1.,  0.,  0.,  0.,  0.,  0.,  0.,  6.,  0.,\n",
              "        8.,  6.,  3., 21.,  1., 10.,  1.,  4.,  0.,  1.,  8.,  7.,  3.,\n",
              "       17.,  0.,  0.,  2.,  8.,  1.,  0.,  1.,  1.,  0.,  6.,  0.,  4.,\n",
              "        1.,  1.,  0.,  3., 44.,  1.,  1.,  5.,  2.,  1.,  0.,  3., 13.,\n",
              "        3.,  1.,  1.,  2.,  3.,  0.,  0., 10.,  1.,  1.,  6.,  1.,  1.,\n",
              "        2.,  5.,  5.,  0.,  1.,  1.,  2.,  4.,  0.,  0.,  0.,  1.,  5.,\n",
              "        5.,  4.,  1.,  1.,  4.,  1.,  8.,  2.,  0.,  2.,  1.,  0.,  3.,\n",
              "        0.,  5.,  1., 28.,  1.,  0.,  1.,  5.,  0.,  0.,  0.,  4.,  3.,\n",
              "        2.,  0.,  3.,  2.,  1.,  6.,  0.,  1.,  0.,  5.,  0.,  0.,  0.,\n",
              "        0.,  7.,  6.,  2.,  6.,  1.,  5.,  0.,  1.,  6.,  1.,  1.,  1.,\n",
              "        0.,  1.,  1.,  8.,  5.,  6.,  0.,  4.,  3.,  5.,  3.,  9.,  1.,\n",
              "        1.,  0.,  4.,  0.,  0.,  0.,  1.,  5.,  2.,  5.,  4.,  2., 41.,\n",
              "        7.,  0.,  2.,  1.,  1.,  9.,  0., 12.,  2.,  1.,  0.,  0.,  5.,\n",
              "        6.,  0.,  1.,  6., 10.,  7.,  1.,  1.,  2.,  7.,  4.,  1.,  0.,\n",
              "        0.,  7.,  2.,  4., 19., 17.,  1.,  0.,  9.,  4.,  2., 42.,  0.,\n",
              "        1.,  1.,  5.,  0.,  0.,  2.,  6.,  3.,  0.,  0., 13.,  3.,  2.,\n",
              "        1.,  0.,  3., 26.,  0.,  6.,  2.,  3.,  2.,  1.,  0.,  0.,  6.,\n",
              "        1.,  0.,  1.,  1.,  5.,  5.,  5.,  0.,  4.,  0.,  2.,  3.,  0.,\n",
              "        6.,  2.,  1.,  0.,  1.,  0.,  0.,  0.,  1.,  0.,  7.,  1.,  0.,\n",
              "        0.,  1.,  5.,  4., 11.,  6.,  4.,  5.,  1.,  1.,  3.,  0., 16.,\n",
              "        0.,  5.,  0.,  0.,  4.,  0.,  3.,  2.,  3.,  8.,  2.,  0.,  3.,\n",
              "        0.,  0.,  4.,  2.,  2.,  0., 22.,  0.,  1.,  1.,  0.,  0.,  0.,\n",
              "        3.,  1.,  1.,  2.,  0.,  0.,  2.,  2.,  0.,  8.,  6.,  0.,  0.,\n",
              "        1.,  0.,  2.,  1., 25.,  1.,  1.,  8.,  0.,  0.,  0.,  8.,  4.,\n",
              "        0.,  1.,  0.,  6.,  1.,  2.,  1.,  0.,  1.,  3.,  0.,  1., 19.,\n",
              "        5.,  5.,  0.,  1.,  3.,  1.,  9.,  5.,  1.,  4.,  0.,  5.,  1.,\n",
              "        2.,  1.,  0.,  3.,  3.,  2.,  1.,  3.,  0.,  0.,  0.,  9.,  2.,\n",
              "        1.,  7.,  4.,  0.,  4.,  6.,  3.,  3.,  0.,  7.,  5.,  0., 19.,\n",
              "        1.,  2.,  1.,  1.,  0.,  8.,  1.,  1.,  0.,  7., 12.,  2.,  0.,\n",
              "        0.,  0.,  1., 11., 11., 10.,  0.,  1.,  4.,  1.,  2.,  2.,  8.,\n",
              "       12.,  3., 31.,  5.,  0.,  2.,  4.,  2.,  1.,  5.,  2., 10.,  0.,\n",
              "        0.,  0.,  4.,  2.,  2.,  0.,  1.,  1.,  1.,  9.,  3.,  4., 18.,\n",
              "        1.,  3.,  1.,  4.,  2.,  0.,  2.,  0.,  9.,  4.,  1.,  1.,  6.,\n",
              "        1.,  1.,  4.,  1.,  2., 12.,  0.,  1.,  1.,  1.,  6.,  0.,  3.,\n",
              "        0.,  2.,  3.,  0.,  2.,  3.,  4.,  3.,  0.,  4., 17.,  3.,  2.,\n",
              "        1.,  0.,  0.,  0.,  1.,  0.,  1.,  8., 14.,  1.,  2., 17.,  1.,\n",
              "        4.,  2.,  3.,  1.,  1.,  2.,  0.,  0.,  0.,  8.,  1.,  0.,  3.,\n",
              "        4.,  3.,  0.,  3.,  9.,  2.,  6.,  2.,  0.,  1.,  1.,  1.,  1.,\n",
              "       67.,  4.,  3.,  5., 25.,  0.,  1.,  0.,  6.,  7.,  1.,  1.,  1.,\n",
              "        2.,  3.,  0.,  1.,  1.,  1.,  0.,  0.,  9.,  0.,  3.,  4.,  6.,\n",
              "        5.,  6.,  1.,  1.,  5., 21.,  4.,  3.,  3.,  0.,  0., 11.,  2.,\n",
              "       12.,  5.,  1.,  0.,  1.,  3.,  0.,  0.,  6.,  4.,  7.,  0.,  1.,\n",
              "       10.,  0.,  2.,  1.,  3.,  1.,  1.,  4.,  3.,  1.,  3.,  6.,  2.,\n",
              "        2.,  0.,  0.,  0.,  5.,  1.,  0.,  3.,  1.,  1.,  1.,  0.,  0.,\n",
              "        0.,  1., 12.,  2.,  2.,  0.,  0.,  1.,  5.,  0.,  1., 10.,  3.,\n",
              "        1.,  9.,  2.,  0.,  0.,  3.,  1.,  0., 49.,  0.,  1.,  1.,  2.,\n",
              "        1.,  4.,  3.,  3.,  4.,  1.,  2.,  7.,  8.])"
            ]
          },
          "metadata": {},
          "execution_count": 269
        }
      ]
    },
    {
      "cell_type": "code",
      "source": [
        "out_degrees.max()"
      ],
      "metadata": {
        "colab": {
          "base_uri": "https://localhost:8080/"
        },
        "id": "ncnD_QZ6amyX",
        "outputId": "9fd7762f-652e-45c7-c7a5-cfad6b5a29ee"
      },
      "id": "ncnD_QZ6amyX",
      "execution_count": 270,
      "outputs": [
        {
          "output_type": "execute_result",
          "data": {
            "text/plain": [
              "67.0"
            ]
          },
          "metadata": {},
          "execution_count": 270
        }
      ]
    },
    {
      "cell_type": "code",
      "source": [
        "in_degrees.mean()"
      ],
      "metadata": {
        "id": "f4EDs-hHWoNy",
        "colab": {
          "base_uri": "https://localhost:8080/"
        },
        "outputId": "2c951e1f-5e3c-4754-fe51-0cd3a19e4050"
      },
      "id": "f4EDs-hHWoNy",
      "execution_count": 271,
      "outputs": [
        {
          "output_type": "execute_result",
          "data": {
            "text/plain": [
              "3.3725806451612903"
            ]
          },
          "metadata": {},
          "execution_count": 271
        }
      ]
    },
    {
      "cell_type": "code",
      "source": [],
      "metadata": {
        "id": "wuqNI7LxWoQt"
      },
      "id": "wuqNI7LxWoQt",
      "execution_count": 271,
      "outputs": []
    },
    {
      "cell_type": "code",
      "source": [],
      "metadata": {
        "id": "fQVSQeRSWoTw"
      },
      "id": "fQVSQeRSWoTw",
      "execution_count": 271,
      "outputs": []
    },
    {
      "cell_type": "markdown",
      "id": "1ddf9392-8ee3-45c2-b462-f2f8a9ceb9ca",
      "metadata": {
        "id": "1ddf9392-8ee3-45c2-b462-f2f8a9ceb9ca"
      },
      "source": [
        "<p class=\"task\" id=\"4\"></p>\n",
        "\n",
        "4\\. Постройте графики выборочной функции распределения входящих и исходящих степеней узлов для загруженного ориентированного графа. Для нахождения степеней узлов воспользуйтесь возможностями графа `nx.DiGraph`. Добавьте графикам названия, а осям - подписи. Расположите графики рядом по горизонтали.\n",
        "\n",
        "- [ ] Проверено на семинаре"
      ]
    },
    {
      "cell_type": "markdown",
      "source": [
        "![image.png](data:image/png;base64,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)"
      ],
      "metadata": {
        "id": "PG3aHdg0s9BV"
      },
      "id": "PG3aHdg0s9BV"
    },
    {
      "cell_type": "code",
      "source": [
        "import matplotlib.pyplot as plt"
      ],
      "metadata": {
        "id": "-DJSJGJwWpjO"
      },
      "id": "-DJSJGJwWpjO",
      "execution_count": 284,
      "outputs": []
    },
    {
      "cell_type": "code",
      "source": [
        "in_degrees = dict(G1.in_degree())\n",
        "out_degrees = dict(G1.out_degree())"
      ],
      "metadata": {
        "id": "lxPav8bmiuvM"
      },
      "id": "lxPav8bmiuvM",
      "execution_count": 272,
      "outputs": []
    },
    {
      "cell_type": "code",
      "source": [
        "in_unique, in_counts = np.unique(list(in_degrees.values()), return_counts=True)\n",
        "out_unique, out_counts = np.unique(list(out_degrees.values()), return_counts=True)\n"
      ],
      "metadata": {
        "id": "PH0oePvdteWd"
      },
      "id": "PH0oePvdteWd",
      "execution_count": 273,
      "outputs": []
    },
    {
      "cell_type": "code",
      "source": [
        "sum(in_counts)==len(in_degrees)"
      ],
      "metadata": {
        "colab": {
          "base_uri": "https://localhost:8080/"
        },
        "id": "5Akwqrs7sFp2",
        "outputId": "9d1cf0e0-c9ec-4af7-822e-32f133c5e604"
      },
      "id": "5Akwqrs7sFp2",
      "execution_count": 274,
      "outputs": [
        {
          "output_type": "execute_result",
          "data": {
            "text/plain": [
              "True"
            ]
          },
          "metadata": {},
          "execution_count": 274
        }
      ]
    },
    {
      "cell_type": "code",
      "source": [
        "in_unique"
      ],
      "metadata": {
        "colab": {
          "base_uri": "https://localhost:8080/"
        },
        "id": "Hn6bOLZnuz6t",
        "outputId": "a963f4f3-933d-43fc-fdc0-7df8ab3c0508"
      },
      "id": "Hn6bOLZnuz6t",
      "execution_count": 275,
      "outputs": [
        {
          "output_type": "execute_result",
          "data": {
            "text/plain": [
              "array([ 0,  1,  2,  3,  4,  5,  6,  7,  8,  9, 10, 11, 12, 13, 14, 15, 16,\n",
              "       18, 20, 21, 23, 24, 26, 31, 34, 46, 47, 65])"
            ]
          },
          "metadata": {},
          "execution_count": 275
        }
      ]
    },
    {
      "cell_type": "code",
      "source": [
        "in_counts"
      ],
      "metadata": {
        "colab": {
          "base_uri": "https://localhost:8080/"
        },
        "id": "pw0f_RXlupXt",
        "outputId": "2d6bfb56-dc77-4135-c722-0152f8cdb7e5"
      },
      "id": "pw0f_RXlupXt",
      "execution_count": 276,
      "outputs": [
        {
          "output_type": "execute_result",
          "data": {
            "text/plain": [
              "array([136, 157,  91,  69,  36,  25,  20,  20,  10,   8,   7,   4,   8,\n",
              "         2,   4,   2,   3,   5,   2,   2,   1,   1,   2,   1,   1,   1,\n",
              "         1,   1])"
            ]
          },
          "metadata": {},
          "execution_count": 276
        }
      ]
    },
    {
      "cell_type": "code",
      "source": [
        "np.cumsum(in_counts)"
      ],
      "metadata": {
        "colab": {
          "base_uri": "https://localhost:8080/"
        },
        "id": "N5jp6RFmr8af",
        "outputId": "5af1f547-1a86-4424-8c1b-a3e87cea0ae2"
      },
      "id": "N5jp6RFmr8af",
      "execution_count": 277,
      "outputs": [
        {
          "output_type": "execute_result",
          "data": {
            "text/plain": [
              "array([136, 293, 384, 453, 489, 514, 534, 554, 564, 572, 579, 583, 591,\n",
              "       593, 597, 599, 602, 607, 609, 611, 612, 613, 615, 616, 617, 618,\n",
              "       619, 620])"
            ]
          },
          "metadata": {},
          "execution_count": 277
        }
      ]
    },
    {
      "cell_type": "code",
      "source": [
        "in_cdf = np.cumsum(in_counts) / len(in_degrees)\n",
        "out_cdf = np.cumsum(out_counts) / len(out_degrees)"
      ],
      "metadata": {
        "id": "0wpMUBEckSW3"
      },
      "id": "0wpMUBEckSW3",
      "execution_count": 278,
      "outputs": []
    },
    {
      "cell_type": "code",
      "source": [
        "fig, axes = plt.subplots(1, 2, figsize=(12, 5))\n",
        "\n",
        "axes[0].plot(in_unique, in_cdf)\n",
        "axes[0].set_title('Выборочная функция распределения степеней узлов')\n",
        "axes[0].set_xlabel('In-Degree')\n",
        "axes[0].set_ylabel('CDF')\n",
        "\n",
        "\n",
        "axes[1].plot(out_unique, out_cdf)\n",
        "axes[1].set_title('Выборочная функция распределения степеней узлов')\n",
        "axes[1].set_xlabel('Out-Degree')\n",
        "axes[1].set_ylabel('CDF')\n",
        "\n",
        "plt.tight_layout()\n",
        "plt.show()\n"
      ],
      "metadata": {
        "id": "gj8tE8-hWo5u",
        "colab": {
          "base_uri": "https://localhost:8080/",
          "height": 341
        },
        "outputId": "15dc4d71-5fd6-4a72-bae0-661a3a012cc0"
      },
      "id": "gj8tE8-hWo5u",
      "execution_count": 283,
      "outputs": [
        {
          "output_type": "display_data",
          "data": {
            "text/plain": [
              "<Figure size 1200x500 with 2 Axes>"
            ],
            "image/png": "[encoded data removed]"
          },
          "metadata": {}
        }
      ]
    },
    {
      "cell_type": "markdown",
      "id": "dd85a863-f864-4b7f-b88c-f96c469cbd3c",
      "metadata": {
        "id": "dd85a863-f864-4b7f-b88c-f96c469cbd3c"
      },
      "source": [
        "<p class=\"task\" id=\"5\"></p>\n",
        "\n",
        "5\\. Визуализируйте закон распределения степеней узлов в обычной и логарифимических (по 1й и по 2м осям) системах координат для неориентированного графа. Расположите графики в виде сетки 2х2. Добавьте графикам названия, а осям - подписи.\n",
        "\n",
        "- [ ] Проверено на семинаре"
      ]
    },
    {
      "cell_type": "code",
      "source": [
        "degrees = dict(G.degree())"
      ],
      "metadata": {
        "id": "OpVr4JP4Wpl6"
      },
      "id": "OpVr4JP4Wpl6",
      "execution_count": 285,
      "outputs": []
    },
    {
      "cell_type": "code",
      "source": [
        "fig, axes = plt.subplots(2, 2, figsize=(12, 10))\n",
        "fig.subplots_adjust(hspace=0.4, wspace=0.4)\n",
        "\n",
        "# обычная ск\n",
        "axes[0, 0].hist(degrees.values(), bins=10, color='blue', edgecolor='black')\n",
        "axes[0, 0].set_title('Закон распределения степень узлов')\n",
        "axes[0, 0].set_xlabel('Степень')\n",
        "axes[0, 0].set_ylabel('Частота')\n",
        "\n",
        "# х - лог\n",
        "axes[0, 1].hist(degrees.values(), bins=10, color='green', edgecolor='black')\n",
        "axes[0, 1].set_title('Закон распределения степеней узлов')\n",
        "axes[0, 1].set_xlabel('Степень')\n",
        "axes[0, 1].set_ylabel('Частота')\n",
        "axes[0, 1].set_xscale('log')\n",
        "\n",
        "# у - лог\n",
        "axes[1, 0].hist(degrees.values(), bins=10, color='orange', edgecolor='black', log=True)\n",
        "axes[1, 0].set_title('Закон распределения степеней узлов')\n",
        "axes[1, 0].set_xlabel('Степень')\n",
        "axes[1, 0].set_ylabel('Частота')\n",
        "axes[1, 0].set_yscale('log')\n",
        "\n",
        "# лог - лог\n",
        "axes[1, 1].hist(degrees.values(), bins=10, color='yellow', edgecolor='black', log=True)\n",
        "axes[1, 1].set_title('Закон распределения степеней узлов')\n",
        "axes[1, 1].set_xlabel('Степень')\n",
        "axes[1, 1].set_ylabel('Частота')\n",
        "axes[1, 1].set_xscale('log')\n",
        "axes[1, 1].set_yscale('log')\n",
        "\n",
        "plt.show()\n"
      ],
      "metadata": {
        "colab": {
          "base_uri": "https://localhost:8080/",
          "height": 690
        },
        "id": "K9gA7bUjfFdS",
        "outputId": "58ab91b2-9fd9-4988-e8d2-d87787e8dff3"
      },
      "id": "K9gA7bUjfFdS",
      "execution_count": 286,
      "outputs": [
        {
          "output_type": "display_data",
          "data": {
            "text/plain": [
              "<Figure size 1200x1000 with 4 Axes>"
            ],
            "image/png": "[encoded data removed]"
          },
          "metadata": {}
        }
      ]
    },
    {
      "cell_type": "code",
      "source": [
        "plt.figure(figsize=(8, 6))\n",
        "plt.scatter(degrees.keys(), degrees.values(), color='blue', alpha=0.5)\n",
        "plt.title('Облако точек')\n",
        "plt.xlabel('Node ID')\n",
        "plt.ylabel('Степень')\n",
        "plt.grid(True)\n",
        "plt.show()\n"
      ],
      "metadata": {
        "colab": {
          "base_uri": "https://localhost:8080/",
          "height": 564
        },
        "id": "KvxAP3ZZhrbz",
        "outputId": "1fbc641c-01db-4eeb-ea3f-5c574284f85e"
      },
      "id": "KvxAP3ZZhrbz",
      "execution_count": 287,
      "outputs": [
        {
          "output_type": "display_data",
          "data": {
            "text/plain": [
              "<Figure size 800x600 with 1 Axes>"
            ],
            "image/png": "[encoded data removed]"
          },
          "metadata": {}
        }
      ]
    },
    {
      "cell_type": "code",
      "source": [],
      "metadata": {
        "id": "tCZGDdK_ht88"
      },
      "id": "tCZGDdK_ht88",
      "execution_count": 233,
      "outputs": []
    }
  ],
  "metadata": {
    "kernelspec": {
      "display_name": "Python 3 (ipykernel)",
      "language": "python",
      "name": "python3"
    },
    "language_info": {
      "codemirror_mode": {
        "name": "ipython",
        "version": 3
      },
      "file_extension": ".py",
      "mimetype": "text/x-python",
      "name": "python",
      "nbconvert_exporter": "python",
      "pygments_lexer": "ipython3",
      "version": "3.10.0"
    },
    "colab": {
      "provenance": [],
      "collapsed_sections": [
        "a13ab35d-a7c0-4237-a394-691389c7c773"
      ]
    }
  },
  "nbformat": 4,
  "nbformat_minor": 5
}