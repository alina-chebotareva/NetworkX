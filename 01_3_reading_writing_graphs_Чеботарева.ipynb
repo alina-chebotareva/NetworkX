{
  "cells": [
    {
      "cell_type": "markdown",
      "id": "29eedd06-4cd6-41fc-aa4e-569dd4f521bd",
      "metadata": {
        "id": "29eedd06-4cd6-41fc-aa4e-569dd4f521bd"
      },
      "source": [
        "# Чтение и сохранение графов"
      ]
    },
    {
      "cell_type": "markdown",
      "id": "f6b687e9-05ef-4908-8bde-2b5dbbe576b6",
      "metadata": {
        "id": "f6b687e9-05ef-4908-8bde-2b5dbbe576b6"
      },
      "source": [
        "__Автор задач: Блохин Н.В. (NVBlokhin@fa.ru)__\n",
        "\n",
        "Материалы:\n",
        "* Макрушин С.В. \"Лекция 1: Введение в сетевой анализ и знакомство с библиотекой NetworkX\"\n",
        "* Документация:\n",
        "    * https://networkx.org/documentation/stable/reference/readwrite/index.html\n",
        "    * https://networkx.org/documentation/stable/reference/generated/networkx.convert_matrix.from_numpy_array.html\n",
        "    * https://networkx.org/documentation/stable/reference/generated/networkx.linalg.graphmatrix.adjacency_matrix.html\n",
        "    * https://networkx.org/documentation/stable/reference/generated/networkx.generators.social.karate_club_graph.html\n",
        "    * https://networkx.org/documentation/stable/reference/readwrite/generated/networkx.readwrite.edgelist.read_edgelist.html\n",
        "    * https://networkx.org/documentation/stable/reference/readwrite/generated/networkx.readwrite.json_graph.node_link_data.html\n",
        "    * https://networkx.org/documentation/stable/reference/readwrite/generated/networkx.readwrite.graphml.write_graphml.html\n",
        "* Датасеты с сетями:\n",
        "    * http://networkrepository.com\n",
        "    * http://konect.cc/networks/\n",
        "    * https://snap.stanford.edu/data/\n",
        "    * https://networkdata.ics.uci.edu/resources.php\n",
        "    * https://kateto.net/2016/05/network-datasets/"
      ]
    },
    {
      "cell_type": "markdown",
      "id": "a13ab35d-a7c0-4237-a394-691389c7c773",
      "metadata": {
        "id": "a13ab35d-a7c0-4237-a394-691389c7c773"
      },
      "source": [
        "## Вопросы для совместного обсуждения"
      ]
    },
    {
      "cell_type": "markdown",
      "id": "7ea53db8-da33-43ee-95e0-9876384499c1",
      "metadata": {
        "id": "7ea53db8-da33-43ee-95e0-9876384499c1"
      },
      "source": [
        "1\\. Обсудите работу с популярными форматами для хранения графов."
      ]
    },
    {
      "cell_type": "code",
      "source": [
        "import networkx as nx\n",
        "import matplotlib.pyplot as plt"
      ],
      "metadata": {
        "id": "qFGvyOXPVAS7"
      },
      "execution_count": 74,
      "outputs": [],
      "id": "qFGvyOXPVAS7"
    },
    {
      "cell_type": "code",
      "source": [
        "G = nx.Graph()\n",
        "G.add_edges_from([(0, 1), (1, 2), (2, 3)])\n",
        "nx.draw(G)"
      ],
      "metadata": {
        "id": "JHaTnmumVQWd",
        "colab": {
          "base_uri": "https://localhost:8080/",
          "height": 516
        },
        "outputId": "e561a0a6-0323-48de-90c5-5aa924254956"
      },
      "execution_count": 2,
      "outputs": [
        {
          "output_type": "display_data",
          "data": {
            "text/plain": [
              "<Figure size 640x480 with 1 Axes>"
            ],
            "image/png": "[encoded data removed]"
          },
          "metadata": {}
        }
      ],
      "id": "JHaTnmumVQWd"
    },
    {
      "cell_type": "code",
      "source": [
        "A = nx.adjacency_matrix(G).toarray()"
      ],
      "metadata": {
        "id": "8A5bBE1dV2aL"
      },
      "execution_count": null,
      "outputs": [],
      "id": "8A5bBE1dV2aL"
    },
    {
      "cell_type": "code",
      "source": [
        "A"
      ],
      "metadata": {
        "colab": {
          "base_uri": "https://localhost:8080/"
        },
        "id": "mG7Hk118bGPU",
        "outputId": "43a22611-1f17-4fcc-effa-5024f3f374ac"
      },
      "id": "mG7Hk118bGPU",
      "execution_count": null,
      "outputs": [
        {
          "output_type": "execute_result",
          "data": {
            "text/plain": [
              "array([[0, 1, 0, 0],\n",
              "       [1, 0, 1, 0],\n",
              "       [0, 1, 0, 1],\n",
              "       [0, 0, 1, 0]])"
            ]
          },
          "metadata": {},
          "execution_count": 18
        }
      ]
    },
    {
      "cell_type": "code",
      "source": [
        "nx.write_edgelist(G, \"g.edgelist\")"
      ],
      "metadata": {
        "id": "f5Sa78_6WfvN"
      },
      "execution_count": null,
      "outputs": [],
      "id": "f5Sa78_6WfvN"
    },
    {
      "cell_type": "code",
      "source": [
        "G = nx.read_edgelist(\n",
        "    \"g.edgelist\",\n",
        "    comments=\"%\",\n",
        "    nodetype=int,\n",
        "    create_using=nx.DiGraph\n",
        ")\n",
        "G.nodes\n",
        "type(G)"
      ],
      "metadata": {
        "colab": {
          "base_uri": "https://localhost:8080/"
        },
        "id": "uXUDX9Y0YB7Z",
        "outputId": "a3f16b89-2589-4385-8921-4ef1dc73f5c1"
      },
      "execution_count": null,
      "outputs": [
        {
          "output_type": "execute_result",
          "data": {
            "text/plain": [
              "networkx.classes.digraph.DiGraph"
            ]
          },
          "metadata": {},
          "execution_count": 15
        }
      ],
      "id": "uXUDX9Y0YB7Z"
    },
    {
      "cell_type": "code",
      "source": [
        "# G.to_directed()"
      ],
      "metadata": {
        "id": "2DO_8CkdY1mZ"
      },
      "execution_count": null,
      "outputs": [],
      "id": "2DO_8CkdY1mZ"
    },
    {
      "cell_type": "code",
      "source": [],
      "metadata": {
        "id": "y1o12gFUVELH"
      },
      "id": "y1o12gFUVELH",
      "execution_count": null,
      "outputs": []
    },
    {
      "cell_type": "code",
      "source": [],
      "metadata": {
        "id": "KFmAq3bWVEOT"
      },
      "id": "KFmAq3bWVEOT",
      "execution_count": null,
      "outputs": []
    },
    {
      "cell_type": "code",
      "source": [],
      "metadata": {
        "id": "P0Jsm2zCVERd"
      },
      "id": "P0Jsm2zCVERd",
      "execution_count": null,
      "outputs": []
    },
    {
      "cell_type": "code",
      "source": [],
      "metadata": {
        "id": "W1yeXBkLVEVM"
      },
      "id": "W1yeXBkLVEVM",
      "execution_count": null,
      "outputs": []
    },
    {
      "cell_type": "markdown",
      "id": "5f786de8-ba69-4d86-b997-e55c9028acad",
      "metadata": {
        "id": "5f786de8-ba69-4d86-b997-e55c9028acad"
      },
      "source": [
        "## Задачи для самостоятельного решения"
      ]
    },
    {
      "cell_type": "code",
      "source": [
        "from google.colab import drive\n",
        "drive.mount('/content/drive')"
      ],
      "metadata": {
        "colab": {
          "base_uri": "https://localhost:8080/"
        },
        "id": "decPuMtEZ26-",
        "outputId": "431f7734-2e7b-4afb-944a-a7b9799ca699"
      },
      "id": "decPuMtEZ26-",
      "execution_count": 18,
      "outputs": [
        {
          "output_type": "stream",
          "name": "stdout",
          "text": [
            "Mounted at /content/drive\n"
          ]
        }
      ]
    },
    {
      "cell_type": "code",
      "source": [
        "import networkx as nx\n",
        "import numpy as np"
      ],
      "metadata": {
        "id": "4EN231X8ZdUV"
      },
      "id": "4EN231X8ZdUV",
      "execution_count": 19,
      "outputs": []
    },
    {
      "cell_type": "markdown",
      "id": "c08a6cb0-9b05-4a80-a4cc-a2f70d9cbfd7",
      "metadata": {
        "id": "c08a6cb0-9b05-4a80-a4cc-a2f70d9cbfd7"
      },
      "source": [
        "<p class=\"task\" id=\"1\"></p>\n",
        "\n",
        "1\\. Загрузите матрицу смежности графа из файла `weighted_wheel.npy` и создайте на ее основе граф.  Выведите на экран количество узлов и связей графа. Выведите на экран тип графа (nx.Graph, nx.DiGraph, ...). Выведите на экран словарь со значениями атрибута `weight` на ребрах.\n",
        "\n",
        "- [x] Проверено на семинаре"
      ]
    },
    {
      "cell_type": "code",
      "source": [
        "file_path = '/content/drive/My Drive/weighted_wheel.npy'"
      ],
      "metadata": {
        "id": "ZUMKCo4dYiH2"
      },
      "id": "ZUMKCo4dYiH2",
      "execution_count": null,
      "outputs": []
    },
    {
      "cell_type": "code",
      "source": [
        "adj_matrix = np.load(file_path)"
      ],
      "metadata": {
        "id": "PFNcq5VlYiLP"
      },
      "id": "PFNcq5VlYiLP",
      "execution_count": null,
      "outputs": []
    },
    {
      "cell_type": "code",
      "source": [
        "adj_matrix"
      ],
      "metadata": {
        "colab": {
          "base_uri": "https://localhost:8080/"
        },
        "id": "q1uuZ07bYiRb",
        "outputId": "71b9e9b2-bbf3-4db0-ee17-bd696de7b528"
      },
      "id": "q1uuZ07bYiRb",
      "execution_count": null,
      "outputs": [
        {
          "output_type": "execute_result",
          "data": {
            "text/plain": [
              "array([[0., 2., 0., 1., 3., 3., 1., 4., 0., 0.],\n",
              "       [0., 0., 2., 0., 0., 0., 0., 0., 0., 1.],\n",
              "       [1., 2., 0., 4., 0., 0., 0., 0., 0., 0.],\n",
              "       [3., 0., 2., 0., 0., 0., 0., 0., 0., 0.],\n",
              "       [3., 0., 0., 1., 0., 4., 0., 0., 0., 0.],\n",
              "       [1., 0., 0., 0., 0., 0., 3., 0., 0., 0.],\n",
              "       [4., 0., 0., 0., 0., 3., 0., 2., 0., 0.],\n",
              "       [0., 0., 0., 0., 0., 0., 3., 0., 4., 0.],\n",
              "       [0., 0., 0., 0., 0., 0., 0., 2., 0., 0.],\n",
              "       [3., 0., 0., 0., 0., 0., 0., 0., 4., 0.]])"
            ]
          },
          "metadata": {},
          "execution_count": 28
        }
      ]
    },
    {
      "cell_type": "code",
      "source": [
        "G = nx.from_numpy_array(adj_matrix)"
      ],
      "metadata": {
        "id": "CKyamTWraLzx"
      },
      "id": "CKyamTWraLzx",
      "execution_count": null,
      "outputs": []
    },
    {
      "cell_type": "code",
      "source": [
        "nx.draw(G)"
      ],
      "metadata": {
        "colab": {
          "base_uri": "https://localhost:8080/",
          "height": 516
        },
        "id": "hqNiYBKVa-ac",
        "outputId": "542d5b8f-ae7e-46ec-9eb9-c82d83bc9d93"
      },
      "id": "hqNiYBKVa-ac",
      "execution_count": null,
      "outputs": [
        {
          "output_type": "display_data",
          "data": {
            "text/plain": [
              "<Figure size 640x480 with 1 Axes>"
            ],
            "image/png": "[encoded data removed]"
          },
          "metadata": {}
        }
      ]
    },
    {
      "cell_type": "code",
      "source": [
        "len(G.nodes)"
      ],
      "metadata": {
        "colab": {
          "base_uri": "https://localhost:8080/"
        },
        "id": "l_Vqt9QKa-eb",
        "outputId": "01910710-221d-4b99-f5b0-9eb29910e927"
      },
      "id": "l_Vqt9QKa-eb",
      "execution_count": null,
      "outputs": [
        {
          "output_type": "execute_result",
          "data": {
            "text/plain": [
              "10"
            ]
          },
          "metadata": {},
          "execution_count": 31
        }
      ]
    },
    {
      "cell_type": "code",
      "source": [
        "len(G.edges)"
      ],
      "metadata": {
        "colab": {
          "base_uri": "https://localhost:8080/"
        },
        "id": "i9Qa5esPaL8B",
        "outputId": "03b2d83d-4f3c-4e78-faef-918bba6da100"
      },
      "id": "i9Qa5esPaL8B",
      "execution_count": null,
      "outputs": [
        {
          "output_type": "execute_result",
          "data": {
            "text/plain": [
              "17"
            ]
          },
          "metadata": {},
          "execution_count": 32
        }
      ]
    },
    {
      "cell_type": "code",
      "source": [
        "# h=nx.DiGraph()\n",
        "# type(h)"
      ],
      "metadata": {
        "colab": {
          "base_uri": "https://localhost:8080/"
        },
        "id": "hbCNnRdZdynB",
        "outputId": "59cec268-692d-4291-91cc-4be0d8657593"
      },
      "id": "hbCNnRdZdynB",
      "execution_count": null,
      "outputs": [
        {
          "output_type": "execute_result",
          "data": {
            "text/plain": [
              "networkx.classes.digraph.DiGraph"
            ]
          },
          "metadata": {},
          "execution_count": 40
        }
      ]
    },
    {
      "cell_type": "code",
      "source": [
        "type(G)"
      ],
      "metadata": {
        "colab": {
          "base_uri": "https://localhost:8080/"
        },
        "id": "8AdTDFFsceBe",
        "outputId": "c6a2985b-6f1c-4653-9c84-1c5f783ec558"
      },
      "id": "8AdTDFFsceBe",
      "execution_count": null,
      "outputs": [
        {
          "output_type": "execute_result",
          "data": {
            "text/plain": [
              "networkx.classes.graph.Graph"
            ]
          },
          "metadata": {},
          "execution_count": 33
        }
      ]
    },
    {
      "cell_type": "code",
      "source": [
        "# G.edges(data = 'weight')"
      ],
      "metadata": {
        "colab": {
          "base_uri": "https://localhost:8080/"
        },
        "id": "WOaxg92Fg5Pv",
        "outputId": "4bc1bf5a-4722-4318-f106-81a495afc28d"
      },
      "id": "WOaxg92Fg5Pv",
      "execution_count": null,
      "outputs": [
        {
          "output_type": "execute_result",
          "data": {
            "text/plain": [
              "OutEdgeDataView([(0, 1, 2.0), (0, 3, 1.0), (0, 4, 3.0), (0, 7, 4.0), (1, 2, 2.0), (1, 9, 1.0), (2, 0, 1.0), (2, 3, 4.0), (3, 0, 3.0), (3, 2, 2.0), (4, 0, 3.0), (4, 5, 4.0), (5, 0, 1.0), (5, 6, 3.0), (6, 0, 4.0), (6, 5, 3.0), (6, 7, 2.0), (7, 6, 3.0), (7, 8, 4.0), (8, 7, 2.0), (9, 0, 3.0)])"
            ]
          },
          "metadata": {},
          "execution_count": 66
        }
      ]
    },
    {
      "cell_type": "code",
      "source": [
        "nx.get_edge_attributes(G,'weight')"
      ],
      "metadata": {
        "colab": {
          "base_uri": "https://localhost:8080/"
        },
        "id": "OaujkijIdxw4",
        "outputId": "eb4506f3-a6b6-4de6-b66c-4a57b08bf31e"
      },
      "id": "OaujkijIdxw4",
      "execution_count": null,
      "outputs": [
        {
          "output_type": "execute_result",
          "data": {
            "text/plain": [
              "{(0, 1): 2.0,\n",
              " (0, 3): 3.0,\n",
              " (0, 4): 3.0,\n",
              " (0, 5): 1.0,\n",
              " (0, 6): 4.0,\n",
              " (0, 7): 4.0,\n",
              " (0, 2): 1.0,\n",
              " (0, 9): 3.0,\n",
              " (1, 2): 2.0,\n",
              " (1, 9): 1.0,\n",
              " (2, 3): 2.0,\n",
              " (3, 4): 1.0,\n",
              " (4, 5): 4.0,\n",
              " (5, 6): 3.0,\n",
              " (6, 7): 3.0,\n",
              " (7, 8): 2.0,\n",
              " (8, 9): 4.0}"
            ]
          },
          "metadata": {},
          "execution_count": 45
        }
      ]
    },
    {
      "cell_type": "code",
      "source": [],
      "metadata": {
        "id": "eTi_mQQig366"
      },
      "id": "eTi_mQQig366",
      "execution_count": null,
      "outputs": []
    },
    {
      "cell_type": "code",
      "source": [],
      "metadata": {
        "id": "q0oRpDSueX52"
      },
      "id": "q0oRpDSueX52",
      "execution_count": null,
      "outputs": []
    },
    {
      "cell_type": "markdown",
      "id": "1627fe14-1c25-4234-b887-8d295589f26a",
      "metadata": {
        "id": "1627fe14-1c25-4234-b887-8d295589f26a"
      },
      "source": [
        "<p class=\"task\" id=\"2\"></p>\n",
        "\n",
        "2\\. Загрузите матрицу смежности графа из файла `weighted_oriented_wheel.npy` и создайте на ее основе ориентированный граф.  Визуализируйте граф. Выведите на экран тип графа (nx.Graph, nx.DiGraph, ...). Получите матрицу смежности загруженного графа и покажите, что она не является симметричной.\n",
        "\n",
        "- [x] Проверено на семинаре"
      ]
    },
    {
      "cell_type": "code",
      "source": [
        "file_path = '/content/drive/My Drive/weighted_oriented_wheel.npy'"
      ],
      "metadata": {
        "id": "5Q7E6lmDen-E"
      },
      "execution_count": null,
      "outputs": [],
      "id": "5Q7E6lmDen-E"
    },
    {
      "cell_type": "code",
      "source": [
        "adj_matrix = np.load(file_path)"
      ],
      "metadata": {
        "id": "V12MFHKFen-G"
      },
      "execution_count": null,
      "outputs": [],
      "id": "V12MFHKFen-G"
    },
    {
      "cell_type": "code",
      "source": [
        "adj_matrix"
      ],
      "metadata": {
        "colab": {
          "base_uri": "https://localhost:8080/"
        },
        "id": "Fn0SGWCqe0u_",
        "outputId": "59ce5dcc-5277-4f86-a3de-78c1b4b45baa"
      },
      "id": "Fn0SGWCqe0u_",
      "execution_count": null,
      "outputs": [
        {
          "output_type": "execute_result",
          "data": {
            "text/plain": [
              "array([[0., 2., 0., 1., 3., 0., 0., 4., 0., 0.],\n",
              "       [0., 0., 2., 0., 0., 0., 0., 0., 0., 1.],\n",
              "       [1., 0., 0., 4., 0., 0., 0., 0., 0., 0.],\n",
              "       [3., 0., 2., 0., 0., 0., 0., 0., 0., 0.],\n",
              "       [3., 0., 0., 0., 0., 4., 0., 0., 0., 0.],\n",
              "       [1., 0., 0., 0., 0., 0., 3., 0., 0., 0.],\n",
              "       [4., 0., 0., 0., 0., 3., 0., 2., 0., 0.],\n",
              "       [0., 0., 0., 0., 0., 0., 3., 0., 4., 0.],\n",
              "       [0., 0., 0., 0., 0., 0., 0., 2., 0., 0.],\n",
              "       [3., 0., 0., 0., 0., 0., 0., 0., 0., 0.]])"
            ]
          },
          "metadata": {},
          "execution_count": 50
        }
      ]
    },
    {
      "cell_type": "code",
      "source": [
        "G = nx.from_numpy_array(adj_matrix, create_using=nx.DiGraph)"
      ],
      "metadata": {
        "id": "iAwXEar-erqd"
      },
      "execution_count": null,
      "outputs": [],
      "id": "iAwXEar-erqd"
    },
    {
      "cell_type": "code",
      "source": [
        "nx.draw(G)"
      ],
      "metadata": {
        "colab": {
          "base_uri": "https://localhost:8080/",
          "height": 516
        },
        "outputId": "e8fa4e19-88d7-4bff-bd61-4f3ff3af9880",
        "id": "VL7CZTbMerqe"
      },
      "execution_count": null,
      "outputs": [
        {
          "output_type": "display_data",
          "data": {
            "text/plain": [
              "<Figure size 640x480 with 1 Axes>"
            ],
            "image/png": "[encoded data removed]"
          },
          "metadata": {}
        }
      ],
      "id": "VL7CZTbMerqe"
    },
    {
      "cell_type": "code",
      "source": [
        "type(G)"
      ],
      "metadata": {
        "colab": {
          "base_uri": "https://localhost:8080/"
        },
        "id": "QthT8zukYi1o",
        "outputId": "b087ce39-02e9-4520-a9b8-b017dee72ae4"
      },
      "id": "QthT8zukYi1o",
      "execution_count": null,
      "outputs": [
        {
          "output_type": "execute_result",
          "data": {
            "text/plain": [
              "networkx.classes.digraph.DiGraph"
            ]
          },
          "metadata": {},
          "execution_count": 53
        }
      ]
    },
    {
      "cell_type": "code",
      "source": [
        "adj_matrix = nx.to_numpy_array(G)\n",
        "adj_matrix_t = adj_matrix.T"
      ],
      "metadata": {
        "id": "0iL7pNkLewK1"
      },
      "id": "0iL7pNkLewK1",
      "execution_count": null,
      "outputs": []
    },
    {
      "cell_type": "code",
      "source": [
        "adj_matrix"
      ],
      "metadata": {
        "colab": {
          "base_uri": "https://localhost:8080/"
        },
        "id": "LV70Wg34epOz",
        "outputId": "ddcbadfc-d45a-496c-a0f1-607b89288ca9"
      },
      "id": "LV70Wg34epOz",
      "execution_count": null,
      "outputs": [
        {
          "output_type": "execute_result",
          "data": {
            "text/plain": [
              "array([[0., 2., 0., 1., 3., 0., 0., 4., 0., 0.],\n",
              "       [0., 0., 2., 0., 0., 0., 0., 0., 0., 1.],\n",
              "       [1., 0., 0., 4., 0., 0., 0., 0., 0., 0.],\n",
              "       [3., 0., 2., 0., 0., 0., 0., 0., 0., 0.],\n",
              "       [3., 0., 0., 0., 0., 4., 0., 0., 0., 0.],\n",
              "       [1., 0., 0., 0., 0., 0., 3., 0., 0., 0.],\n",
              "       [4., 0., 0., 0., 0., 3., 0., 2., 0., 0.],\n",
              "       [0., 0., 0., 0., 0., 0., 3., 0., 4., 0.],\n",
              "       [0., 0., 0., 0., 0., 0., 0., 2., 0., 0.],\n",
              "       [3., 0., 0., 0., 0., 0., 0., 0., 0., 0.]])"
            ]
          },
          "metadata": {},
          "execution_count": 59
        }
      ]
    },
    {
      "cell_type": "code",
      "source": [
        "adj_matrix_t"
      ],
      "metadata": {
        "colab": {
          "base_uri": "https://localhost:8080/"
        },
        "id": "n4KwxKCogApT",
        "outputId": "3116f428-e2e2-43b1-fefd-33821b736822"
      },
      "id": "n4KwxKCogApT",
      "execution_count": null,
      "outputs": [
        {
          "output_type": "execute_result",
          "data": {
            "text/plain": [
              "array([[0., 0., 1., 3., 3., 1., 4., 0., 0., 3.],\n",
              "       [2., 0., 0., 0., 0., 0., 0., 0., 0., 0.],\n",
              "       [0., 2., 0., 2., 0., 0., 0., 0., 0., 0.],\n",
              "       [1., 0., 4., 0., 0., 0., 0., 0., 0., 0.],\n",
              "       [3., 0., 0., 0., 0., 0., 0., 0., 0., 0.],\n",
              "       [0., 0., 0., 0., 4., 0., 3., 0., 0., 0.],\n",
              "       [0., 0., 0., 0., 0., 3., 0., 3., 0., 0.],\n",
              "       [4., 0., 0., 0., 0., 0., 2., 0., 2., 0.],\n",
              "       [0., 0., 0., 0., 0., 0., 0., 4., 0., 0.],\n",
              "       [0., 1., 0., 0., 0., 0., 0., 0., 0., 0.]])"
            ]
          },
          "metadata": {},
          "execution_count": 60
        }
      ]
    },
    {
      "cell_type": "code",
      "source": [
        "(adj_matrix ==  adj_matrix_t).all()"
      ],
      "metadata": {
        "colab": {
          "base_uri": "https://localhost:8080/"
        },
        "id": "SvGCZYrxepUb",
        "outputId": "5904672d-d027-4b4b-f6b4-458cc79ce673"
      },
      "id": "SvGCZYrxepUb",
      "execution_count": null,
      "outputs": [
        {
          "output_type": "execute_result",
          "data": {
            "text/plain": [
              "False"
            ]
          },
          "metadata": {},
          "execution_count": 95
        }
      ]
    },
    {
      "cell_type": "code",
      "source": [
        "# => не симметричный"
      ],
      "metadata": {
        "id": "19WGcQj0Yi4l"
      },
      "id": "19WGcQj0Yi4l",
      "execution_count": null,
      "outputs": []
    },
    {
      "cell_type": "code",
      "source": [],
      "metadata": {
        "id": "gCi-DwgRg18N"
      },
      "id": "gCi-DwgRg18N",
      "execution_count": null,
      "outputs": []
    },
    {
      "cell_type": "markdown",
      "id": "83e349d5-0e05-436b-9ecd-badbd2844fa4",
      "metadata": {
        "id": "83e349d5-0e05-436b-9ecd-badbd2844fa4"
      },
      "source": [
        "<p class=\"task\" id=\"3\"></p>\n",
        "\n",
        "3\\. Загрузите информацию о ребрах графа из файла `data/karate.edgelist` и создайте на ее основе граф. При создании графа приведите идентификаторы узлов к числовому типу. Выведите на экран количество узлов и ребер загруженного графа, выведите на экран список узлов графа. Загрузите граф карате-клуба при помощи функции `nx.karate_club_graph`. Сравните две матрицы смежности (загруженного из файла графа и графа, созданного функцией) и покажите, что они одинаковые. При создании матриц смежности учтите, что порядок следования узлов в графах может различаться.  \n",
        "\n",
        "- [ ] Проверено на семинаре"
      ]
    },
    {
      "cell_type": "code",
      "source": [
        "file_path = '/content/drive/My Drive/karate.edgelist'"
      ],
      "metadata": {
        "id": "UoRFSEfsgNuJ"
      },
      "execution_count": 30,
      "outputs": [],
      "id": "UoRFSEfsgNuJ"
    },
    {
      "cell_type": "code",
      "source": [
        "G = nx.read_edgelist(file_path, nodetype=int, delimiter = '/')"
      ],
      "metadata": {
        "id": "3fq1ekRUYjaM"
      },
      "id": "3fq1ekRUYjaM",
      "execution_count": 31,
      "outputs": []
    },
    {
      "cell_type": "code",
      "source": [
        "nx.draw(G)"
      ],
      "metadata": {
        "colab": {
          "base_uri": "https://localhost:8080/",
          "height": 516
        },
        "id": "B9hPUFc9YjdA",
        "outputId": "379acaaf-5f58-4ce5-9fee-86e2badb2821"
      },
      "id": "B9hPUFc9YjdA",
      "execution_count": 32,
      "outputs": [
        {
          "output_type": "display_data",
          "data": {
            "text/plain": [
              "<Figure size 640x480 with 1 Axes>"
            ],
            "image/png": "[encoded data removed]"
          },
          "metadata": {}
        }
      ]
    },
    {
      "cell_type": "code",
      "source": [
        "len(G.nodes)"
      ],
      "metadata": {
        "colab": {
          "base_uri": "https://localhost:8080/"
        },
        "id": "pflmpTpaYjgZ",
        "outputId": "1e9cf645-b9e7-464d-813e-03d2651f9697"
      },
      "id": "pflmpTpaYjgZ",
      "execution_count": 33,
      "outputs": [
        {
          "output_type": "execute_result",
          "data": {
            "text/plain": [
              "34"
            ]
          },
          "metadata": {},
          "execution_count": 33
        }
      ]
    },
    {
      "cell_type": "code",
      "source": [
        "len(G.edges)"
      ],
      "metadata": {
        "colab": {
          "base_uri": "https://localhost:8080/"
        },
        "id": "QTz5A1U5jOXd",
        "outputId": "90cdf6ce-ff3f-4be0-b9f1-cfd4814adfe4"
      },
      "id": "QTz5A1U5jOXd",
      "execution_count": 34,
      "outputs": [
        {
          "output_type": "execute_result",
          "data": {
            "text/plain": [
              "78"
            ]
          },
          "metadata": {},
          "execution_count": 34
        }
      ]
    },
    {
      "cell_type": "code",
      "source": [
        "list(G.nodes)"
      ],
      "metadata": {
        "colab": {
          "base_uri": "https://localhost:8080/"
        },
        "id": "XP_SvXiUjObA",
        "outputId": "420aa349-c478-4aa6-9697-53d54636a3bc"
      },
      "id": "XP_SvXiUjObA",
      "execution_count": 35,
      "outputs": [
        {
          "output_type": "execute_result",
          "data": {
            "text/plain": [
              "[0,\n",
              " 1,\n",
              " 2,\n",
              " 3,\n",
              " 4,\n",
              " 5,\n",
              " 6,\n",
              " 7,\n",
              " 8,\n",
              " 10,\n",
              " 11,\n",
              " 12,\n",
              " 13,\n",
              " 17,\n",
              " 19,\n",
              " 21,\n",
              " 31,\n",
              " 30,\n",
              " 9,\n",
              " 27,\n",
              " 28,\n",
              " 32,\n",
              " 16,\n",
              " 33,\n",
              " 14,\n",
              " 15,\n",
              " 18,\n",
              " 20,\n",
              " 22,\n",
              " 23,\n",
              " 25,\n",
              " 29,\n",
              " 24,\n",
              " 26]"
            ]
          },
          "metadata": {},
          "execution_count": 35
        }
      ]
    },
    {
      "cell_type": "code",
      "source": [],
      "metadata": {
        "id": "zFWqSSQ4jOdx"
      },
      "id": "zFWqSSQ4jOdx",
      "execution_count": 35,
      "outputs": []
    },
    {
      "cell_type": "code",
      "execution_count": 36,
      "metadata": {
        "id": "7qM3ssaL9xzW"
      },
      "outputs": [],
      "source": [
        "G1 = nx.karate_club_graph()"
      ],
      "id": "7qM3ssaL9xzW"
    },
    {
      "cell_type": "code",
      "source": [
        "l = sorted(G)\n",
        "l1 = sorted(G1)"
      ],
      "metadata": {
        "id": "xSZyqjmiq_NJ"
      },
      "id": "xSZyqjmiq_NJ",
      "execution_count": 37,
      "outputs": []
    },
    {
      "cell_type": "code",
      "source": [
        "m1= nx.to_numpy_array(G, nodelist = l)\n",
        "m2= nx.to_numpy_array(G1, nodelist = l1)"
      ],
      "metadata": {
        "id": "xwtS-bOxjOg2"
      },
      "id": "xwtS-bOxjOg2",
      "execution_count": 38,
      "outputs": []
    },
    {
      "cell_type": "code",
      "source": [
        "(m1==m2).all()"
      ],
      "metadata": {
        "colab": {
          "base_uri": "https://localhost:8080/"
        },
        "id": "7rgjFqKGlUWE",
        "outputId": "3cffc553-0896-4b22-d2fa-2d3124366e49"
      },
      "id": "7rgjFqKGlUWE",
      "execution_count": 39,
      "outputs": [
        {
          "output_type": "execute_result",
          "data": {
            "text/plain": [
              "True"
            ]
          },
          "metadata": {},
          "execution_count": 39
        }
      ]
    },
    {
      "cell_type": "code",
      "source": [],
      "metadata": {
        "id": "HnjWCjEElTta"
      },
      "id": "HnjWCjEElTta",
      "execution_count": null,
      "outputs": []
    },
    {
      "cell_type": "code",
      "source": [],
      "metadata": {
        "id": "qqeckIgxlTx8"
      },
      "id": "qqeckIgxlTx8",
      "execution_count": null,
      "outputs": []
    },
    {
      "cell_type": "markdown",
      "id": "1ddf9392-8ee3-45c2-b462-f2f8a9ceb9ca",
      "metadata": {
        "id": "1ddf9392-8ee3-45c2-b462-f2f8a9ceb9ca"
      },
      "source": [
        "<p class=\"task\" id=\"4\"></p>\n",
        "\n",
        "4\\. Загрузите граф Wikibooks edits (qu) с сайта http://konect.cc/. При чтении назовите атрибуты на ребрах `x` и `y` и преобразуйте их в числа. Выведите на экран количество узлов и ребер загруженного графа, выведите на экран список узлов графа. Выведите на экран информацию о ребрах и их атрибутах. Преобразуйте граф в словарь при помощи функции `node_link_data`, удалите информацию об атрибутах `x` и `y` из полученного представления и сохраните его в JSON файл.\n",
        "\n",
        "- [ ] Проверено на семинаре"
      ]
    },
    {
      "cell_type": "code",
      "source": [
        "import json"
      ],
      "metadata": {
        "id": "6PJ-YWK-taZF"
      },
      "id": "6PJ-YWK-taZF",
      "execution_count": 64,
      "outputs": []
    },
    {
      "cell_type": "code",
      "source": [
        "file_path = '/content/drive/My Drive/out.edit-quwikibooks'"
      ],
      "metadata": {
        "id": "l3srtgZCrsHT"
      },
      "execution_count": 50,
      "outputs": [],
      "id": "l3srtgZCrsHT"
    },
    {
      "cell_type": "code",
      "source": [
        "G = nx.read_edgelist(file_path, comments='%', delimiter='\\t', nodetype = int, data=[('x', int), ('y', int)] )"
      ],
      "metadata": {
        "id": "xDcrbA7CrsHU"
      },
      "execution_count": 52,
      "outputs": [],
      "id": "xDcrbA7CrsHU"
    },
    {
      "cell_type": "code",
      "source": [
        "nx.draw(G)"
      ],
      "metadata": {
        "colab": {
          "base_uri": "https://localhost:8080/",
          "height": 516
        },
        "outputId": "81927e0a-b85b-48ec-a07b-905b43fa27e6",
        "id": "rxTJyFAYrsHU"
      },
      "execution_count": 53,
      "outputs": [
        {
          "output_type": "display_data",
          "data": {
            "text/plain": [
              "<Figure size 640x480 with 1 Axes>"
            ],
            "image/png": "[encoded data removed]"
          },
          "metadata": {}
        }
      ],
      "id": "rxTJyFAYrsHU"
    },
    {
      "cell_type": "code",
      "source": [
        "len(G.nodes), len(G.edges)"
      ],
      "metadata": {
        "id": "6TxM8ogZYj98",
        "colab": {
          "base_uri": "https://localhost:8080/"
        },
        "outputId": "aff5f992-4225-4da2-fcdb-43137552de67"
      },
      "id": "6TxM8ogZYj98",
      "execution_count": 54,
      "outputs": [
        {
          "output_type": "execute_result",
          "data": {
            "text/plain": [
              "(75, 95)"
            ]
          },
          "metadata": {},
          "execution_count": 54
        }
      ]
    },
    {
      "cell_type": "code",
      "source": [
        "list(G.nodes)"
      ],
      "metadata": {
        "id": "U31Biaf0YkA-",
        "colab": {
          "base_uri": "https://localhost:8080/"
        },
        "outputId": "6f5c0308-42da-482e-c8b5-b25579fe1042"
      },
      "id": "U31Biaf0YkA-",
      "execution_count": 56,
      "outputs": [
        {
          "output_type": "execute_result",
          "data": {
            "text/plain": [
              "[1,\n",
              " 2,\n",
              " 3,\n",
              " 4,\n",
              " 5,\n",
              " 6,\n",
              " 7,\n",
              " 8,\n",
              " 9,\n",
              " 10,\n",
              " 11,\n",
              " 12,\n",
              " 13,\n",
              " 14,\n",
              " 15,\n",
              " 16,\n",
              " 17,\n",
              " 18,\n",
              " 19,\n",
              " 20,\n",
              " 21,\n",
              " 22,\n",
              " 23,\n",
              " 24,\n",
              " 25,\n",
              " 26,\n",
              " 27,\n",
              " 28,\n",
              " 29,\n",
              " 30,\n",
              " 31,\n",
              " 32,\n",
              " 33,\n",
              " 34,\n",
              " 35,\n",
              " 36,\n",
              " 37,\n",
              " 38,\n",
              " 39,\n",
              " 40,\n",
              " 41,\n",
              " 42,\n",
              " 43,\n",
              " 44,\n",
              " 45,\n",
              " 46,\n",
              " 47,\n",
              " 48,\n",
              " 49,\n",
              " 50,\n",
              " 51,\n",
              " 52,\n",
              " 53,\n",
              " 54,\n",
              " 55,\n",
              " 56,\n",
              " 57,\n",
              " 58,\n",
              " 59,\n",
              " 60,\n",
              " 61,\n",
              " 62,\n",
              " 63,\n",
              " 64,\n",
              " 65,\n",
              " 66,\n",
              " 67,\n",
              " 68,\n",
              " 69,\n",
              " 70,\n",
              " 71,\n",
              " 72,\n",
              " 73,\n",
              " 74,\n",
              " 75]"
            ]
          },
          "metadata": {},
          "execution_count": 56
        }
      ]
    },
    {
      "cell_type": "code",
      "source": [
        "for edge in G.edges(data=True):\n",
        "    print(edge)\n"
      ],
      "metadata": {
        "id": "CjiX6H5pYkDz",
        "colab": {
          "base_uri": "https://localhost:8080/"
        },
        "outputId": "720e3e63-e866-4349-9ea8-57621b86f90e"
      },
      "id": "CjiX6H5pYkDz",
      "execution_count": 60,
      "outputs": [
        {
          "output_type": "stream",
          "name": "stdout",
          "text": [
            "(1, 1, {'x': 1, 'y': 1196376970})\n",
            "(1, 4, {'x': 1, 'y': 1196376993})\n",
            "(1, 5, {'x': 1, 'y': 1201269377})\n",
            "(1, 10, {'x': 1, 'y': 1196339644})\n",
            "(1, 11, {'x': 1, 'y': 1189963912})\n",
            "(1, 12, {'x': 1, 'y': 1196349723})\n",
            "(1, 13, {'x': 1, 'y': 1189964085})\n",
            "(1, 14, {'x': 1, 'y': 1189965633})\n",
            "(1, 15, {'x': 1, 'y': 1189964620})\n",
            "(1, 16, {'x': 1, 'y': 1189964966})\n",
            "(1, 17, {'x': 1, 'y': 1189964705})\n",
            "(1, 18, {'x': 1, 'y': 1189965897})\n",
            "(1, 20, {'x': 1, 'y': 1196339617})\n",
            "(1, 21, {'x': 1, 'y': 1192445619})\n",
            "(1, 22, {'x': 1, 'y': 1196327700})\n",
            "(1, 23, {'x': 1, 'y': 1192720101})\n",
            "(1, 24, {'x': 1, 'y': 1196375735})\n",
            "(1, 25, {'x': 1, 'y': 1192720193})\n",
            "(1, 26, {'x': 1, 'y': 1192720352})\n",
            "(1, 27, {'x': 1, 'y': 1192720512})\n",
            "(1, 30, {'x': 1, 'y': 1198775881})\n",
            "(1, 33, {'x': 1, 'y': 1195474109})\n",
            "(1, 35, {'x': 1, 'y': 1196350447})\n",
            "(1, 36, {'x': 1, 'y': 1196375432})\n",
            "(1, 37, {'x': 1, 'y': 1196375700})\n",
            "(1, 39, {'x': 1, 'y': 1198776196})\n",
            "(2, 2, {'x': 1, 'y': 1133661392})\n",
            "(2, 3, {'x': 1, 'y': 1133661420})\n",
            "(3, 4, {'x': 1, 'y': 1154380719})\n",
            "(3, 5, {'x': 1, 'y': 1154380800})\n",
            "(4, 5, {'x': 1, 'y': 1196130107})\n",
            "(4, 22, {'x': 1, 'y': 1192890992})\n",
            "(4, 34, {'x': 1, 'y': 1196130107})\n",
            "(5, 6, {'x': 1, 'y': 1161746778})\n",
            "(6, 7, {'x': 1, 'y': 1188583480})\n",
            "(6, 8, {'x': 1, 'y': 1188583635})\n",
            "(7, 9, {'x': 1, 'y': 1189931983})\n",
            "(8, 19, {'x': 1, 'y': 1190965580})\n",
            "(8, 29, {'x': 1, 'y': 1194613754})\n",
            "(9, 24, {'x': 1, 'y': 1269502240})\n",
            "(10, 28, {'x': 1, 'y': 1329624702})\n",
            "(10, 47, {'x': 1, 'y': 1231392244})\n",
            "(10, 50, {'x': 1, 'y': 1421017659})\n",
            "(10, 51, {'x': 1, 'y': 1424392725})\n",
            "(10, 52, {'x': 1, 'y': 1424582886})\n",
            "(10, 53, {'x': 1, 'y': 1424584999})\n",
            "(10, 54, {'x': 1, 'y': 1426641954})\n",
            "(11, 30, {'x': 1, 'y': 1194628957})\n",
            "(11, 31, {'x': 1, 'y': 1194629028})\n",
            "(12, 32, {'x': 1, 'y': 1194824693})\n",
            "(13, 36, {'x': 1, 'y': 1331927240})\n",
            "(14, 38, {'x': 1, 'y': 1196822297})\n",
            "(15, 39, {'x': 1, 'y': 1198818411})\n",
            "(16, 40, {'x': 1, 'y': 1199659422})\n",
            "(17, 41, {'x': 1, 'y': 1200963231})\n",
            "(17, 42, {'x': 1, 'y': 1200963239})\n",
            "(17, 48, {'x': 1, 'y': 1236651900})\n",
            "(18, 43, {'x': 1, 'y': 1206629670})\n",
            "(18, 49, {'x': 1, 'y': 1264397782})\n",
            "(19, 44, {'x': 1, 'y': 1212273415})\n",
            "(20, 45, {'x': 1, 'y': 1212802423})\n",
            "(20, 46, {'x': 1, 'y': 1212802562})\n",
            "(21, 47, {'x': 1, 'y': 1410430928})\n",
            "(22, 51, {'x': 1, 'y': 1438202325})\n",
            "(22, 52, {'x': 1, 'y': 1438202324})\n",
            "(22, 66, {'x': 1, 'y': 1438202324})\n",
            "(22, 67, {'x': 1, 'y': 1438202325})\n",
            "(23, 55, {'x': 1, 'y': 1429245691})\n",
            "(23, 56, {'x': 1, 'y': 1429245691})\n",
            "(23, 57, {'x': 1, 'y': 1426837698})\n",
            "(23, 58, {'x': 1, 'y': 1429245691})\n",
            "(23, 59, {'x': 1, 'y': 1426837698})\n",
            "(23, 60, {'x': 1, 'y': 1429245702})\n",
            "(23, 61, {'x': 1, 'y': 1429245691})\n",
            "(23, 62, {'x': 1, 'y': 1429245691})\n",
            "(23, 63, {'x': 1, 'y': 1429245707})\n",
            "(23, 64, {'x': 1, 'y': 1429245707})\n",
            "(23, 65, {'x': 1, 'y': 1429245708})\n",
            "(24, 55, {'x': 1, 'y': 1429230469})\n",
            "(24, 56, {'x': 1, 'y': 1429230469})\n",
            "(24, 58, {'x': 1, 'y': 1429230469})\n",
            "(24, 60, {'x': 1, 'y': 1429230469})\n",
            "(24, 61, {'x': 1, 'y': 1429230469})\n",
            "(24, 62, {'x': 1, 'y': 1429230469})\n",
            "(24, 63, {'x': 1, 'y': 1429230469})\n",
            "(24, 64, {'x': 1, 'y': 1429230469})\n",
            "(24, 65, {'x': 1, 'y': 1429230469})\n",
            "(25, 68, {'x': 1, 'y': 1438645025})\n",
            "(25, 69, {'x': 1, 'y': 1443816566})\n",
            "(25, 70, {'x': 1, 'y': 1443816568})\n",
            "(25, 71, {'x': 1, 'y': 1443816568})\n",
            "(25, 72, {'x': 1, 'y': 1443816569})\n",
            "(25, 73, {'x': 1, 'y': 1443816569})\n",
            "(25, 74, {'x': 1, 'y': 1443816569})\n",
            "(25, 75, {'x': 1, 'y': 1443816569})\n"
          ]
        }
      ]
    },
    {
      "cell_type": "code",
      "source": [
        "graph_dict = nx.node_link_data(G)"
      ],
      "metadata": {
        "id": "0NpqpKpvsyWQ"
      },
      "id": "0NpqpKpvsyWQ",
      "execution_count": 61,
      "outputs": []
    },
    {
      "cell_type": "code",
      "source": [
        "graph_dict"
      ],
      "metadata": {
        "colab": {
          "base_uri": "https://localhost:8080/"
        },
        "id": "D-xYfT9CsyaB",
        "outputId": "b8de9f85-7a2f-43c8-9d41-e19f774a12c6"
      },
      "id": "D-xYfT9CsyaB",
      "execution_count": 62,
      "outputs": [
        {
          "output_type": "execute_result",
          "data": {
            "text/plain": [
              "{'directed': False,\n",
              " 'multigraph': False,\n",
              " 'graph': {},\n",
              " 'nodes': [{'id': 1},\n",
              "  {'id': 2},\n",
              "  {'id': 3},\n",
              "  {'id': 4},\n",
              "  {'id': 5},\n",
              "  {'id': 6},\n",
              "  {'id': 7},\n",
              "  {'id': 8},\n",
              "  {'id': 9},\n",
              "  {'id': 10},\n",
              "  {'id': 11},\n",
              "  {'id': 12},\n",
              "  {'id': 13},\n",
              "  {'id': 14},\n",
              "  {'id': 15},\n",
              "  {'id': 16},\n",
              "  {'id': 17},\n",
              "  {'id': 18},\n",
              "  {'id': 19},\n",
              "  {'id': 20},\n",
              "  {'id': 21},\n",
              "  {'id': 22},\n",
              "  {'id': 23},\n",
              "  {'id': 24},\n",
              "  {'id': 25},\n",
              "  {'id': 26},\n",
              "  {'id': 27},\n",
              "  {'id': 28},\n",
              "  {'id': 29},\n",
              "  {'id': 30},\n",
              "  {'id': 31},\n",
              "  {'id': 32},\n",
              "  {'id': 33},\n",
              "  {'id': 34},\n",
              "  {'id': 35},\n",
              "  {'id': 36},\n",
              "  {'id': 37},\n",
              "  {'id': 38},\n",
              "  {'id': 39},\n",
              "  {'id': 40},\n",
              "  {'id': 41},\n",
              "  {'id': 42},\n",
              "  {'id': 43},\n",
              "  {'id': 44},\n",
              "  {'id': 45},\n",
              "  {'id': 46},\n",
              "  {'id': 47},\n",
              "  {'id': 48},\n",
              "  {'id': 49},\n",
              "  {'id': 50},\n",
              "  {'id': 51},\n",
              "  {'id': 52},\n",
              "  {'id': 53},\n",
              "  {'id': 54},\n",
              "  {'id': 55},\n",
              "  {'id': 56},\n",
              "  {'id': 57},\n",
              "  {'id': 58},\n",
              "  {'id': 59},\n",
              "  {'id': 60},\n",
              "  {'id': 61},\n",
              "  {'id': 62},\n",
              "  {'id': 63},\n",
              "  {'id': 64},\n",
              "  {'id': 65},\n",
              "  {'id': 66},\n",
              "  {'id': 67},\n",
              "  {'id': 68},\n",
              "  {'id': 69},\n",
              "  {'id': 70},\n",
              "  {'id': 71},\n",
              "  {'id': 72},\n",
              "  {'id': 73},\n",
              "  {'id': 74},\n",
              "  {'id': 75}],\n",
              " 'links': [{'x': 1, 'y': 1196376970, 'source': 1, 'target': 1},\n",
              "  {'x': 1, 'y': 1196376993, 'source': 1, 'target': 4},\n",
              "  {'x': 1, 'y': 1201269377, 'source': 1, 'target': 5},\n",
              "  {'x': 1, 'y': 1196339644, 'source': 1, 'target': 10},\n",
              "  {'x': 1, 'y': 1189963912, 'source': 1, 'target': 11},\n",
              "  {'x': 1, 'y': 1196349723, 'source': 1, 'target': 12},\n",
              "  {'x': 1, 'y': 1189964085, 'source': 1, 'target': 13},\n",
              "  {'x': 1, 'y': 1189965633, 'source': 1, 'target': 14},\n",
              "  {'x': 1, 'y': 1189964620, 'source': 1, 'target': 15},\n",
              "  {'x': 1, 'y': 1189964966, 'source': 1, 'target': 16},\n",
              "  {'x': 1, 'y': 1189964705, 'source': 1, 'target': 17},\n",
              "  {'x': 1, 'y': 1189965897, 'source': 1, 'target': 18},\n",
              "  {'x': 1, 'y': 1196339617, 'source': 1, 'target': 20},\n",
              "  {'x': 1, 'y': 1192445619, 'source': 1, 'target': 21},\n",
              "  {'x': 1, 'y': 1196327700, 'source': 1, 'target': 22},\n",
              "  {'x': 1, 'y': 1192720101, 'source': 1, 'target': 23},\n",
              "  {'x': 1, 'y': 1196375735, 'source': 1, 'target': 24},\n",
              "  {'x': 1, 'y': 1192720193, 'source': 1, 'target': 25},\n",
              "  {'x': 1, 'y': 1192720352, 'source': 1, 'target': 26},\n",
              "  {'x': 1, 'y': 1192720512, 'source': 1, 'target': 27},\n",
              "  {'x': 1, 'y': 1198775881, 'source': 1, 'target': 30},\n",
              "  {'x': 1, 'y': 1195474109, 'source': 1, 'target': 33},\n",
              "  {'x': 1, 'y': 1196350447, 'source': 1, 'target': 35},\n",
              "  {'x': 1, 'y': 1196375432, 'source': 1, 'target': 36},\n",
              "  {'x': 1, 'y': 1196375700, 'source': 1, 'target': 37},\n",
              "  {'x': 1, 'y': 1198776196, 'source': 1, 'target': 39},\n",
              "  {'x': 1, 'y': 1133661392, 'source': 2, 'target': 2},\n",
              "  {'x': 1, 'y': 1133661420, 'source': 2, 'target': 3},\n",
              "  {'x': 1, 'y': 1154380719, 'source': 3, 'target': 4},\n",
              "  {'x': 1, 'y': 1154380800, 'source': 3, 'target': 5},\n",
              "  {'x': 1, 'y': 1196130107, 'source': 4, 'target': 5},\n",
              "  {'x': 1, 'y': 1192890992, 'source': 4, 'target': 22},\n",
              "  {'x': 1, 'y': 1196130107, 'source': 4, 'target': 34},\n",
              "  {'x': 1, 'y': 1161746778, 'source': 5, 'target': 6},\n",
              "  {'x': 1, 'y': 1188583480, 'source': 6, 'target': 7},\n",
              "  {'x': 1, 'y': 1188583635, 'source': 6, 'target': 8},\n",
              "  {'x': 1, 'y': 1189931983, 'source': 7, 'target': 9},\n",
              "  {'x': 1, 'y': 1190965580, 'source': 8, 'target': 19},\n",
              "  {'x': 1, 'y': 1194613754, 'source': 8, 'target': 29},\n",
              "  {'x': 1, 'y': 1269502240, 'source': 9, 'target': 24},\n",
              "  {'x': 1, 'y': 1329624702, 'source': 10, 'target': 28},\n",
              "  {'x': 1, 'y': 1231392244, 'source': 10, 'target': 47},\n",
              "  {'x': 1, 'y': 1421017659, 'source': 10, 'target': 50},\n",
              "  {'x': 1, 'y': 1424392725, 'source': 10, 'target': 51},\n",
              "  {'x': 1, 'y': 1424582886, 'source': 10, 'target': 52},\n",
              "  {'x': 1, 'y': 1424584999, 'source': 10, 'target': 53},\n",
              "  {'x': 1, 'y': 1426641954, 'source': 10, 'target': 54},\n",
              "  {'x': 1, 'y': 1194628957, 'source': 11, 'target': 30},\n",
              "  {'x': 1, 'y': 1194629028, 'source': 11, 'target': 31},\n",
              "  {'x': 1, 'y': 1194824693, 'source': 12, 'target': 32},\n",
              "  {'x': 1, 'y': 1331927240, 'source': 13, 'target': 36},\n",
              "  {'x': 1, 'y': 1196822297, 'source': 14, 'target': 38},\n",
              "  {'x': 1, 'y': 1198818411, 'source': 15, 'target': 39},\n",
              "  {'x': 1, 'y': 1199659422, 'source': 16, 'target': 40},\n",
              "  {'x': 1, 'y': 1200963231, 'source': 17, 'target': 41},\n",
              "  {'x': 1, 'y': 1200963239, 'source': 17, 'target': 42},\n",
              "  {'x': 1, 'y': 1236651900, 'source': 17, 'target': 48},\n",
              "  {'x': 1, 'y': 1206629670, 'source': 18, 'target': 43},\n",
              "  {'x': 1, 'y': 1264397782, 'source': 18, 'target': 49},\n",
              "  {'x': 1, 'y': 1212273415, 'source': 19, 'target': 44},\n",
              "  {'x': 1, 'y': 1212802423, 'source': 20, 'target': 45},\n",
              "  {'x': 1, 'y': 1212802562, 'source': 20, 'target': 46},\n",
              "  {'x': 1, 'y': 1410430928, 'source': 21, 'target': 47},\n",
              "  {'x': 1, 'y': 1438202325, 'source': 22, 'target': 51},\n",
              "  {'x': 1, 'y': 1438202324, 'source': 22, 'target': 52},\n",
              "  {'x': 1, 'y': 1438202324, 'source': 22, 'target': 66},\n",
              "  {'x': 1, 'y': 1438202325, 'source': 22, 'target': 67},\n",
              "  {'x': 1, 'y': 1429245691, 'source': 23, 'target': 55},\n",
              "  {'x': 1, 'y': 1429245691, 'source': 23, 'target': 56},\n",
              "  {'x': 1, 'y': 1426837698, 'source': 23, 'target': 57},\n",
              "  {'x': 1, 'y': 1429245691, 'source': 23, 'target': 58},\n",
              "  {'x': 1, 'y': 1426837698, 'source': 23, 'target': 59},\n",
              "  {'x': 1, 'y': 1429245702, 'source': 23, 'target': 60},\n",
              "  {'x': 1, 'y': 1429245691, 'source': 23, 'target': 61},\n",
              "  {'x': 1, 'y': 1429245691, 'source': 23, 'target': 62},\n",
              "  {'x': 1, 'y': 1429245707, 'source': 23, 'target': 63},\n",
              "  {'x': 1, 'y': 1429245707, 'source': 23, 'target': 64},\n",
              "  {'x': 1, 'y': 1429245708, 'source': 23, 'target': 65},\n",
              "  {'x': 1, 'y': 1429230469, 'source': 24, 'target': 55},\n",
              "  {'x': 1, 'y': 1429230469, 'source': 24, 'target': 56},\n",
              "  {'x': 1, 'y': 1429230469, 'source': 24, 'target': 58},\n",
              "  {'x': 1, 'y': 1429230469, 'source': 24, 'target': 60},\n",
              "  {'x': 1, 'y': 1429230469, 'source': 24, 'target': 61},\n",
              "  {'x': 1, 'y': 1429230469, 'source': 24, 'target': 62},\n",
              "  {'x': 1, 'y': 1429230469, 'source': 24, 'target': 63},\n",
              "  {'x': 1, 'y': 1429230469, 'source': 24, 'target': 64},\n",
              "  {'x': 1, 'y': 1429230469, 'source': 24, 'target': 65},\n",
              "  {'x': 1, 'y': 1438645025, 'source': 25, 'target': 68},\n",
              "  {'x': 1, 'y': 1443816566, 'source': 25, 'target': 69},\n",
              "  {'x': 1, 'y': 1443816568, 'source': 25, 'target': 70},\n",
              "  {'x': 1, 'y': 1443816568, 'source': 25, 'target': 71},\n",
              "  {'x': 1, 'y': 1443816569, 'source': 25, 'target': 72},\n",
              "  {'x': 1, 'y': 1443816569, 'source': 25, 'target': 73},\n",
              "  {'x': 1, 'y': 1443816569, 'source': 25, 'target': 74},\n",
              "  {'x': 1, 'y': 1443816569, 'source': 25, 'target': 75}]}"
            ]
          },
          "metadata": {},
          "execution_count": 62
        }
      ]
    },
    {
      "cell_type": "code",
      "source": [
        "for node in graph_dict['links']:\n",
        "    del node['x']\n",
        "    del node['y']"
      ],
      "metadata": {
        "id": "8Ingm0phsydI"
      },
      "id": "8Ingm0phsydI",
      "execution_count": 63,
      "outputs": []
    },
    {
      "cell_type": "code",
      "source": [
        "graph_dict"
      ],
      "metadata": {
        "colab": {
          "base_uri": "https://localhost:8080/"
        },
        "id": "cRWy0N4I4lH7",
        "outputId": "7bfc4803-dd25-4775-a494-c6544a2822ec"
      },
      "id": "cRWy0N4I4lH7",
      "execution_count": 122,
      "outputs": [
        {
          "output_type": "execute_result",
          "data": {
            "text/plain": [
              "{'directed': False,\n",
              " 'multigraph': False,\n",
              " 'graph': {},\n",
              " 'nodes': [{'id': 1},\n",
              "  {'id': 2},\n",
              "  {'id': 3},\n",
              "  {'id': 4},\n",
              "  {'id': 5},\n",
              "  {'id': 6},\n",
              "  {'id': 7},\n",
              "  {'id': 8},\n",
              "  {'id': 9},\n",
              "  {'id': 10},\n",
              "  {'id': 11},\n",
              "  {'id': 12},\n",
              "  {'id': 13},\n",
              "  {'id': 14},\n",
              "  {'id': 15},\n",
              "  {'id': 16},\n",
              "  {'id': 17},\n",
              "  {'id': 18},\n",
              "  {'id': 19},\n",
              "  {'id': 20},\n",
              "  {'id': 21},\n",
              "  {'id': 22},\n",
              "  {'id': 23},\n",
              "  {'id': 24},\n",
              "  {'id': 25},\n",
              "  {'id': 26},\n",
              "  {'id': 27},\n",
              "  {'id': 28},\n",
              "  {'id': 29},\n",
              "  {'id': 30},\n",
              "  {'id': 31},\n",
              "  {'id': 32},\n",
              "  {'id': 33},\n",
              "  {'id': 34},\n",
              "  {'id': 35},\n",
              "  {'id': 36},\n",
              "  {'id': 37},\n",
              "  {'id': 38},\n",
              "  {'id': 39},\n",
              "  {'id': 40},\n",
              "  {'id': 41},\n",
              "  {'id': 42},\n",
              "  {'id': 43},\n",
              "  {'id': 44},\n",
              "  {'id': 45},\n",
              "  {'id': 46},\n",
              "  {'id': 47},\n",
              "  {'id': 48},\n",
              "  {'id': 49},\n",
              "  {'id': 50},\n",
              "  {'id': 51},\n",
              "  {'id': 52},\n",
              "  {'id': 53},\n",
              "  {'id': 54},\n",
              "  {'id': 55},\n",
              "  {'id': 56},\n",
              "  {'id': 57},\n",
              "  {'id': 58},\n",
              "  {'id': 59},\n",
              "  {'id': 60},\n",
              "  {'id': 61},\n",
              "  {'id': 62},\n",
              "  {'id': 63},\n",
              "  {'id': 64},\n",
              "  {'id': 65},\n",
              "  {'id': 66},\n",
              "  {'id': 67},\n",
              "  {'id': 68},\n",
              "  {'id': 69},\n",
              "  {'id': 70},\n",
              "  {'id': 71},\n",
              "  {'id': 72},\n",
              "  {'id': 73},\n",
              "  {'id': 74},\n",
              "  {'id': 75}],\n",
              " 'links': [{'source': 1, 'target': 1},\n",
              "  {'source': 1, 'target': 4},\n",
              "  {'source': 1, 'target': 5},\n",
              "  {'source': 1, 'target': 10},\n",
              "  {'source': 1, 'target': 11},\n",
              "  {'source': 1, 'target': 12},\n",
              "  {'source': 1, 'target': 13},\n",
              "  {'source': 1, 'target': 14},\n",
              "  {'source': 1, 'target': 15},\n",
              "  {'source': 1, 'target': 16},\n",
              "  {'source': 1, 'target': 17},\n",
              "  {'source': 1, 'target': 18},\n",
              "  {'source': 1, 'target': 20},\n",
              "  {'source': 1, 'target': 21},\n",
              "  {'source': 1, 'target': 22},\n",
              "  {'source': 1, 'target': 23},\n",
              "  {'source': 1, 'target': 24},\n",
              "  {'source': 1, 'target': 25},\n",
              "  {'source': 1, 'target': 26},\n",
              "  {'source': 1, 'target': 27},\n",
              "  {'source': 1, 'target': 30},\n",
              "  {'source': 1, 'target': 33},\n",
              "  {'source': 1, 'target': 35},\n",
              "  {'source': 1, 'target': 36},\n",
              "  {'source': 1, 'target': 37},\n",
              "  {'source': 1, 'target': 39},\n",
              "  {'source': 2, 'target': 2},\n",
              "  {'source': 2, 'target': 3},\n",
              "  {'source': 3, 'target': 4},\n",
              "  {'source': 3, 'target': 5},\n",
              "  {'source': 4, 'target': 5},\n",
              "  {'source': 4, 'target': 22},\n",
              "  {'source': 4, 'target': 34},\n",
              "  {'source': 5, 'target': 6},\n",
              "  {'source': 6, 'target': 7},\n",
              "  {'source': 6, 'target': 8},\n",
              "  {'source': 7, 'target': 9},\n",
              "  {'source': 8, 'target': 19},\n",
              "  {'source': 8, 'target': 29},\n",
              "  {'source': 9, 'target': 24},\n",
              "  {'source': 10, 'target': 28},\n",
              "  {'source': 10, 'target': 47},\n",
              "  {'source': 10, 'target': 50},\n",
              "  {'source': 10, 'target': 51},\n",
              "  {'source': 10, 'target': 52},\n",
              "  {'source': 10, 'target': 53},\n",
              "  {'source': 10, 'target': 54},\n",
              "  {'source': 11, 'target': 30},\n",
              "  {'source': 11, 'target': 31},\n",
              "  {'source': 12, 'target': 32},\n",
              "  {'source': 13, 'target': 36},\n",
              "  {'source': 14, 'target': 38},\n",
              "  {'source': 15, 'target': 39},\n",
              "  {'source': 16, 'target': 40},\n",
              "  {'source': 17, 'target': 41},\n",
              "  {'source': 17, 'target': 42},\n",
              "  {'source': 17, 'target': 48},\n",
              "  {'source': 18, 'target': 43},\n",
              "  {'source': 18, 'target': 49},\n",
              "  {'source': 19, 'target': 44},\n",
              "  {'source': 20, 'target': 45},\n",
              "  {'source': 20, 'target': 46},\n",
              "  {'source': 21, 'target': 47},\n",
              "  {'source': 22, 'target': 51},\n",
              "  {'source': 22, 'target': 52},\n",
              "  {'source': 22, 'target': 66},\n",
              "  {'source': 22, 'target': 67},\n",
              "  {'source': 23, 'target': 55},\n",
              "  {'source': 23, 'target': 56},\n",
              "  {'source': 23, 'target': 57},\n",
              "  {'source': 23, 'target': 58},\n",
              "  {'source': 23, 'target': 59},\n",
              "  {'source': 23, 'target': 60},\n",
              "  {'source': 23, 'target': 61},\n",
              "  {'source': 23, 'target': 62},\n",
              "  {'source': 23, 'target': 63},\n",
              "  {'source': 23, 'target': 64},\n",
              "  {'source': 23, 'target': 65},\n",
              "  {'source': 24, 'target': 55},\n",
              "  {'source': 24, 'target': 56},\n",
              "  {'source': 24, 'target': 58},\n",
              "  {'source': 24, 'target': 60},\n",
              "  {'source': 24, 'target': 61},\n",
              "  {'source': 24, 'target': 62},\n",
              "  {'source': 24, 'target': 63},\n",
              "  {'source': 24, 'target': 64},\n",
              "  {'source': 24, 'target': 65},\n",
              "  {'source': 25, 'target': 68},\n",
              "  {'source': 25, 'target': 69},\n",
              "  {'source': 25, 'target': 70},\n",
              "  {'source': 25, 'target': 71},\n",
              "  {'source': 25, 'target': 72},\n",
              "  {'source': 25, 'target': 73},\n",
              "  {'source': 25, 'target': 74},\n",
              "  {'source': 25, 'target': 75}]}"
            ]
          },
          "metadata": {},
          "execution_count": 122
        }
      ]
    },
    {
      "cell_type": "code",
      "source": [
        "output = \"graph.json\"\n",
        "with open(output, 'w') as f:\n",
        "    json.dump(graph_dict, f)"
      ],
      "metadata": {
        "id": "BK-d-bG8YkG2"
      },
      "id": "BK-d-bG8YkG2",
      "execution_count": 65,
      "outputs": []
    },
    {
      "cell_type": "markdown",
      "id": "dd85a863-f864-4b7f-b88c-f96c469cbd3c",
      "metadata": {
        "id": "dd85a863-f864-4b7f-b88c-f96c469cbd3c"
      },
      "source": [
        "<p class=\"task\" id=\"5\"></p>\n",
        "\n",
        "5\\. Загрузите граф из файла `data/people.xml`. Идентификатором узла выступает значение атрибута `id`. Значения тегов `age` и `salary` храните в виде атрибутов узлов. Для связей значение тега `type` храните в виде отдельного атрибута ребра. Визуализируйте граф. Сохраните созданный граф в формате graphml.\n",
        "\n",
        "- [ ] Проверено на семинаре"
      ]
    },
    {
      "cell_type": "code",
      "source": [
        "import xml.etree.ElementTree as ET"
      ],
      "metadata": {
        "id": "8CICjFxzt66A"
      },
      "id": "8CICjFxzt66A",
      "execution_count": 67,
      "outputs": []
    },
    {
      "cell_type": "code",
      "source": [
        "file_path = '/content/drive/My Drive/people.xml'"
      ],
      "metadata": {
        "id": "COHd7hWhYkjN"
      },
      "id": "COHd7hWhYkjN",
      "execution_count": 100,
      "outputs": []
    },
    {
      "cell_type": "code",
      "source": [
        "tree = ET.parse(file_path)\n",
        "root = tree.getroot()"
      ],
      "metadata": {
        "id": "yHsjAxSkYkmR"
      },
      "id": "yHsjAxSkYkmR",
      "execution_count": 101,
      "outputs": []
    },
    {
      "cell_type": "code",
      "source": [
        "# <graph>\n",
        "# <!--  Nodes  -->\n",
        "# <node id=\"person1\">\n",
        "# <age>30</age>\n",
        "# <salary>50000</salary>\n",
        "# </node>\n",
        "# <node id=\"person2\">\n",
        "# <age>25</age>\n",
        "# </node>\n",
        "# <node id=\"person3\">\n",
        "# <age>40</age>\n",
        "# <salary>75000</salary>\n",
        "# </node>\n",
        "# <node id=\"person4\">\n",
        "# <age>35</age>\n",
        "# </node>\n",
        "# <!--  Edges  -->\n",
        "# <edge source=\"person1\" target=\"person2\" type=\"friends\"/>\n",
        "# <edge source=\"person1\" target=\"person3\" type=\"work\"/>\n",
        "# <edge source=\"person3\" target=\"person4\" type=\"family\"/>\n",
        "# </graph>"
      ],
      "metadata": {
        "id": "YHLUi-y21nTW"
      },
      "id": "YHLUi-y21nTW",
      "execution_count": 102,
      "outputs": []
    },
    {
      "cell_type": "code",
      "source": [
        "G = nx.DiGraph()"
      ],
      "metadata": {
        "id": "gIN3t5G-Ykpf"
      },
      "id": "gIN3t5G-Ykpf",
      "execution_count": 129,
      "outputs": []
    },
    {
      "cell_type": "code",
      "source": [
        "for node in root.findall('node'):\n",
        "    node_id = node.get('id')\n",
        "    age = node.find('age').text\n",
        "    if node.find('salary'):\n",
        "        salary = node.find('salary').text\n",
        "        G.add_node(node_id, age=age, salary=salary)\n",
        "    else:\n",
        "        G.add_node(node_id, age=age)\n",
        "\n"
      ],
      "metadata": {
        "id": "WE1oyxbRuHNo"
      },
      "id": "WE1oyxbRuHNo",
      "execution_count": 130,
      "outputs": []
    },
    {
      "cell_type": "code",
      "source": [
        "for edge in root.findall('edge'):\n",
        "    source = edge.get('source')\n",
        "    target = edge.get('target')\n",
        "    edge_type = edge.get('type')\n",
        "    G.add_edge(source, target, type=edge_type)"
      ],
      "metadata": {
        "id": "rqwBaclA1HPK"
      },
      "id": "rqwBaclA1HPK",
      "execution_count": 131,
      "outputs": []
    },
    {
      "cell_type": "code",
      "source": [
        "nx.draw(G, with_labels = True)"
      ],
      "metadata": {
        "colab": {
          "base_uri": "https://localhost:8080/",
          "height": 516
        },
        "id": "c7Vk-3NK1jYZ",
        "outputId": "3d655a4e-5b52-462a-bb70-da9bdb1957d0"
      },
      "id": "c7Vk-3NK1jYZ",
      "execution_count": 132,
      "outputs": [
        {
          "output_type": "display_data",
          "data": {
            "text/plain": [
              "<Figure size 640x480 with 1 Axes>"
            ],
            "image/png": "[encoded data removed]"
          },
          "metadata": {}
        }
      ]
    },
    {
      "cell_type": "code",
      "source": [
        "pos = nx.spring_layout(G)\n",
        "nx.draw(G, pos, with_labels=True, node_size=2000, node_color='skyblue')\n",
        "edge_labels = nx.get_edge_attributes(G, 'type')\n",
        "nx.draw_networkx_edge_labels(G, pos, edge_labels=edge_labels)\n",
        "plt.show()"
      ],
      "metadata": {
        "colab": {
          "base_uri": "https://localhost:8080/",
          "height": 516
        },
        "id": "iYo0P47i116u",
        "outputId": "29620db6-6720-45ab-97a0-f8c705f0142b"
      },
      "id": "iYo0P47i116u",
      "execution_count": 133,
      "outputs": [
        {
          "output_type": "display_data",
          "data": {
            "text/plain": [
              "<Figure size 640x480 with 1 Axes>"
            ],
            "image/png": "[encoded data removed]"
          },
          "metadata": {}
        }
      ]
    },
    {
      "cell_type": "code",
      "source": [
        "nx.write_graphml(G, 'people.graphml')"
      ],
      "metadata": {
        "id": "oiJVhLuR2FfN"
      },
      "id": "oiJVhLuR2FfN",
      "execution_count": 134,
      "outputs": []
    },
    {
      "cell_type": "code",
      "source": [],
      "metadata": {
        "id": "kill880W-HGd"
      },
      "id": "kill880W-HGd",
      "execution_count": null,
      "outputs": []
    }
  ],
  "metadata": {
    "kernelspec": {
      "display_name": "Python 3 (ipykernel)",
      "language": "python",
      "name": "python3"
    },
    "language_info": {
      "codemirror_mode": {
        "name": "ipython",
        "version": 3
      },
      "file_extension": ".py",
      "mimetype": "text/x-python",
      "name": "python",
      "nbconvert_exporter": "python",
      "pygments_lexer": "ipython3",
      "version": "3.10.0"
    },
    "colab": {
      "provenance": []
    }
  },
  "nbformat": 4,
  "nbformat_minor": 5
}